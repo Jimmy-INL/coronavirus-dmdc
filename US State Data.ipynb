{
 "cells": [
  {
   "cell_type": "markdown",
   "metadata": {},
   "source": [
    "# Discovering Dynamic Patterns from Coronavirus Data using Dynamic Mode Decomposition with Control: US State Data"
   ]
  },
  {
   "cell_type": "markdown",
   "metadata": {},
   "source": [
    "## Import Data"
   ]
  },
  {
   "cell_type": "code",
   "execution_count": 1,
   "metadata": {},
   "outputs": [],
   "source": [
    "# package imports\n",
    "import pandas as pd\n",
    "import matplotlib.pyplot as plt\n",
    "from sklearn import preprocessing\n",
    "import numpy as np\n",
    "from pydmd import DMD,DMDc\n",
    "from datetime import timedelta, date, datetime\n",
    "import re \n",
    "from urllib.request import urlopen\n",
    "import json\n",
    "import plotly.express as px"
   ]
  },
  {
   "cell_type": "code",
   "execution_count": 2,
   "metadata": {},
   "outputs": [],
   "source": [
    "# import csse_covid_19_daily_reports\n",
    "\n",
    "# create data frame:\n",
    "# list of states\n",
    "states = [\"Alabama\",\"Alaska\",\"Arizona\",\"Arkansas\",\"California\",\"Colorado\",\n",
    "  \"Connecticut\",\"Delaware\",\"Florida\",\"Georgia\",\"Hawaii\",\"Idaho\",\"Illinois\",\n",
    "  \"Indiana\",\"Iowa\",\"Kansas\",\"Kentucky\",\"Louisiana\",\"Maine\",\"Maryland\",\n",
    "  \"Massachusetts\",\"Michigan\",\"Minnesota\",\"Mississippi\",\"Missouri\",\"Montana\",\n",
    "  \"Nebraska\",\"Nevada\",\"New Hampshire\",\"New Jersey\",\"New Mexico\",\"New York\",\n",
    "  \"North Carolina\",\"North Dakota\",\"Ohio\",\"Oklahoma\",\"Oregon\",\"Pennsylvania\",\n",
    "  \"Rhode Island\",\"South Carolina\",\"South Dakota\",\"Tennessee\",\"Texas\",\"Utah\",\n",
    "  \"Vermont\",\"Virginia\",\"Washington\",\"West Virginia\",\"Wisconsin\",\"Wyoming\"]\n",
    "\n",
    "\n",
    "statesA = [\"AL\", \"AK\", \"AZ\", \"AR\", \"CA\", \"CO\", \"CT\", \"DE\", \"FL\", \"GA\", \n",
    "          \"HI\", \"ID\", \"IL\", \"IN\", \"IA\", \"KS\", \"KY\", \"LA\", \"ME\", \"MD\", \n",
    "          \"MA\", \"MI\", \"MN\", \"MS\", \"MO\", \"MT\", \"NE\", \"NV\", \"NH\", \"NJ\", \n",
    "          \"NM\", \"NY\", \"NC\", \"ND\", \"OH\", \"OK\", \"OR\", \"PA\", \"RI\", \"SC\", \n",
    "          \"SD\", \"TN\", \"TX\", \"UT\", \"VT\", \"VA\", \"WA\", \"WV\", \"WI\", \"WY\"]\n"
   ]
  },
  {
   "cell_type": "code",
   "execution_count": 10,
   "metadata": {},
   "outputs": [],
   "source": [
    "# add later date data\n",
    "\n",
    "rowsum = pd.DataFrame()\n",
    "stateData = pd.DataFrame()\n",
    "threshold = 2; # threshold for minimum number of days cutoff"
   ]
  },
  {
   "cell_type": "code",
   "execution_count": 11,
   "metadata": {},
   "outputs": [],
   "source": [
    "start_date = date(2020, 1, 22)\n",
    "end_date = date(2020, 1, 31)\n",
    "\n",
    "for single_date in pd.date_range(start_date, end_date):\n",
    "    newStateData = pd.DataFrame()\n",
    "    url = 'https://raw.githubusercontent.com/CSSEGISandData/COVID-19/master/csse_covid_19_data/csse_covid_19_daily_reports/'+ single_date.strftime(\"%m-%d-%Y\") +'.csv'\n",
    "    daily = pd.read_csv(url, error_bad_lines=False)\n",
    "    for state in states:\n",
    "        totalInState = daily.loc[daily['Province/State'] == state]\n",
    "        title = totalInState.loc[:,'Province/State':'Province/State']\n",
    "        if totalInState.empty == False:\n",
    "            title = title.iloc[[0],:]\n",
    "            rowSum = pd.DataFrame(totalInState.loc[:,'Confirmed':].sum())\n",
    "            if (np.transpose(rowSum).Confirmed.all()>=threshold): #for threshold\n",
    "                newStateData = pd.concat([newStateData,title.reset_index().join(rowSum.iloc[0].rename(single_date.strftime(\"%m-%d-%Y\")))])\n",
    "    if (newStateData.empty == False): #for threshold\n",
    "        newStateData = newStateData.set_index('Province/State').drop(columns=['index'])\n",
    "        stateData = pd.concat([stateData,newStateData],axis=1)"
   ]
  },
  {
   "cell_type": "code",
   "execution_count": 12,
   "metadata": {},
   "outputs": [],
   "source": [
    "start_date = date(2020, 2, 1)\n",
    "end_date = date(2020, 3, 9)\n",
    "\n",
    "for single_date in pd.date_range(start_date, end_date):\n",
    "    stateIter = iter(states)\n",
    "    newStateData = pd.DataFrame()\n",
    "    url = 'https://raw.githubusercontent.com/CSSEGISandData/COVID-19/master/csse_covid_19_data/csse_covid_19_daily_reports/'+ single_date.strftime(\"%m-%d-%Y\") +'.csv'\n",
    "    daily = pd.read_csv(url, error_bad_lines=False)\n",
    "\n",
    "    for state in statesA:\n",
    "        stateName = next(stateIter)\n",
    "        totalInState = daily.loc[daily['Country/Region'] == 'US']\n",
    "        totalInState = totalInState.loc[totalInState['Province/State'].str.contains(state)]\n",
    "        if totalInState.empty == False:\n",
    "            title = totalInState.loc[:,'Province/State':'Province/State']\n",
    "            title = title.iloc[[0],:]\n",
    "            title.at[:,'Province/State']= stateName\n",
    "            rowSum = pd.DataFrame(totalInState.loc[:,'Confirmed':].sum())\n",
    "            if (np.transpose(rowSum).Confirmed.all()>=threshold):\n",
    "                newStateData = pd.concat([newStateData,title.reset_index().join(rowSum.iloc[0].rename(single_date.strftime(\"%m-%d-%Y\")))])\n",
    "    if (newStateData.empty == False):\n",
    "        newStateData = newStateData.set_index('Province/State').drop(columns=['index'])\n",
    "        stateData = pd.concat([stateData,newStateData],axis=1)"
   ]
  },
  {
   "cell_type": "code",
   "execution_count": 13,
   "metadata": {},
   "outputs": [],
   "source": [
    "start_date = date(2020, 3, 10)\n",
    "end_date = date(2020, 3, 21)\n",
    "\n",
    "for single_date in pd.date_range(start_date, end_date):\n",
    "    newStateData = pd.DataFrame()\n",
    "    url = 'https://raw.githubusercontent.com/CSSEGISandData/COVID-19/master/csse_covid_19_data/csse_covid_19_daily_reports/'+ single_date.strftime(\"%m-%d-%Y\") +'.csv'\n",
    "    daily = pd.read_csv(url, error_bad_lines=False)\n",
    "    for state in states:\n",
    "        totalInState = daily.loc[daily['Province/State'] == state]\n",
    "        title = totalInState.loc[:,'Province/State':'Province/State']\n",
    "        if (totalInState.empty == False):\n",
    "                title = title.iloc[[0],:]\n",
    "                rowSum = pd.DataFrame(totalInState.loc[:,'Confirmed':].sum())\n",
    "                if (np.transpose(rowSum).Confirmed.all()>=threshold):\n",
    "                    newStateData = pd.concat([newStateData,title.reset_index().join(rowSum.iloc[0].rename(single_date.strftime(\"%m-%d-%Y\")))])\n",
    "    if (newStateData.empty == False):\n",
    "        newStateData = newStateData.set_index('Province/State').drop(columns=['index'])\n",
    "        stateData = pd.concat([stateData,newStateData],axis=1)\n"
   ]
  },
  {
   "cell_type": "code",
   "execution_count": 14,
   "metadata": {},
   "outputs": [],
   "source": [
    "start_date = date(2020, 3, 22)\n",
    "end_date = end_date = datetime.date(datetime.now())\n",
    "\n",
    "for single_date in pd.date_range(start_date, end_date):\n",
    "    newStateData = pd.DataFrame()\n",
    "    url = 'https://raw.githubusercontent.com/CSSEGISandData/COVID-19/master/csse_covid_19_data/csse_covid_19_daily_reports/'+ single_date.strftime(\"%m-%d-%Y\") +'.csv'\n",
    "    try:\n",
    "        daily = pd.read_csv(url, error_bad_lines=False)\n",
    "        for state in states:\n",
    "            totalInState = daily.loc[daily['Province_State'] == state]\n",
    "            title = totalInState.loc[:,'Province_State':'Province_State']\n",
    "            if totalInState.empty == False:\n",
    "                title = title.iloc[[0],:]\n",
    "                rowSum = pd.DataFrame(totalInState.loc[:,'Confirmed':].sum())\n",
    "                if (np.transpose(rowSum).Confirmed.all()>=threshold):\n",
    "                    newStateData = pd.concat([newStateData,title.reset_index().join(rowSum.iloc[0].rename(single_date.strftime(\"%m-%d-%Y\")))])\n",
    "        if (newStateData.empty == False):\n",
    "            newStateData = newStateData.set_index('Province_State').drop(columns=['index'])\n",
    "            stateData = pd.concat([stateData,newStateData],axis=1)\n",
    "    except:\n",
    "        print('Todays file has not yet been uploaded')"
   ]
  },
  {
   "cell_type": "code",
   "execution_count": 16,
   "metadata": {},
   "outputs": [
    {
     "data": {
      "text/html": [
       "<div>\n",
       "<style scoped>\n",
       "    .dataframe tbody tr th:only-of-type {\n",
       "        vertical-align: middle;\n",
       "    }\n",
       "\n",
       "    .dataframe tbody tr th {\n",
       "        vertical-align: top;\n",
       "    }\n",
       "\n",
       "    .dataframe thead th {\n",
       "        text-align: right;\n",
       "    }\n",
       "</style>\n",
       "<table border=\"1\" class=\"dataframe\">\n",
       "  <thead>\n",
       "    <tr style=\"text-align: right;\">\n",
       "      <th></th>\n",
       "      <th>03-22-2020</th>\n",
       "      <th>03-23-2020</th>\n",
       "      <th>03-24-2020</th>\n",
       "      <th>03-25-2020</th>\n",
       "      <th>03-26-2020</th>\n",
       "      <th>03-27-2020</th>\n",
       "      <th>03-28-2020</th>\n",
       "      <th>03-29-2020</th>\n",
       "      <th>03-30-2020</th>\n",
       "      <th>03-31-2020</th>\n",
       "      <th>...</th>\n",
       "      <th>04-10-2020</th>\n",
       "      <th>04-11-2020</th>\n",
       "      <th>04-12-2020</th>\n",
       "      <th>04-13-2020</th>\n",
       "      <th>04-14-2020</th>\n",
       "      <th>04-15-2020</th>\n",
       "      <th>04-16-2020</th>\n",
       "      <th>04-17-2020</th>\n",
       "      <th>04-18-2020</th>\n",
       "      <th>04-19-2020</th>\n",
       "    </tr>\n",
       "    <tr>\n",
       "      <th>Province_State</th>\n",
       "      <th></th>\n",
       "      <th></th>\n",
       "      <th></th>\n",
       "      <th></th>\n",
       "      <th></th>\n",
       "      <th></th>\n",
       "      <th></th>\n",
       "      <th></th>\n",
       "      <th></th>\n",
       "      <th></th>\n",
       "      <th></th>\n",
       "      <th></th>\n",
       "      <th></th>\n",
       "      <th></th>\n",
       "      <th></th>\n",
       "      <th></th>\n",
       "      <th></th>\n",
       "      <th></th>\n",
       "      <th></th>\n",
       "      <th></th>\n",
       "      <th></th>\n",
       "    </tr>\n",
       "  </thead>\n",
       "  <tbody>\n",
       "    <tr>\n",
       "      <th>Alabama</th>\n",
       "      <td>157</td>\n",
       "      <td>196</td>\n",
       "      <td>242</td>\n",
       "      <td>381</td>\n",
       "      <td>517</td>\n",
       "      <td>587</td>\n",
       "      <td>694</td>\n",
       "      <td>825</td>\n",
       "      <td>899</td>\n",
       "      <td>987</td>\n",
       "      <td>...</td>\n",
       "      <td>2947</td>\n",
       "      <td>3217</td>\n",
       "      <td>3563</td>\n",
       "      <td>3734</td>\n",
       "      <td>3953</td>\n",
       "      <td>4075</td>\n",
       "      <td>4345</td>\n",
       "      <td>4571</td>\n",
       "      <td>4712</td>\n",
       "      <td>4888</td>\n",
       "    </tr>\n",
       "    <tr>\n",
       "      <th>Alaska</th>\n",
       "      <td>20</td>\n",
       "      <td>30</td>\n",
       "      <td>34</td>\n",
       "      <td>41</td>\n",
       "      <td>56</td>\n",
       "      <td>58</td>\n",
       "      <td>85</td>\n",
       "      <td>102</td>\n",
       "      <td>114</td>\n",
       "      <td>119</td>\n",
       "      <td>...</td>\n",
       "      <td>246</td>\n",
       "      <td>257</td>\n",
       "      <td>272</td>\n",
       "      <td>277</td>\n",
       "      <td>285</td>\n",
       "      <td>293</td>\n",
       "      <td>300</td>\n",
       "      <td>309</td>\n",
       "      <td>314</td>\n",
       "      <td>319</td>\n",
       "    </tr>\n",
       "    <tr>\n",
       "      <th>Arizona</th>\n",
       "      <td>152</td>\n",
       "      <td>235</td>\n",
       "      <td>326</td>\n",
       "      <td>401</td>\n",
       "      <td>508</td>\n",
       "      <td>665</td>\n",
       "      <td>773</td>\n",
       "      <td>919</td>\n",
       "      <td>1157</td>\n",
       "      <td>1289</td>\n",
       "      <td>...</td>\n",
       "      <td>3112</td>\n",
       "      <td>3393</td>\n",
       "      <td>3542</td>\n",
       "      <td>3705</td>\n",
       "      <td>3809</td>\n",
       "      <td>3964</td>\n",
       "      <td>4237</td>\n",
       "      <td>4511</td>\n",
       "      <td>4724</td>\n",
       "      <td>4933</td>\n",
       "    </tr>\n",
       "    <tr>\n",
       "      <th>Arkansas</th>\n",
       "      <td>165</td>\n",
       "      <td>192</td>\n",
       "      <td>219</td>\n",
       "      <td>280</td>\n",
       "      <td>335</td>\n",
       "      <td>381</td>\n",
       "      <td>409</td>\n",
       "      <td>426</td>\n",
       "      <td>473</td>\n",
       "      <td>523</td>\n",
       "      <td>...</td>\n",
       "      <td>1171</td>\n",
       "      <td>1228</td>\n",
       "      <td>1280</td>\n",
       "      <td>1410</td>\n",
       "      <td>1498</td>\n",
       "      <td>1569</td>\n",
       "      <td>1620</td>\n",
       "      <td>1695</td>\n",
       "      <td>1744</td>\n",
       "      <td>1781</td>\n",
       "    </tr>\n",
       "    <tr>\n",
       "      <th>California</th>\n",
       "      <td>1646</td>\n",
       "      <td>2108</td>\n",
       "      <td>2538</td>\n",
       "      <td>2998</td>\n",
       "      <td>3899</td>\n",
       "      <td>4657</td>\n",
       "      <td>5095</td>\n",
       "      <td>5852</td>\n",
       "      <td>7138</td>\n",
       "      <td>8210</td>\n",
       "      <td>...</td>\n",
       "      <td>21081</td>\n",
       "      <td>21706</td>\n",
       "      <td>22795</td>\n",
       "      <td>23931</td>\n",
       "      <td>25356</td>\n",
       "      <td>26686</td>\n",
       "      <td>27677</td>\n",
       "      <td>29157</td>\n",
       "      <td>30491</td>\n",
       "      <td>31431</td>\n",
       "    </tr>\n",
       "    <tr>\n",
       "      <th>Colorado</th>\n",
       "      <td>591</td>\n",
       "      <td>704</td>\n",
       "      <td>723</td>\n",
       "      <td>1021</td>\n",
       "      <td>1430</td>\n",
       "      <td>1433</td>\n",
       "      <td>1740</td>\n",
       "      <td>2307</td>\n",
       "      <td>2311</td>\n",
       "      <td>2966</td>\n",
       "      <td>...</td>\n",
       "      <td>6202</td>\n",
       "      <td>6513</td>\n",
       "      <td>7307</td>\n",
       "      <td>7691</td>\n",
       "      <td>7950</td>\n",
       "      <td>7956</td>\n",
       "      <td>8286</td>\n",
       "      <td>8691</td>\n",
       "      <td>9047</td>\n",
       "      <td>9730</td>\n",
       "    </tr>\n",
       "    <tr>\n",
       "      <th>Connecticut</th>\n",
       "      <td>327</td>\n",
       "      <td>415</td>\n",
       "      <td>618</td>\n",
       "      <td>875</td>\n",
       "      <td>1012</td>\n",
       "      <td>1291</td>\n",
       "      <td>1524</td>\n",
       "      <td>1993</td>\n",
       "      <td>2571</td>\n",
       "      <td>3128</td>\n",
       "      <td>...</td>\n",
       "      <td>10538</td>\n",
       "      <td>11510</td>\n",
       "      <td>12035</td>\n",
       "      <td>13381</td>\n",
       "      <td>13989</td>\n",
       "      <td>14755</td>\n",
       "      <td>15884</td>\n",
       "      <td>16809</td>\n",
       "      <td>17550</td>\n",
       "      <td>17962</td>\n",
       "    </tr>\n",
       "    <tr>\n",
       "      <th>Delaware</th>\n",
       "      <td>56</td>\n",
       "      <td>68</td>\n",
       "      <td>104</td>\n",
       "      <td>119</td>\n",
       "      <td>130</td>\n",
       "      <td>163</td>\n",
       "      <td>214</td>\n",
       "      <td>232</td>\n",
       "      <td>264</td>\n",
       "      <td>319</td>\n",
       "      <td>...</td>\n",
       "      <td>1326</td>\n",
       "      <td>1479</td>\n",
       "      <td>1625</td>\n",
       "      <td>1758</td>\n",
       "      <td>1926</td>\n",
       "      <td>2014</td>\n",
       "      <td>2070</td>\n",
       "      <td>2317</td>\n",
       "      <td>2538</td>\n",
       "      <td>2538</td>\n",
       "    </tr>\n",
       "    <tr>\n",
       "      <th>Florida</th>\n",
       "      <td>1004</td>\n",
       "      <td>1227</td>\n",
       "      <td>1412</td>\n",
       "      <td>1682</td>\n",
       "      <td>2357</td>\n",
       "      <td>2900</td>\n",
       "      <td>3763</td>\n",
       "      <td>4246</td>\n",
       "      <td>5473</td>\n",
       "      <td>6741</td>\n",
       "      <td>...</td>\n",
       "      <td>17531</td>\n",
       "      <td>18494</td>\n",
       "      <td>19895</td>\n",
       "      <td>21019</td>\n",
       "      <td>21628</td>\n",
       "      <td>22511</td>\n",
       "      <td>23343</td>\n",
       "      <td>24759</td>\n",
       "      <td>25492</td>\n",
       "      <td>26314</td>\n",
       "    </tr>\n",
       "    <tr>\n",
       "      <th>Georgia</th>\n",
       "      <td>621</td>\n",
       "      <td>772</td>\n",
       "      <td>1026</td>\n",
       "      <td>1247</td>\n",
       "      <td>1525</td>\n",
       "      <td>2000</td>\n",
       "      <td>2366</td>\n",
       "      <td>2651</td>\n",
       "      <td>2808</td>\n",
       "      <td>3929</td>\n",
       "      <td>...</td>\n",
       "      <td>11485</td>\n",
       "      <td>12159</td>\n",
       "      <td>12452</td>\n",
       "      <td>13315</td>\n",
       "      <td>14578</td>\n",
       "      <td>14987</td>\n",
       "      <td>15669</td>\n",
       "      <td>17194</td>\n",
       "      <td>17669</td>\n",
       "      <td>18301</td>\n",
       "    </tr>\n",
       "    <tr>\n",
       "      <th>Hawaii</th>\n",
       "      <td>53</td>\n",
       "      <td>56</td>\n",
       "      <td>90</td>\n",
       "      <td>91</td>\n",
       "      <td>95</td>\n",
       "      <td>106</td>\n",
       "      <td>149</td>\n",
       "      <td>149</td>\n",
       "      <td>175</td>\n",
       "      <td>204</td>\n",
       "      <td>...</td>\n",
       "      <td>442</td>\n",
       "      <td>465</td>\n",
       "      <td>499</td>\n",
       "      <td>504</td>\n",
       "      <td>511</td>\n",
       "      <td>524</td>\n",
       "      <td>530</td>\n",
       "      <td>541</td>\n",
       "      <td>574</td>\n",
       "      <td>580</td>\n",
       "    </tr>\n",
       "    <tr>\n",
       "      <th>Idaho</th>\n",
       "      <td>42</td>\n",
       "      <td>68</td>\n",
       "      <td>81</td>\n",
       "      <td>91</td>\n",
       "      <td>146</td>\n",
       "      <td>205</td>\n",
       "      <td>234</td>\n",
       "      <td>281</td>\n",
       "      <td>340</td>\n",
       "      <td>515</td>\n",
       "      <td>...</td>\n",
       "      <td>1354</td>\n",
       "      <td>1396</td>\n",
       "      <td>1407</td>\n",
       "      <td>1426</td>\n",
       "      <td>1464</td>\n",
       "      <td>1473</td>\n",
       "      <td>1587</td>\n",
       "      <td>1609</td>\n",
       "      <td>1655</td>\n",
       "      <td>1668</td>\n",
       "    </tr>\n",
       "    <tr>\n",
       "      <th>Illinois</th>\n",
       "      <td>1049</td>\n",
       "      <td>1285</td>\n",
       "      <td>1537</td>\n",
       "      <td>1865</td>\n",
       "      <td>2538</td>\n",
       "      <td>3024</td>\n",
       "      <td>3491</td>\n",
       "      <td>4596</td>\n",
       "      <td>5056</td>\n",
       "      <td>5994</td>\n",
       "      <td>...</td>\n",
       "      <td>17887</td>\n",
       "      <td>19180</td>\n",
       "      <td>20852</td>\n",
       "      <td>22025</td>\n",
       "      <td>23248</td>\n",
       "      <td>24593</td>\n",
       "      <td>25734</td>\n",
       "      <td>27578</td>\n",
       "      <td>29160</td>\n",
       "      <td>30357</td>\n",
       "    </tr>\n",
       "    <tr>\n",
       "      <th>Indiana</th>\n",
       "      <td>204</td>\n",
       "      <td>270</td>\n",
       "      <td>368</td>\n",
       "      <td>477</td>\n",
       "      <td>645</td>\n",
       "      <td>979</td>\n",
       "      <td>1233</td>\n",
       "      <td>1513</td>\n",
       "      <td>1786</td>\n",
       "      <td>2158</td>\n",
       "      <td>...</td>\n",
       "      <td>6907</td>\n",
       "      <td>7435</td>\n",
       "      <td>7928</td>\n",
       "      <td>8359</td>\n",
       "      <td>8527</td>\n",
       "      <td>8960</td>\n",
       "      <td>9542</td>\n",
       "      <td>10154</td>\n",
       "      <td>10641</td>\n",
       "      <td>11211</td>\n",
       "    </tr>\n",
       "    <tr>\n",
       "      <th>Iowa</th>\n",
       "      <td>90</td>\n",
       "      <td>105</td>\n",
       "      <td>124</td>\n",
       "      <td>146</td>\n",
       "      <td>179</td>\n",
       "      <td>235</td>\n",
       "      <td>298</td>\n",
       "      <td>336</td>\n",
       "      <td>424</td>\n",
       "      <td>497</td>\n",
       "      <td>...</td>\n",
       "      <td>1388</td>\n",
       "      <td>1510</td>\n",
       "      <td>1587</td>\n",
       "      <td>1710</td>\n",
       "      <td>1899</td>\n",
       "      <td>1995</td>\n",
       "      <td>2141</td>\n",
       "      <td>2332</td>\n",
       "      <td>2513</td>\n",
       "      <td>2902</td>\n",
       "    </tr>\n",
       "    <tr>\n",
       "      <th>Kansas</th>\n",
       "      <td>65</td>\n",
       "      <td>84</td>\n",
       "      <td>100</td>\n",
       "      <td>134</td>\n",
       "      <td>172</td>\n",
       "      <td>206</td>\n",
       "      <td>266</td>\n",
       "      <td>330</td>\n",
       "      <td>372</td>\n",
       "      <td>434</td>\n",
       "      <td>...</td>\n",
       "      <td>1117</td>\n",
       "      <td>1275</td>\n",
       "      <td>1344</td>\n",
       "      <td>1390</td>\n",
       "      <td>1441</td>\n",
       "      <td>1504</td>\n",
       "      <td>1615</td>\n",
       "      <td>1730</td>\n",
       "      <td>1821</td>\n",
       "      <td>1905</td>\n",
       "    </tr>\n",
       "    <tr>\n",
       "      <th>Kentucky</th>\n",
       "      <td>103</td>\n",
       "      <td>123</td>\n",
       "      <td>162</td>\n",
       "      <td>197</td>\n",
       "      <td>247</td>\n",
       "      <td>301</td>\n",
       "      <td>380</td>\n",
       "      <td>438</td>\n",
       "      <td>479</td>\n",
       "      <td>628</td>\n",
       "      <td>...</td>\n",
       "      <td>1693</td>\n",
       "      <td>1693</td>\n",
       "      <td>1963</td>\n",
       "      <td>2018</td>\n",
       "      <td>2048</td>\n",
       "      <td>2210</td>\n",
       "      <td>2435</td>\n",
       "      <td>2522</td>\n",
       "      <td>2707</td>\n",
       "      <td>2960</td>\n",
       "    </tr>\n",
       "    <tr>\n",
       "      <th>Louisiana</th>\n",
       "      <td>837</td>\n",
       "      <td>1172</td>\n",
       "      <td>1388</td>\n",
       "      <td>1795</td>\n",
       "      <td>2304</td>\n",
       "      <td>2744</td>\n",
       "      <td>3315</td>\n",
       "      <td>3540</td>\n",
       "      <td>4025</td>\n",
       "      <td>5237</td>\n",
       "      <td>...</td>\n",
       "      <td>19253</td>\n",
       "      <td>20014</td>\n",
       "      <td>20595</td>\n",
       "      <td>21016</td>\n",
       "      <td>21518</td>\n",
       "      <td>21951</td>\n",
       "      <td>22532</td>\n",
       "      <td>23118</td>\n",
       "      <td>23580</td>\n",
       "      <td>23928</td>\n",
       "    </tr>\n",
       "    <tr>\n",
       "      <th>Maine</th>\n",
       "      <td>89</td>\n",
       "      <td>107</td>\n",
       "      <td>118</td>\n",
       "      <td>142</td>\n",
       "      <td>155</td>\n",
       "      <td>168</td>\n",
       "      <td>211</td>\n",
       "      <td>253</td>\n",
       "      <td>275</td>\n",
       "      <td>303</td>\n",
       "      <td>...</td>\n",
       "      <td>586</td>\n",
       "      <td>616</td>\n",
       "      <td>633</td>\n",
       "      <td>698</td>\n",
       "      <td>735</td>\n",
       "      <td>770</td>\n",
       "      <td>796</td>\n",
       "      <td>827</td>\n",
       "      <td>847</td>\n",
       "      <td>867</td>\n",
       "    </tr>\n",
       "    <tr>\n",
       "      <th>Maryland</th>\n",
       "      <td>244</td>\n",
       "      <td>290</td>\n",
       "      <td>349</td>\n",
       "      <td>425</td>\n",
       "      <td>583</td>\n",
       "      <td>775</td>\n",
       "      <td>995</td>\n",
       "      <td>1239</td>\n",
       "      <td>1413</td>\n",
       "      <td>1660</td>\n",
       "      <td>...</td>\n",
       "      <td>6968</td>\n",
       "      <td>7694</td>\n",
       "      <td>8225</td>\n",
       "      <td>8936</td>\n",
       "      <td>9472</td>\n",
       "      <td>10032</td>\n",
       "      <td>10784</td>\n",
       "      <td>11572</td>\n",
       "      <td>12326</td>\n",
       "      <td>12847</td>\n",
       "    </tr>\n",
       "    <tr>\n",
       "      <th>Massachusetts</th>\n",
       "      <td>646</td>\n",
       "      <td>777</td>\n",
       "      <td>1159</td>\n",
       "      <td>1838</td>\n",
       "      <td>2417</td>\n",
       "      <td>3240</td>\n",
       "      <td>4257</td>\n",
       "      <td>4955</td>\n",
       "      <td>5752</td>\n",
       "      <td>6620</td>\n",
       "      <td>...</td>\n",
       "      <td>20974</td>\n",
       "      <td>22860</td>\n",
       "      <td>25475</td>\n",
       "      <td>26867</td>\n",
       "      <td>28164</td>\n",
       "      <td>29918</td>\n",
       "      <td>32181</td>\n",
       "      <td>34402</td>\n",
       "      <td>36372</td>\n",
       "      <td>38077</td>\n",
       "    </tr>\n",
       "    <tr>\n",
       "      <th>Michigan</th>\n",
       "      <td>1035</td>\n",
       "      <td>1329</td>\n",
       "      <td>1793</td>\n",
       "      <td>2296</td>\n",
       "      <td>2845</td>\n",
       "      <td>3634</td>\n",
       "      <td>4650</td>\n",
       "      <td>5488</td>\n",
       "      <td>6498</td>\n",
       "      <td>7615</td>\n",
       "      <td>...</td>\n",
       "      <td>22434</td>\n",
       "      <td>23605</td>\n",
       "      <td>24244</td>\n",
       "      <td>25635</td>\n",
       "      <td>27001</td>\n",
       "      <td>28059</td>\n",
       "      <td>28809</td>\n",
       "      <td>30023</td>\n",
       "      <td>30791</td>\n",
       "      <td>31424</td>\n",
       "    </tr>\n",
       "    <tr>\n",
       "      <th>Minnesota</th>\n",
       "      <td>167</td>\n",
       "      <td>234</td>\n",
       "      <td>261</td>\n",
       "      <td>286</td>\n",
       "      <td>344</td>\n",
       "      <td>396</td>\n",
       "      <td>441</td>\n",
       "      <td>503</td>\n",
       "      <td>576</td>\n",
       "      <td>629</td>\n",
       "      <td>...</td>\n",
       "      <td>1336</td>\n",
       "      <td>1427</td>\n",
       "      <td>1621</td>\n",
       "      <td>1621</td>\n",
       "      <td>1695</td>\n",
       "      <td>1809</td>\n",
       "      <td>1809</td>\n",
       "      <td>2070</td>\n",
       "      <td>2209</td>\n",
       "      <td>2356</td>\n",
       "    </tr>\n",
       "    <tr>\n",
       "      <th>Mississippi</th>\n",
       "      <td>207</td>\n",
       "      <td>249</td>\n",
       "      <td>320</td>\n",
       "      <td>377</td>\n",
       "      <td>485</td>\n",
       "      <td>579</td>\n",
       "      <td>663</td>\n",
       "      <td>759</td>\n",
       "      <td>847</td>\n",
       "      <td>937</td>\n",
       "      <td>...</td>\n",
       "      <td>2469</td>\n",
       "      <td>2642</td>\n",
       "      <td>2781</td>\n",
       "      <td>2942</td>\n",
       "      <td>3087</td>\n",
       "      <td>3360</td>\n",
       "      <td>3624</td>\n",
       "      <td>3793</td>\n",
       "      <td>3974</td>\n",
       "      <td>4274</td>\n",
       "    </tr>\n",
       "    <tr>\n",
       "      <th>Missouri</th>\n",
       "      <td>87</td>\n",
       "      <td>187</td>\n",
       "      <td>257</td>\n",
       "      <td>354</td>\n",
       "      <td>520</td>\n",
       "      <td>666</td>\n",
       "      <td>836</td>\n",
       "      <td>915</td>\n",
       "      <td>1051</td>\n",
       "      <td>1357</td>\n",
       "      <td>...</td>\n",
       "      <td>3897</td>\n",
       "      <td>4108</td>\n",
       "      <td>4269</td>\n",
       "      <td>4515</td>\n",
       "      <td>4746</td>\n",
       "      <td>4791</td>\n",
       "      <td>5174</td>\n",
       "      <td>5371</td>\n",
       "      <td>5579</td>\n",
       "      <td>5743</td>\n",
       "    </tr>\n",
       "    <tr>\n",
       "      <th>Montana</th>\n",
       "      <td>34</td>\n",
       "      <td>34</td>\n",
       "      <td>51</td>\n",
       "      <td>65</td>\n",
       "      <td>90</td>\n",
       "      <td>109</td>\n",
       "      <td>129</td>\n",
       "      <td>154</td>\n",
       "      <td>171</td>\n",
       "      <td>198</td>\n",
       "      <td>...</td>\n",
       "      <td>365</td>\n",
       "      <td>377</td>\n",
       "      <td>387</td>\n",
       "      <td>394</td>\n",
       "      <td>399</td>\n",
       "      <td>404</td>\n",
       "      <td>415</td>\n",
       "      <td>422</td>\n",
       "      <td>426</td>\n",
       "      <td>433</td>\n",
       "    </tr>\n",
       "    <tr>\n",
       "      <th>Nebraska</th>\n",
       "      <td>51</td>\n",
       "      <td>51</td>\n",
       "      <td>66</td>\n",
       "      <td>71</td>\n",
       "      <td>74</td>\n",
       "      <td>82</td>\n",
       "      <td>96</td>\n",
       "      <td>108</td>\n",
       "      <td>145</td>\n",
       "      <td>172</td>\n",
       "      <td>...</td>\n",
       "      <td>635</td>\n",
       "      <td>699</td>\n",
       "      <td>791</td>\n",
       "      <td>814</td>\n",
       "      <td>897</td>\n",
       "      <td>901</td>\n",
       "      <td>952</td>\n",
       "      <td>1066</td>\n",
       "      <td>1249</td>\n",
       "      <td>1474</td>\n",
       "    </tr>\n",
       "    <tr>\n",
       "      <th>Nevada</th>\n",
       "      <td>190</td>\n",
       "      <td>245</td>\n",
       "      <td>278</td>\n",
       "      <td>323</td>\n",
       "      <td>420</td>\n",
       "      <td>536</td>\n",
       "      <td>626</td>\n",
       "      <td>920</td>\n",
       "      <td>1012</td>\n",
       "      <td>1114</td>\n",
       "      <td>...</td>\n",
       "      <td>2722</td>\n",
       "      <td>2702</td>\n",
       "      <td>2836</td>\n",
       "      <td>2990</td>\n",
       "      <td>3134</td>\n",
       "      <td>3211</td>\n",
       "      <td>3214</td>\n",
       "      <td>3524</td>\n",
       "      <td>3626</td>\n",
       "      <td>3728</td>\n",
       "    </tr>\n",
       "    <tr>\n",
       "      <th>New Hampshire</th>\n",
       "      <td>74</td>\n",
       "      <td>101</td>\n",
       "      <td>101</td>\n",
       "      <td>108</td>\n",
       "      <td>137</td>\n",
       "      <td>158</td>\n",
       "      <td>187</td>\n",
       "      <td>214</td>\n",
       "      <td>314</td>\n",
       "      <td>357</td>\n",
       "      <td>...</td>\n",
       "      <td>819</td>\n",
       "      <td>885</td>\n",
       "      <td>929</td>\n",
       "      <td>985</td>\n",
       "      <td>922</td>\n",
       "      <td>1139</td>\n",
       "      <td>1139</td>\n",
       "      <td>1287</td>\n",
       "      <td>1342</td>\n",
       "      <td>1390</td>\n",
       "    </tr>\n",
       "    <tr>\n",
       "      <th>New Jersey</th>\n",
       "      <td>1914</td>\n",
       "      <td>2844</td>\n",
       "      <td>3675</td>\n",
       "      <td>4402</td>\n",
       "      <td>6876</td>\n",
       "      <td>8825</td>\n",
       "      <td>11124</td>\n",
       "      <td>13386</td>\n",
       "      <td>16636</td>\n",
       "      <td>18696</td>\n",
       "      <td>...</td>\n",
       "      <td>54588</td>\n",
       "      <td>58151</td>\n",
       "      <td>61850</td>\n",
       "      <td>64584</td>\n",
       "      <td>68824</td>\n",
       "      <td>71030</td>\n",
       "      <td>75317</td>\n",
       "      <td>78467</td>\n",
       "      <td>81420</td>\n",
       "      <td>85301</td>\n",
       "    </tr>\n",
       "    <tr>\n",
       "      <th>New Mexico</th>\n",
       "      <td>57</td>\n",
       "      <td>83</td>\n",
       "      <td>100</td>\n",
       "      <td>113</td>\n",
       "      <td>113</td>\n",
       "      <td>136</td>\n",
       "      <td>208</td>\n",
       "      <td>237</td>\n",
       "      <td>237</td>\n",
       "      <td>315</td>\n",
       "      <td>...</td>\n",
       "      <td>1081</td>\n",
       "      <td>1091</td>\n",
       "      <td>1245</td>\n",
       "      <td>1262</td>\n",
       "      <td>1345</td>\n",
       "      <td>1484</td>\n",
       "      <td>1484</td>\n",
       "      <td>1597</td>\n",
       "      <td>1798</td>\n",
       "      <td>1845</td>\n",
       "    </tr>\n",
       "    <tr>\n",
       "      <th>New York</th>\n",
       "      <td>15800</td>\n",
       "      <td>20884</td>\n",
       "      <td>25681</td>\n",
       "      <td>30841</td>\n",
       "      <td>37877</td>\n",
       "      <td>44876</td>\n",
       "      <td>52410</td>\n",
       "      <td>59648</td>\n",
       "      <td>66663</td>\n",
       "      <td>75833</td>\n",
       "      <td>...</td>\n",
       "      <td>172348</td>\n",
       "      <td>181026</td>\n",
       "      <td>189033</td>\n",
       "      <td>195749</td>\n",
       "      <td>203020</td>\n",
       "      <td>214454</td>\n",
       "      <td>223691</td>\n",
       "      <td>230597</td>\n",
       "      <td>241712</td>\n",
       "      <td>247815</td>\n",
       "    </tr>\n",
       "    <tr>\n",
       "      <th>North Carolina</th>\n",
       "      <td>305</td>\n",
       "      <td>353</td>\n",
       "      <td>495</td>\n",
       "      <td>590</td>\n",
       "      <td>738</td>\n",
       "      <td>887</td>\n",
       "      <td>1020</td>\n",
       "      <td>1191</td>\n",
       "      <td>1313</td>\n",
       "      <td>1535</td>\n",
       "      <td>...</td>\n",
       "      <td>3965</td>\n",
       "      <td>4354</td>\n",
       "      <td>4570</td>\n",
       "      <td>4886</td>\n",
       "      <td>5113</td>\n",
       "      <td>5340</td>\n",
       "      <td>5639</td>\n",
       "      <td>6045</td>\n",
       "      <td>6328</td>\n",
       "      <td>6601</td>\n",
       "    </tr>\n",
       "    <tr>\n",
       "      <th>North Dakota</th>\n",
       "      <td>28</td>\n",
       "      <td>30</td>\n",
       "      <td>36</td>\n",
       "      <td>45</td>\n",
       "      <td>51</td>\n",
       "      <td>68</td>\n",
       "      <td>94</td>\n",
       "      <td>98</td>\n",
       "      <td>109</td>\n",
       "      <td>122</td>\n",
       "      <td>...</td>\n",
       "      <td>278</td>\n",
       "      <td>293</td>\n",
       "      <td>308</td>\n",
       "      <td>331</td>\n",
       "      <td>341</td>\n",
       "      <td>365</td>\n",
       "      <td>393</td>\n",
       "      <td>393</td>\n",
       "      <td>528</td>\n",
       "      <td>585</td>\n",
       "    </tr>\n",
       "    <tr>\n",
       "      <th>Ohio</th>\n",
       "      <td>356</td>\n",
       "      <td>443</td>\n",
       "      <td>567</td>\n",
       "      <td>704</td>\n",
       "      <td>868</td>\n",
       "      <td>1137</td>\n",
       "      <td>1406</td>\n",
       "      <td>1653</td>\n",
       "      <td>1933</td>\n",
       "      <td>2199</td>\n",
       "      <td>...</td>\n",
       "      <td>5878</td>\n",
       "      <td>6250</td>\n",
       "      <td>6604</td>\n",
       "      <td>6975</td>\n",
       "      <td>7285</td>\n",
       "      <td>7794</td>\n",
       "      <td>8414</td>\n",
       "      <td>9107</td>\n",
       "      <td>10222</td>\n",
       "      <td>11602</td>\n",
       "    </tr>\n",
       "    <tr>\n",
       "      <th>Oklahoma</th>\n",
       "      <td>67</td>\n",
       "      <td>81</td>\n",
       "      <td>106</td>\n",
       "      <td>164</td>\n",
       "      <td>248</td>\n",
       "      <td>322</td>\n",
       "      <td>377</td>\n",
       "      <td>429</td>\n",
       "      <td>481</td>\n",
       "      <td>568</td>\n",
       "      <td>...</td>\n",
       "      <td>1794</td>\n",
       "      <td>1868</td>\n",
       "      <td>1970</td>\n",
       "      <td>2069</td>\n",
       "      <td>2184</td>\n",
       "      <td>2263</td>\n",
       "      <td>2357</td>\n",
       "      <td>2465</td>\n",
       "      <td>2465</td>\n",
       "      <td>2567</td>\n",
       "    </tr>\n",
       "    <tr>\n",
       "      <th>Oregon</th>\n",
       "      <td>161</td>\n",
       "      <td>191</td>\n",
       "      <td>210</td>\n",
       "      <td>266</td>\n",
       "      <td>316</td>\n",
       "      <td>416</td>\n",
       "      <td>479</td>\n",
       "      <td>548</td>\n",
       "      <td>606</td>\n",
       "      <td>690</td>\n",
       "      <td>...</td>\n",
       "      <td>1322</td>\n",
       "      <td>1371</td>\n",
       "      <td>1527</td>\n",
       "      <td>1584</td>\n",
       "      <td>1633</td>\n",
       "      <td>1663</td>\n",
       "      <td>1736</td>\n",
       "      <td>1785</td>\n",
       "      <td>1844</td>\n",
       "      <td>1910</td>\n",
       "    </tr>\n",
       "    <tr>\n",
       "      <th>Pennsylvania</th>\n",
       "      <td>509</td>\n",
       "      <td>698</td>\n",
       "      <td>946</td>\n",
       "      <td>1260</td>\n",
       "      <td>1795</td>\n",
       "      <td>2345</td>\n",
       "      <td>2845</td>\n",
       "      <td>3432</td>\n",
       "      <td>4155</td>\n",
       "      <td>4963</td>\n",
       "      <td>...</td>\n",
       "      <td>20051</td>\n",
       "      <td>21719</td>\n",
       "      <td>22938</td>\n",
       "      <td>24292</td>\n",
       "      <td>25465</td>\n",
       "      <td>26753</td>\n",
       "      <td>28258</td>\n",
       "      <td>29888</td>\n",
       "      <td>31652</td>\n",
       "      <td>32902</td>\n",
       "    </tr>\n",
       "    <tr>\n",
       "      <th>Rhode Island</th>\n",
       "      <td>83</td>\n",
       "      <td>106</td>\n",
       "      <td>124</td>\n",
       "      <td>132</td>\n",
       "      <td>165</td>\n",
       "      <td>203</td>\n",
       "      <td>239</td>\n",
       "      <td>294</td>\n",
       "      <td>408</td>\n",
       "      <td>488</td>\n",
       "      <td>...</td>\n",
       "      <td>1727</td>\n",
       "      <td>2349</td>\n",
       "      <td>2665</td>\n",
       "      <td>2665</td>\n",
       "      <td>3251</td>\n",
       "      <td>3251</td>\n",
       "      <td>3529</td>\n",
       "      <td>4177</td>\n",
       "      <td>4491</td>\n",
       "      <td>4706</td>\n",
       "    </tr>\n",
       "    <tr>\n",
       "      <th>South Carolina</th>\n",
       "      <td>196</td>\n",
       "      <td>298</td>\n",
       "      <td>342</td>\n",
       "      <td>424</td>\n",
       "      <td>424</td>\n",
       "      <td>542</td>\n",
       "      <td>660</td>\n",
       "      <td>774</td>\n",
       "      <td>925</td>\n",
       "      <td>1083</td>\n",
       "      <td>...</td>\n",
       "      <td>3067</td>\n",
       "      <td>3211</td>\n",
       "      <td>3320</td>\n",
       "      <td>3391</td>\n",
       "      <td>3553</td>\n",
       "      <td>3656</td>\n",
       "      <td>3931</td>\n",
       "      <td>4099</td>\n",
       "      <td>4248</td>\n",
       "      <td>4377</td>\n",
       "    </tr>\n",
       "    <tr>\n",
       "      <th>South Dakota</th>\n",
       "      <td>21</td>\n",
       "      <td>28</td>\n",
       "      <td>30</td>\n",
       "      <td>41</td>\n",
       "      <td>46</td>\n",
       "      <td>58</td>\n",
       "      <td>68</td>\n",
       "      <td>90</td>\n",
       "      <td>101</td>\n",
       "      <td>108</td>\n",
       "      <td>...</td>\n",
       "      <td>536</td>\n",
       "      <td>626</td>\n",
       "      <td>730</td>\n",
       "      <td>868</td>\n",
       "      <td>988</td>\n",
       "      <td>1168</td>\n",
       "      <td>1311</td>\n",
       "      <td>1411</td>\n",
       "      <td>1542</td>\n",
       "      <td>1635</td>\n",
       "    </tr>\n",
       "    <tr>\n",
       "      <th>Tennessee</th>\n",
       "      <td>505</td>\n",
       "      <td>614</td>\n",
       "      <td>772</td>\n",
       "      <td>916</td>\n",
       "      <td>1097</td>\n",
       "      <td>1318</td>\n",
       "      <td>1511</td>\n",
       "      <td>1720</td>\n",
       "      <td>1917</td>\n",
       "      <td>2391</td>\n",
       "      <td>...</td>\n",
       "      <td>4891</td>\n",
       "      <td>5132</td>\n",
       "      <td>5508</td>\n",
       "      <td>5610</td>\n",
       "      <td>5827</td>\n",
       "      <td>5827</td>\n",
       "      <td>6375</td>\n",
       "      <td>6263</td>\n",
       "      <td>6589</td>\n",
       "      <td>7070</td>\n",
       "    </tr>\n",
       "    <tr>\n",
       "      <th>Texas</th>\n",
       "      <td>643</td>\n",
       "      <td>758</td>\n",
       "      <td>955</td>\n",
       "      <td>1229</td>\n",
       "      <td>1563</td>\n",
       "      <td>1937</td>\n",
       "      <td>2455</td>\n",
       "      <td>2792</td>\n",
       "      <td>3147</td>\n",
       "      <td>3809</td>\n",
       "      <td>...</td>\n",
       "      <td>12105</td>\n",
       "      <td>13023</td>\n",
       "      <td>13677</td>\n",
       "      <td>14275</td>\n",
       "      <td>15006</td>\n",
       "      <td>15907</td>\n",
       "      <td>16876</td>\n",
       "      <td>17849</td>\n",
       "      <td>18704</td>\n",
       "      <td>19260</td>\n",
       "    </tr>\n",
       "    <tr>\n",
       "      <th>Utah</th>\n",
       "      <td>162</td>\n",
       "      <td>257</td>\n",
       "      <td>298</td>\n",
       "      <td>340</td>\n",
       "      <td>396</td>\n",
       "      <td>472</td>\n",
       "      <td>602</td>\n",
       "      <td>720</td>\n",
       "      <td>798</td>\n",
       "      <td>888</td>\n",
       "      <td>...</td>\n",
       "      <td>2103</td>\n",
       "      <td>2207</td>\n",
       "      <td>2303</td>\n",
       "      <td>2363</td>\n",
       "      <td>2417</td>\n",
       "      <td>2548</td>\n",
       "      <td>2683</td>\n",
       "      <td>2793</td>\n",
       "      <td>2917</td>\n",
       "      <td>3069</td>\n",
       "    </tr>\n",
       "    <tr>\n",
       "      <th>Vermont</th>\n",
       "      <td>52</td>\n",
       "      <td>75</td>\n",
       "      <td>95</td>\n",
       "      <td>125</td>\n",
       "      <td>158</td>\n",
       "      <td>184</td>\n",
       "      <td>211</td>\n",
       "      <td>235</td>\n",
       "      <td>256</td>\n",
       "      <td>293</td>\n",
       "      <td>...</td>\n",
       "      <td>679</td>\n",
       "      <td>711</td>\n",
       "      <td>727</td>\n",
       "      <td>748</td>\n",
       "      <td>752</td>\n",
       "      <td>759</td>\n",
       "      <td>774</td>\n",
       "      <td>779</td>\n",
       "      <td>803</td>\n",
       "      <td>813</td>\n",
       "    </tr>\n",
       "    <tr>\n",
       "      <th>Virginia</th>\n",
       "      <td>220</td>\n",
       "      <td>254</td>\n",
       "      <td>293</td>\n",
       "      <td>396</td>\n",
       "      <td>466</td>\n",
       "      <td>607</td>\n",
       "      <td>740</td>\n",
       "      <td>890</td>\n",
       "      <td>1020</td>\n",
       "      <td>1249</td>\n",
       "      <td>...</td>\n",
       "      <td>4509</td>\n",
       "      <td>5077</td>\n",
       "      <td>5274</td>\n",
       "      <td>5747</td>\n",
       "      <td>6182</td>\n",
       "      <td>6500</td>\n",
       "      <td>6889</td>\n",
       "      <td>7491</td>\n",
       "      <td>8053</td>\n",
       "      <td>8542</td>\n",
       "    </tr>\n",
       "    <tr>\n",
       "      <th>Washington</th>\n",
       "      <td>1997</td>\n",
       "      <td>2221</td>\n",
       "      <td>2328</td>\n",
       "      <td>2591</td>\n",
       "      <td>3207</td>\n",
       "      <td>3477</td>\n",
       "      <td>4030</td>\n",
       "      <td>4465</td>\n",
       "      <td>4923</td>\n",
       "      <td>5432</td>\n",
       "      <td>...</td>\n",
       "      <td>10119</td>\n",
       "      <td>10434</td>\n",
       "      <td>10609</td>\n",
       "      <td>10635</td>\n",
       "      <td>10799</td>\n",
       "      <td>10942</td>\n",
       "      <td>11057</td>\n",
       "      <td>11517</td>\n",
       "      <td>11776</td>\n",
       "      <td>12255</td>\n",
       "    </tr>\n",
       "    <tr>\n",
       "      <th>West Virginia</th>\n",
       "      <td>16</td>\n",
       "      <td>16</td>\n",
       "      <td>22</td>\n",
       "      <td>39</td>\n",
       "      <td>52</td>\n",
       "      <td>76</td>\n",
       "      <td>96</td>\n",
       "      <td>113</td>\n",
       "      <td>145</td>\n",
       "      <td>162</td>\n",
       "      <td>...</td>\n",
       "      <td>574</td>\n",
       "      <td>577</td>\n",
       "      <td>593</td>\n",
       "      <td>611</td>\n",
       "      <td>640</td>\n",
       "      <td>702</td>\n",
       "      <td>728</td>\n",
       "      <td>775</td>\n",
       "      <td>785</td>\n",
       "      <td>890</td>\n",
       "    </tr>\n",
       "    <tr>\n",
       "      <th>Wisconsin</th>\n",
       "      <td>381</td>\n",
       "      <td>425</td>\n",
       "      <td>481</td>\n",
       "      <td>621</td>\n",
       "      <td>728</td>\n",
       "      <td>926</td>\n",
       "      <td>1055</td>\n",
       "      <td>1164</td>\n",
       "      <td>1230</td>\n",
       "      <td>1412</td>\n",
       "      <td>...</td>\n",
       "      <td>3068</td>\n",
       "      <td>3213</td>\n",
       "      <td>3341</td>\n",
       "      <td>3428</td>\n",
       "      <td>3555</td>\n",
       "      <td>3721</td>\n",
       "      <td>3875</td>\n",
       "      <td>4053</td>\n",
       "      <td>4199</td>\n",
       "      <td>4346</td>\n",
       "    </tr>\n",
       "    <tr>\n",
       "      <th>Wyoming</th>\n",
       "      <td>26</td>\n",
       "      <td>26</td>\n",
       "      <td>29</td>\n",
       "      <td>44</td>\n",
       "      <td>53</td>\n",
       "      <td>70</td>\n",
       "      <td>82</td>\n",
       "      <td>86</td>\n",
       "      <td>94</td>\n",
       "      <td>109</td>\n",
       "      <td>...</td>\n",
       "      <td>239</td>\n",
       "      <td>261</td>\n",
       "      <td>270</td>\n",
       "      <td>275</td>\n",
       "      <td>282</td>\n",
       "      <td>287</td>\n",
       "      <td>296</td>\n",
       "      <td>305</td>\n",
       "      <td>309</td>\n",
       "      <td>313</td>\n",
       "    </tr>\n",
       "  </tbody>\n",
       "</table>\n",
       "<p>50 rows × 29 columns</p>\n",
       "</div>"
      ],
      "text/plain": [
       "                03-22-2020  03-23-2020  03-24-2020  03-25-2020  03-26-2020  \\\n",
       "Province_State                                                               \n",
       "Alabama                157         196         242         381         517   \n",
       "Alaska                  20          30          34          41          56   \n",
       "Arizona                152         235         326         401         508   \n",
       "Arkansas               165         192         219         280         335   \n",
       "California            1646        2108        2538        2998        3899   \n",
       "Colorado               591         704         723        1021        1430   \n",
       "Connecticut            327         415         618         875        1012   \n",
       "Delaware                56          68         104         119         130   \n",
       "Florida               1004        1227        1412        1682        2357   \n",
       "Georgia                621         772        1026        1247        1525   \n",
       "Hawaii                  53          56          90          91          95   \n",
       "Idaho                   42          68          81          91         146   \n",
       "Illinois              1049        1285        1537        1865        2538   \n",
       "Indiana                204         270         368         477         645   \n",
       "Iowa                    90         105         124         146         179   \n",
       "Kansas                  65          84         100         134         172   \n",
       "Kentucky               103         123         162         197         247   \n",
       "Louisiana              837        1172        1388        1795        2304   \n",
       "Maine                   89         107         118         142         155   \n",
       "Maryland               244         290         349         425         583   \n",
       "Massachusetts          646         777        1159        1838        2417   \n",
       "Michigan              1035        1329        1793        2296        2845   \n",
       "Minnesota              167         234         261         286         344   \n",
       "Mississippi            207         249         320         377         485   \n",
       "Missouri                87         187         257         354         520   \n",
       "Montana                 34          34          51          65          90   \n",
       "Nebraska                51          51          66          71          74   \n",
       "Nevada                 190         245         278         323         420   \n",
       "New Hampshire           74         101         101         108         137   \n",
       "New Jersey            1914        2844        3675        4402        6876   \n",
       "New Mexico              57          83         100         113         113   \n",
       "New York             15800       20884       25681       30841       37877   \n",
       "North Carolina         305         353         495         590         738   \n",
       "North Dakota            28          30          36          45          51   \n",
       "Ohio                   356         443         567         704         868   \n",
       "Oklahoma                67          81         106         164         248   \n",
       "Oregon                 161         191         210         266         316   \n",
       "Pennsylvania           509         698         946        1260        1795   \n",
       "Rhode Island            83         106         124         132         165   \n",
       "South Carolina         196         298         342         424         424   \n",
       "South Dakota            21          28          30          41          46   \n",
       "Tennessee              505         614         772         916        1097   \n",
       "Texas                  643         758         955        1229        1563   \n",
       "Utah                   162         257         298         340         396   \n",
       "Vermont                 52          75          95         125         158   \n",
       "Virginia               220         254         293         396         466   \n",
       "Washington            1997        2221        2328        2591        3207   \n",
       "West Virginia           16          16          22          39          52   \n",
       "Wisconsin              381         425         481         621         728   \n",
       "Wyoming                 26          26          29          44          53   \n",
       "\n",
       "                03-27-2020  03-28-2020  03-29-2020  03-30-2020  03-31-2020  \\\n",
       "Province_State                                                               \n",
       "Alabama                587         694         825         899         987   \n",
       "Alaska                  58          85         102         114         119   \n",
       "Arizona                665         773         919        1157        1289   \n",
       "Arkansas               381         409         426         473         523   \n",
       "California            4657        5095        5852        7138        8210   \n",
       "Colorado              1433        1740        2307        2311        2966   \n",
       "Connecticut           1291        1524        1993        2571        3128   \n",
       "Delaware               163         214         232         264         319   \n",
       "Florida               2900        3763        4246        5473        6741   \n",
       "Georgia               2000        2366        2651        2808        3929   \n",
       "Hawaii                 106         149         149         175         204   \n",
       "Idaho                  205         234         281         340         515   \n",
       "Illinois              3024        3491        4596        5056        5994   \n",
       "Indiana                979        1233        1513        1786        2158   \n",
       "Iowa                   235         298         336         424         497   \n",
       "Kansas                 206         266         330         372         434   \n",
       "Kentucky               301         380         438         479         628   \n",
       "Louisiana             2744        3315        3540        4025        5237   \n",
       "Maine                  168         211         253         275         303   \n",
       "Maryland               775         995        1239        1413        1660   \n",
       "Massachusetts         3240        4257        4955        5752        6620   \n",
       "Michigan              3634        4650        5488        6498        7615   \n",
       "Minnesota              396         441         503         576         629   \n",
       "Mississippi            579         663         759         847         937   \n",
       "Missouri               666         836         915        1051        1357   \n",
       "Montana                109         129         154         171         198   \n",
       "Nebraska                82          96         108         145         172   \n",
       "Nevada                 536         626         920        1012        1114   \n",
       "New Hampshire          158         187         214         314         357   \n",
       "New Jersey            8825       11124       13386       16636       18696   \n",
       "New Mexico             136         208         237         237         315   \n",
       "New York             44876       52410       59648       66663       75833   \n",
       "North Carolina         887        1020        1191        1313        1535   \n",
       "North Dakota            68          94          98         109         122   \n",
       "Ohio                  1137        1406        1653        1933        2199   \n",
       "Oklahoma               322         377         429         481         568   \n",
       "Oregon                 416         479         548         606         690   \n",
       "Pennsylvania          2345        2845        3432        4155        4963   \n",
       "Rhode Island           203         239         294         408         488   \n",
       "South Carolina         542         660         774         925        1083   \n",
       "South Dakota            58          68          90         101         108   \n",
       "Tennessee             1318        1511        1720        1917        2391   \n",
       "Texas                 1937        2455        2792        3147        3809   \n",
       "Utah                   472         602         720         798         888   \n",
       "Vermont                184         211         235         256         293   \n",
       "Virginia               607         740         890        1020        1249   \n",
       "Washington            3477        4030        4465        4923        5432   \n",
       "West Virginia           76          96         113         145         162   \n",
       "Wisconsin              926        1055        1164        1230        1412   \n",
       "Wyoming                 70          82          86          94         109   \n",
       "\n",
       "                ...  04-10-2020  04-11-2020  04-12-2020  04-13-2020  \\\n",
       "Province_State  ...                                                   \n",
       "Alabama         ...        2947        3217        3563        3734   \n",
       "Alaska          ...         246         257         272         277   \n",
       "Arizona         ...        3112        3393        3542        3705   \n",
       "Arkansas        ...        1171        1228        1280        1410   \n",
       "California      ...       21081       21706       22795       23931   \n",
       "Colorado        ...        6202        6513        7307        7691   \n",
       "Connecticut     ...       10538       11510       12035       13381   \n",
       "Delaware        ...        1326        1479        1625        1758   \n",
       "Florida         ...       17531       18494       19895       21019   \n",
       "Georgia         ...       11485       12159       12452       13315   \n",
       "Hawaii          ...         442         465         499         504   \n",
       "Idaho           ...        1354        1396        1407        1426   \n",
       "Illinois        ...       17887       19180       20852       22025   \n",
       "Indiana         ...        6907        7435        7928        8359   \n",
       "Iowa            ...        1388        1510        1587        1710   \n",
       "Kansas          ...        1117        1275        1344        1390   \n",
       "Kentucky        ...        1693        1693        1963        2018   \n",
       "Louisiana       ...       19253       20014       20595       21016   \n",
       "Maine           ...         586         616         633         698   \n",
       "Maryland        ...        6968        7694        8225        8936   \n",
       "Massachusetts   ...       20974       22860       25475       26867   \n",
       "Michigan        ...       22434       23605       24244       25635   \n",
       "Minnesota       ...        1336        1427        1621        1621   \n",
       "Mississippi     ...        2469        2642        2781        2942   \n",
       "Missouri        ...        3897        4108        4269        4515   \n",
       "Montana         ...         365         377         387         394   \n",
       "Nebraska        ...         635         699         791         814   \n",
       "Nevada          ...        2722        2702        2836        2990   \n",
       "New Hampshire   ...         819         885         929         985   \n",
       "New Jersey      ...       54588       58151       61850       64584   \n",
       "New Mexico      ...        1081        1091        1245        1262   \n",
       "New York        ...      172348      181026      189033      195749   \n",
       "North Carolina  ...        3965        4354        4570        4886   \n",
       "North Dakota    ...         278         293         308         331   \n",
       "Ohio            ...        5878        6250        6604        6975   \n",
       "Oklahoma        ...        1794        1868        1970        2069   \n",
       "Oregon          ...        1322        1371        1527        1584   \n",
       "Pennsylvania    ...       20051       21719       22938       24292   \n",
       "Rhode Island    ...        1727        2349        2665        2665   \n",
       "South Carolina  ...        3067        3211        3320        3391   \n",
       "South Dakota    ...         536         626         730         868   \n",
       "Tennessee       ...        4891        5132        5508        5610   \n",
       "Texas           ...       12105       13023       13677       14275   \n",
       "Utah            ...        2103        2207        2303        2363   \n",
       "Vermont         ...         679         711         727         748   \n",
       "Virginia        ...        4509        5077        5274        5747   \n",
       "Washington      ...       10119       10434       10609       10635   \n",
       "West Virginia   ...         574         577         593         611   \n",
       "Wisconsin       ...        3068        3213        3341        3428   \n",
       "Wyoming         ...         239         261         270         275   \n",
       "\n",
       "                04-14-2020  04-15-2020  04-16-2020  04-17-2020  04-18-2020  \\\n",
       "Province_State                                                               \n",
       "Alabama               3953        4075        4345        4571        4712   \n",
       "Alaska                 285         293         300         309         314   \n",
       "Arizona               3809        3964        4237        4511        4724   \n",
       "Arkansas              1498        1569        1620        1695        1744   \n",
       "California           25356       26686       27677       29157       30491   \n",
       "Colorado              7950        7956        8286        8691        9047   \n",
       "Connecticut          13989       14755       15884       16809       17550   \n",
       "Delaware              1926        2014        2070        2317        2538   \n",
       "Florida              21628       22511       23343       24759       25492   \n",
       "Georgia              14578       14987       15669       17194       17669   \n",
       "Hawaii                 511         524         530         541         574   \n",
       "Idaho                 1464        1473        1587        1609        1655   \n",
       "Illinois             23248       24593       25734       27578       29160   \n",
       "Indiana               8527        8960        9542       10154       10641   \n",
       "Iowa                  1899        1995        2141        2332        2513   \n",
       "Kansas                1441        1504        1615        1730        1821   \n",
       "Kentucky              2048        2210        2435        2522        2707   \n",
       "Louisiana            21518       21951       22532       23118       23580   \n",
       "Maine                  735         770         796         827         847   \n",
       "Maryland              9472       10032       10784       11572       12326   \n",
       "Massachusetts        28164       29918       32181       34402       36372   \n",
       "Michigan             27001       28059       28809       30023       30791   \n",
       "Minnesota             1695        1809        1809        2070        2209   \n",
       "Mississippi           3087        3360        3624        3793        3974   \n",
       "Missouri              4746        4791        5174        5371        5579   \n",
       "Montana                399         404         415         422         426   \n",
       "Nebraska               897         901         952        1066        1249   \n",
       "Nevada                3134        3211        3214        3524        3626   \n",
       "New Hampshire          922        1139        1139        1287        1342   \n",
       "New Jersey           68824       71030       75317       78467       81420   \n",
       "New Mexico            1345        1484        1484        1597        1798   \n",
       "New York            203020      214454      223691      230597      241712   \n",
       "North Carolina        5113        5340        5639        6045        6328   \n",
       "North Dakota           341         365         393         393         528   \n",
       "Ohio                  7285        7794        8414        9107       10222   \n",
       "Oklahoma              2184        2263        2357        2465        2465   \n",
       "Oregon                1633        1663        1736        1785        1844   \n",
       "Pennsylvania         25465       26753       28258       29888       31652   \n",
       "Rhode Island          3251        3251        3529        4177        4491   \n",
       "South Carolina        3553        3656        3931        4099        4248   \n",
       "South Dakota           988        1168        1311        1411        1542   \n",
       "Tennessee             5827        5827        6375        6263        6589   \n",
       "Texas                15006       15907       16876       17849       18704   \n",
       "Utah                  2417        2548        2683        2793        2917   \n",
       "Vermont                752         759         774         779         803   \n",
       "Virginia              6182        6500        6889        7491        8053   \n",
       "Washington           10799       10942       11057       11517       11776   \n",
       "West Virginia          640         702         728         775         785   \n",
       "Wisconsin             3555        3721        3875        4053        4199   \n",
       "Wyoming                282         287         296         305         309   \n",
       "\n",
       "                04-19-2020  \n",
       "Province_State              \n",
       "Alabama               4888  \n",
       "Alaska                 319  \n",
       "Arizona               4933  \n",
       "Arkansas              1781  \n",
       "California           31431  \n",
       "Colorado              9730  \n",
       "Connecticut          17962  \n",
       "Delaware              2538  \n",
       "Florida              26314  \n",
       "Georgia              18301  \n",
       "Hawaii                 580  \n",
       "Idaho                 1668  \n",
       "Illinois             30357  \n",
       "Indiana              11211  \n",
       "Iowa                  2902  \n",
       "Kansas                1905  \n",
       "Kentucky              2960  \n",
       "Louisiana            23928  \n",
       "Maine                  867  \n",
       "Maryland             12847  \n",
       "Massachusetts        38077  \n",
       "Michigan             31424  \n",
       "Minnesota             2356  \n",
       "Mississippi           4274  \n",
       "Missouri              5743  \n",
       "Montana                433  \n",
       "Nebraska              1474  \n",
       "Nevada                3728  \n",
       "New Hampshire         1390  \n",
       "New Jersey           85301  \n",
       "New Mexico            1845  \n",
       "New York            247815  \n",
       "North Carolina        6601  \n",
       "North Dakota           585  \n",
       "Ohio                 11602  \n",
       "Oklahoma              2567  \n",
       "Oregon                1910  \n",
       "Pennsylvania         32902  \n",
       "Rhode Island          4706  \n",
       "South Carolina        4377  \n",
       "South Dakota          1635  \n",
       "Tennessee             7070  \n",
       "Texas                19260  \n",
       "Utah                  3069  \n",
       "Vermont                813  \n",
       "Virginia              8542  \n",
       "Washington           12255  \n",
       "West Virginia          890  \n",
       "Wisconsin             4346  \n",
       "Wyoming                313  \n",
       "\n",
       "[50 rows x 29 columns]"
      ]
     },
     "execution_count": 16,
     "metadata": {},
     "output_type": "execute_result"
    }
   ],
   "source": [
    "stateData = stateData.fillna(0)\n",
    "stateData"
   ]
  },
  {
   "cell_type": "code",
   "execution_count": 17,
   "metadata": {},
   "outputs": [
    {
     "data": {
      "image/png": "[encoded data removed]",
      "text/plain": [
       "<Figure size 432x288 with 1 Axes>"
      ]
     },
     "metadata": {
      "needs_background": "light"
     },
     "output_type": "display_data"
    }
   ],
   "source": [
    "# plot confirmed cases vs. time\n",
    "plt.title('Total Confirmed Cases vs. Time')\n",
    "\n",
    "plt.plot(stateData.loc[:,'01-22-2020':].sum())\n",
    "\n",
    "plt.xlabel('Date')\n",
    "plt.ylabel('Number of confirmed cases')\n",
    "plt.yscale('log')\n",
    "plt.xticks(rotation='vertical')\n",
    "\n",
    "plt.show()"
   ]
  },
  {
   "cell_type": "code",
   "execution_count": 18,
   "metadata": {},
   "outputs": [
    {
     "data": {
      "image/png": "[encoded data removed]",
      "text/plain": [
       "<Figure size 432x288 with 1 Axes>"
      ]
     },
     "metadata": {
      "needs_background": "light"
     },
     "output_type": "display_data"
    }
   ],
   "source": [
    "# plot confirmed cases vs. time\n",
    "plt.title('Confirmed Cases vs. Time')\n",
    "\n",
    "plt.plot(stateData.loc[:,'01-22-2020':])\n",
    "\n",
    "plt.xlabel('Date')\n",
    "plt.ylabel('Number of confirmed cases')\n",
    "plt.yscale('log')\n",
    "\n",
    "\n",
    "plt.show()"
   ]
  },
  {
   "cell_type": "markdown",
   "metadata": {},
   "source": [
    "## Convert Data into an Array"
   ]
  },
  {
   "cell_type": "markdown",
   "metadata": {},
   "source": [
    "In order to make most initial conditions greater than zero, the start date was chosen to be that in which all states reach an indicated threshold.  This will increase the accuracy of the reconstruction in time."
   ]
  },
  {
   "cell_type": "code",
   "execution_count": 41,
   "metadata": {},
   "outputs": [
    {
     "data": {
      "text/plain": [
       "array([[ 157,  196,  242, ..., 4571, 4712, 4888],\n",
       "       [  20,   30,   34, ...,  309,  314,  319],\n",
       "       [ 152,  235,  326, ..., 4511, 4724, 4933],\n",
       "       ...,\n",
       "       [  16,   16,   22, ...,  775,  785,  890],\n",
       "       [ 381,  425,  481, ..., 4053, 4199, 4346],\n",
       "       [  26,   26,   29, ...,  305,  309,  313]], dtype=int64)"
      ]
     },
     "execution_count": 41,
     "metadata": {},
     "output_type": "execute_result"
    }
   ],
   "source": [
    "# Select data with few initial conditions of 0\n",
    "scaledData = stateData\n",
    "# Convert data to array\n",
    "scaledData = scaledData.to_numpy()\n",
    "scaledData"
   ]
  },
  {
   "cell_type": "markdown",
   "metadata": {},
   "source": [
    "## Take DMD"
   ]
  },
  {
   "cell_type": "markdown",
   "metadata": {},
   "source": [
    "**Modes**: Columns are the low-rank structures individuated\n",
    "\n",
    "\n",
    "**Dynamics**: Rows refer to the time evolution of each mode\n",
    "\n",
    "\n",
    "**Eigs**: eigenvalues of the low dimensional operator\n",
    "\n",
    "* If an eigenvalue is on the unit circle, the corresponding mode will be stable; while if an eigenvalue is inside or outside the unit circle, the mode will converge or diverge, respectively.\n",
    "\n",
    "**Reconstructed_data**: the approximated system evolution"
   ]
  },
  {
   "cell_type": "markdown",
   "metadata": {},
   "source": [
    "### DMD"
   ]
  },
  {
   "cell_type": "code",
   "execution_count": 42,
   "metadata": {},
   "outputs": [
    {
     "data": {
      "image/png": "[encoded data removed]",
      "text/plain": [
       "<Figure size 432x288 with 1 Axes>"
      ]
     },
     "metadata": {
      "needs_background": "light"
     },
     "output_type": "display_data"
    },
    {
     "data": {
      "image/png": "[encoded data removed]",
      "text/plain": [
       "<Figure size 432x288 with 1 Axes>"
      ]
     },
     "metadata": {
      "needs_background": "light"
     },
     "output_type": "display_data"
    }
   ],
   "source": [
    "dmd = DMD()\n",
    "dmd.fit(scaledData) # transpose so snapshots (state data) are arranged by column\n",
    "\n",
    "# plot true data\n",
    "plt.title('True Confirmed Cases')\n",
    "plt.plot(scaledData)\n",
    "plt.xlabel('Time / days')\n",
    "plt.yscale('log')\n",
    "plt.show()\n",
    "\n",
    "# plot dmd reconstructed data\n",
    "plt.title('DMD Reconstructed Confirmed Cases')\n",
    "plt.plot(abs(dmd.reconstructed_data.real))\n",
    "plt.xlabel('Time / days')\n",
    "plt.yscale('log')\n",
    "plt.show()"
   ]
  },
  {
   "cell_type": "code",
   "execution_count": 43,
   "metadata": {},
   "outputs": [
    {
     "name": "stdout",
     "output_type": "stream",
     "text": [
      "Eigenvalue (-0.41451770214447153+0j): distance from unit circle 0.8281750746088672\n",
      "Eigenvalue (0.05052432707625475+0j): distance from unit circle 0.9974472923734916\n",
      "Eigenvalue (0.3907688199363337+0j): distance from unit circle 0.8472997293655652\n",
      "Eigenvalue (0.8855579388893702+0.20041951937555952j): distance from unit circle 0.17561915312328025\n",
      "Eigenvalue (0.8855579388893702-0.20041951937555952j): distance from unit circle 0.17561915312328025\n",
      "Eigenvalue (1.0905605955338395+0.03135334176048397j): distance from unit circle 0.19030544457067244\n",
      "Eigenvalue (1.0905605955338395-0.03135334176048397j): distance from unit circle 0.19030544457067244\n",
      "Eigenvalue (0.9389204918678596+0j): distance from unit circle 0.11842830995061648\n"
     ]
    },
    {
     "data": {
      "image/png": "[encoded data removed]",
      "text/plain": [
       "<Figure size 576x576 with 1 Axes>"
      ]
     },
     "metadata": {
      "needs_background": "light"
     },
     "output_type": "display_data"
    }
   ],
   "source": [
    "# eigenvalues of low dim operator\n",
    "\n",
    "for eig in dmd.eigs:\n",
    "    print('Eigenvalue {}: distance from unit circle {}'.format(eig, np.abs(eig.imag**2+eig.real**2 - 1)))\n",
    "\n",
    "dmd.plot_eigs(show_axes=True, show_unit_circle=True)"
   ]
  },
  {
   "cell_type": "markdown",
   "metadata": {},
   "source": [
    "The eigenvalues are discrete, so their placement corresponds to the time sequences below:"
   ]
  },
  {
   "cell_type": "markdown",
   "metadata": {},
   "source": [
    "![title](img/rootLocusPoleLocations.PNG)"
   ]
  },
  {
   "cell_type": "markdown",
   "metadata": {},
   "source": [
    "All eigenvalues inside of the unit circle converge to a final value, while the two eigenvalues outside of the unit circle are unstable (do not converge).  The unstable eigenvalues correspond to three unstable modes.  Most eigenvalues are located on the positive real axis, corresponding to low frequency dynamics."
   ]
  },
  {
   "cell_type": "code",
   "execution_count": 44,
   "metadata": {},
   "outputs": [
    {
     "data": {
      "image/png": "[encoded data removed]",
      "text/plain": [
       "<Figure size 432x288 with 1 Axes>"
      ]
     },
     "metadata": {
      "needs_background": "light"
     },
     "output_type": "display_data"
    },
    {
     "data": {
      "image/png": "[encoded data removed]",
      "text/plain": [
       "<Figure size 432x288 with 1 Axes>"
      ]
     },
     "metadata": {
      "needs_background": "light"
     },
     "output_type": "display_data"
    }
   ],
   "source": [
    "# modes\n",
    "for mode in dmd.modes.T:\n",
    "    plt.plot(mode.real)\n",
    "    plt.title('Modes')\n",
    "    plt.xlabel('States')\n",
    "plt.show()\n",
    "\n",
    "# dynamics\n",
    "for dynamic in dmd.dynamics:\n",
    "    plt.plot(dynamic.real)\n",
    "    plt.title('Dynamics')\n",
    "    plt.xlabel('Time / days')\n",
    "plt.show()"
   ]
  },
  {
   "cell_type": "code",
   "execution_count": 45,
   "metadata": {},
   "outputs": [
    {
     "data": {
      "image/png": "[encoded data removed]",
      "text/plain": [
       "<Figure size 432x288 with 1 Axes>"
      ]
     },
     "metadata": {
      "needs_background": "light"
     },
     "output_type": "display_data"
    }
   ],
   "source": [
    "# Mode Selection\n",
    "\n",
    "# Continuous Time Oscillatory Frequency for 24 hour period (units 1/h)\n",
    "freq = (np.log(dmd.eigs)).imag/(2*np.pi)\n",
    "\n",
    "i = 0\n",
    "for eig in dmd.eigs:\n",
    "    plt.plot(abs(freq),(abs(dmd.modes.real*eig))[i,:],'.')\n",
    "    i+=1\n",
    "plt.title('Mode Selection')\n",
    "plt.xlabel('Frequency / 1/day')\n",
    "plt.ylabel('Eigenvalue * Modes')\n",
    "plt.show()\n"
   ]
  },
  {
   "cell_type": "code",
   "execution_count": 46,
   "metadata": {},
   "outputs": [
    {
     "data": {
      "application/vnd.plotly.v1+json": {
       "config": {
        "plotlyServerURL": "https://plot.ly"
       },
       "data": [
        {
         "coloraxis": "coloraxis",
         "geo": "geo",
         "hoverlabel": {
          "namelength": 0
         },
         "hovertemplate": "locations=%{location}<br>color=%{z}",
         "locationmode": "USA-states",
         "locations": [
          "AL",
          "AK",
          "AZ",
          "AR",
          "CA",
          "CO",
          "CT",
          "DE",
          "FL",
          "GA",
          "HI",
          "ID",
          "IL",
          "IN",
          "IA",
          "KS",
          "KY",
          "LA",
          "ME",
          "MD",
          "MA",
          "MI",
          "MN",
          "MS",
          "MO",
          "MT",
          "NE",
          "NV",
          "NH",
          "NJ",
          "NM",
          "NY",
          "NC",
          "ND",
          "OH",
          "OK",
          "OR",
          "PA",
          "RI",
          "SC",
          "SD",
          "TN",
          "TX",
          "UT",
          "VT",
          "VA",
          "WA",
          "WV",
          "WI",
          "WY"
         ],
         "name": "",
         "type": "choropleth",
         "z": [
          0.016076265048196193,
          0.0012755931694370727,
          0.01714769575714718,
          0.006388037578984306,
          0.11040468564637174,
          0.03387448028366183,
          0.05692751979941736,
          0.0074923742425176045,
          0.09293361609665764,
          0.06021784593438257,
          0.0023288278186148225,
          0.00665218602061091,
          0.09647810609671992,
          0.036504504464073044,
          0.007823065129654787,
          0.006252836474381704,
          0.008753202301021928,
          0.09360148948407301,
          0.0032510099749016785,
          0.03789308618881745,
          0.11667483268788434,
          0.11581767985522724,
          0.007468861497634664,
          0.013451086820904543,
          0.019932665859580666,
          0.0018424466171335935,
          0.0035797093308918087,
          0.013581448992295827,
          0.004548026239037151,
          0.29028808570428655,
          0.005678554642981997,
          0.9032778092598177,
          0.021864886575784143,
          0.0015648051857348158,
          0.03241467915965666,
          0.009267123573784675,
          0.0071934654836077055,
          0.10489368691483596,
          0.012021121495060611,
          0.015511249459783293,
          0.003811310390894559,
          0.0257454431816665,
          0.06338592490484687,
          0.010909543168701363,
          0.003357956211051532,
          0.025039108759926928,
          0.050642894857137535,
          0.00277458930731658,
          0.016074654547286238,
          0.0012703226408252168
         ]
        }
       ],
       "layout": {
        "coloraxis": {
         "cmax": 0.9,
         "cmin": 0,
         "colorbar": {
          "title": {
           "text": "color"
          }
         },
         "colorscale": [
          [
           0,
           "#0d0887"
          ],
          [
           0.1111111111111111,
           "#46039f"
          ],
          [
           0.2222222222222222,
           "#7201a8"
          ],
          [
           0.3333333333333333,
           "#9c179e"
          ],
          [
           0.4444444444444444,
           "#bd3786"
          ],
          [
           0.5555555555555556,
           "#d8576b"
          ],
          [
           0.6666666666666666,
           "#ed7953"
          ],
          [
           0.7777777777777778,
           "#fb9f3a"
          ],
          [
           0.8888888888888888,
           "#fdca26"
          ],
          [
           1,
           "#f0f921"
          ]
         ]
        },
        "geo": {
         "center": {},
         "domain": {
          "x": [
           0,
           1
          ],
          "y": [
           0,
           1
          ]
         },
         "scope": "usa"
        },
        "legend": {
         "tracegroupgap": 0
        },
        "margin": {
         "b": 0,
         "l": 0,
         "r": 0,
         "t": 0
        },
        "template": {
         "data": {
          "bar": [
           {
            "error_x": {
             "color": "#2a3f5f"
            },
            "error_y": {
             "color": "#2a3f5f"
            },
            "marker": {
             "line": {
              "color": "#E5ECF6",
              "width": 0.5
             }
            },
            "type": "bar"
           }
          ],
          "barpolar": [
           {
            "marker": {
             "line": {
              "color": "#E5ECF6",
              "width": 0.5
             }
            },
            "type": "barpolar"
           }
          ],
          "carpet": [
           {
            "aaxis": {
             "endlinecolor": "#2a3f5f",
             "gridcolor": "white",
             "linecolor": "white",
             "minorgridcolor": "white",
             "startlinecolor": "#2a3f5f"
            },
            "baxis": {
             "endlinecolor": "#2a3f5f",
             "gridcolor": "white",
             "linecolor": "white",
             "minorgridcolor": "white",
             "startlinecolor": "#2a3f5f"
            },
            "type": "carpet"
           }
          ],
          "choropleth": [
           {
            "colorbar": {
             "outlinewidth": 0,
             "ticks": ""
            },
            "type": "choropleth"
           }
          ],
          "contour": [
           {
            "colorbar": {
             "outlinewidth": 0,
             "ticks": ""
            },
            "colorscale": [
             [
              0,
              "#0d0887"
             ],
             [
              0.1111111111111111,
              "#46039f"
             ],
             [
              0.2222222222222222,
              "#7201a8"
             ],
             [
              0.3333333333333333,
              "#9c179e"
             ],
             [
              0.4444444444444444,
              "#bd3786"
             ],
             [
              0.5555555555555556,
              "#d8576b"
             ],
             [
              0.6666666666666666,
              "#ed7953"
             ],
             [
              0.7777777777777778,
              "#fb9f3a"
             ],
             [
              0.8888888888888888,
              "#fdca26"
             ],
             [
              1,
              "#f0f921"
             ]
            ],
            "type": "contour"
           }
          ],
          "contourcarpet": [
           {
            "colorbar": {
             "outlinewidth": 0,
             "ticks": ""
            },
            "type": "contourcarpet"
           }
          ],
          "heatmap": [
           {
            "colorbar": {
             "outlinewidth": 0,
             "ticks": ""
            },
            "colorscale": [
             [
              0,
              "#0d0887"
             ],
             [
              0.1111111111111111,
              "#46039f"
             ],
             [
              0.2222222222222222,
              "#7201a8"
             ],
             [
              0.3333333333333333,
              "#9c179e"
             ],
             [
              0.4444444444444444,
              "#bd3786"
             ],
             [
              0.5555555555555556,
              "#d8576b"
             ],
             [
              0.6666666666666666,
              "#ed7953"
             ],
             [
              0.7777777777777778,
              "#fb9f3a"
             ],
             [
              0.8888888888888888,
              "#fdca26"
             ],
             [
              1,
              "#f0f921"
             ]
            ],
            "type": "heatmap"
           }
          ],
          "heatmapgl": [
           {
            "colorbar": {
             "outlinewidth": 0,
             "ticks": ""
            },
            "colorscale": [
             [
              0,
              "#0d0887"
             ],
             [
              0.1111111111111111,
              "#46039f"
             ],
             [
              0.2222222222222222,
              "#7201a8"
             ],
             [
              0.3333333333333333,
              "#9c179e"
             ],
             [
              0.4444444444444444,
              "#bd3786"
             ],
             [
              0.5555555555555556,
              "#d8576b"
             ],
             [
              0.6666666666666666,
              "#ed7953"
             ],
             [
              0.7777777777777778,
              "#fb9f3a"
             ],
             [
              0.8888888888888888,
              "#fdca26"
             ],
             [
              1,
              "#f0f921"
             ]
            ],
            "type": "heatmapgl"
           }
          ],
          "histogram": [
           {
            "marker": {
             "colorbar": {
              "outlinewidth": 0,
              "ticks": ""
             }
            },
            "type": "histogram"
           }
          ],
          "histogram2d": [
           {
            "colorbar": {
             "outlinewidth": 0,
             "ticks": ""
            },
            "colorscale": [
             [
              0,
              "#0d0887"
             ],
             [
              0.1111111111111111,
              "#46039f"
             ],
             [
              0.2222222222222222,
              "#7201a8"
             ],
             [
              0.3333333333333333,
              "#9c179e"
             ],
             [
              0.4444444444444444,
              "#bd3786"
             ],
             [
              0.5555555555555556,
              "#d8576b"
             ],
             [
              0.6666666666666666,
              "#ed7953"
             ],
             [
              0.7777777777777778,
              "#fb9f3a"
             ],
             [
              0.8888888888888888,
              "#fdca26"
             ],
             [
              1,
              "#f0f921"
             ]
            ],
            "type": "histogram2d"
           }
          ],
          "histogram2dcontour": [
           {
            "colorbar": {
             "outlinewidth": 0,
             "ticks": ""
            },
            "colorscale": [
             [
              0,
              "#0d0887"
             ],
             [
              0.1111111111111111,
              "#46039f"
             ],
             [
              0.2222222222222222,
              "#7201a8"
             ],
             [
              0.3333333333333333,
              "#9c179e"
             ],
             [
              0.4444444444444444,
              "#bd3786"
             ],
             [
              0.5555555555555556,
              "#d8576b"
             ],
             [
              0.6666666666666666,
              "#ed7953"
             ],
             [
              0.7777777777777778,
              "#fb9f3a"
             ],
             [
              0.8888888888888888,
              "#fdca26"
             ],
             [
              1,
              "#f0f921"
             ]
            ],
            "type": "histogram2dcontour"
           }
          ],
          "mesh3d": [
           {
            "colorbar": {
             "outlinewidth": 0,
             "ticks": ""
            },
            "type": "mesh3d"
           }
          ],
          "parcoords": [
           {
            "line": {
             "colorbar": {
              "outlinewidth": 0,
              "ticks": ""
             }
            },
            "type": "parcoords"
           }
          ],
          "pie": [
           {
            "automargin": true,
            "type": "pie"
           }
          ],
          "scatter": [
           {
            "marker": {
             "colorbar": {
              "outlinewidth": 0,
              "ticks": ""
             }
            },
            "type": "scatter"
           }
          ],
          "scatter3d": [
           {
            "line": {
             "colorbar": {
              "outlinewidth": 0,
              "ticks": ""
             }
            },
            "marker": {
             "colorbar": {
              "outlinewidth": 0,
              "ticks": ""
             }
            },
            "type": "scatter3d"
           }
          ],
          "scattercarpet": [
           {
            "marker": {
             "colorbar": {
              "outlinewidth": 0,
              "ticks": ""
             }
            },
            "type": "scattercarpet"
           }
          ],
          "scattergeo": [
           {
            "marker": {
             "colorbar": {
              "outlinewidth": 0,
              "ticks": ""
             }
            },
            "type": "scattergeo"
           }
          ],
          "scattergl": [
           {
            "marker": {
             "colorbar": {
              "outlinewidth": 0,
              "ticks": ""
             }
            },
            "type": "scattergl"
           }
          ],
          "scattermapbox": [
           {
            "marker": {
             "colorbar": {
              "outlinewidth": 0,
              "ticks": ""
             }
            },
            "type": "scattermapbox"
           }
          ],
          "scatterpolar": [
           {
            "marker": {
             "colorbar": {
              "outlinewidth": 0,
              "ticks": ""
             }
            },
            "type": "scatterpolar"
           }
          ],
          "scatterpolargl": [
           {
            "marker": {
             "colorbar": {
              "outlinewidth": 0,
              "ticks": ""
             }
            },
            "type": "scatterpolargl"
           }
          ],
          "scatterternary": [
           {
            "marker": {
             "colorbar": {
              "outlinewidth": 0,
              "ticks": ""
             }
            },
            "type": "scatterternary"
           }
          ],
          "surface": [
           {
            "colorbar": {
             "outlinewidth": 0,
             "ticks": ""
            },
            "colorscale": [
             [
              0,
              "#0d0887"
             ],
             [
              0.1111111111111111,
              "#46039f"
             ],
             [
              0.2222222222222222,
              "#7201a8"
             ],
             [
              0.3333333333333333,
              "#9c179e"
             ],
             [
              0.4444444444444444,
              "#bd3786"
             ],
             [
              0.5555555555555556,
              "#d8576b"
             ],
             [
              0.6666666666666666,
              "#ed7953"
             ],
             [
              0.7777777777777778,
              "#fb9f3a"
             ],
             [
              0.8888888888888888,
              "#fdca26"
             ],
             [
              1,
              "#f0f921"
             ]
            ],
            "type": "surface"
           }
          ],
          "table": [
           {
            "cells": {
             "fill": {
              "color": "#EBF0F8"
             },
             "line": {
              "color": "white"
             }
            },
            "header": {
             "fill": {
              "color": "#C8D4E3"
             },
             "line": {
              "color": "white"
             }
            },
            "type": "table"
           }
          ]
         },
         "layout": {
          "annotationdefaults": {
           "arrowcolor": "#2a3f5f",
           "arrowhead": 0,
           "arrowwidth": 1
          },
          "coloraxis": {
           "colorbar": {
            "outlinewidth": 0,
            "ticks": ""
           }
          },
          "colorscale": {
           "diverging": [
            [
             0,
             "#8e0152"
            ],
            [
             0.1,
             "#c51b7d"
            ],
            [
             0.2,
             "#de77ae"
            ],
            [
             0.3,
             "#f1b6da"
            ],
            [
             0.4,
             "#fde0ef"
            ],
            [
             0.5,
             "#f7f7f7"
            ],
            [
             0.6,
             "#e6f5d0"
            ],
            [
             0.7,
             "#b8e186"
            ],
            [
             0.8,
             "#7fbc41"
            ],
            [
             0.9,
             "#4d9221"
            ],
            [
             1,
             "#276419"
            ]
           ],
           "sequential": [
            [
             0,
             "#0d0887"
            ],
            [
             0.1111111111111111,
             "#46039f"
            ],
            [
             0.2222222222222222,
             "#7201a8"
            ],
            [
             0.3333333333333333,
             "#9c179e"
            ],
            [
             0.4444444444444444,
             "#bd3786"
            ],
            [
             0.5555555555555556,
             "#d8576b"
            ],
            [
             0.6666666666666666,
             "#ed7953"
            ],
            [
             0.7777777777777778,
             "#fb9f3a"
            ],
            [
             0.8888888888888888,
             "#fdca26"
            ],
            [
             1,
             "#f0f921"
            ]
           ],
           "sequentialminus": [
            [
             0,
             "#0d0887"
            ],
            [
             0.1111111111111111,
             "#46039f"
            ],
            [
             0.2222222222222222,
             "#7201a8"
            ],
            [
             0.3333333333333333,
             "#9c179e"
            ],
            [
             0.4444444444444444,
             "#bd3786"
            ],
            [
             0.5555555555555556,
             "#d8576b"
            ],
            [
             0.6666666666666666,
             "#ed7953"
            ],
            [
             0.7777777777777778,
             "#fb9f3a"
            ],
            [
             0.8888888888888888,
             "#fdca26"
            ],
            [
             1,
             "#f0f921"
            ]
           ]
          },
          "colorway": [
           "#636efa",
           "#EF553B",
           "#00cc96",
           "#ab63fa",
           "#FFA15A",
           "#19d3f3",
           "#FF6692",
           "#B6E880",
           "#FF97FF",
           "#FECB52"
          ],
          "font": {
           "color": "#2a3f5f"
          },
          "geo": {
           "bgcolor": "white",
           "lakecolor": "white",
           "landcolor": "#E5ECF6",
           "showlakes": true,
           "showland": true,
           "subunitcolor": "white"
          },
          "hoverlabel": {
           "align": "left"
          },
          "hovermode": "closest",
          "mapbox": {
           "style": "light"
          },
          "paper_bgcolor": "white",
          "plot_bgcolor": "#E5ECF6",
          "polar": {
           "angularaxis": {
            "gridcolor": "white",
            "linecolor": "white",
            "ticks": ""
           },
           "bgcolor": "#E5ECF6",
           "radialaxis": {
            "gridcolor": "white",
            "linecolor": "white",
            "ticks": ""
           }
          },
          "scene": {
           "xaxis": {
            "backgroundcolor": "#E5ECF6",
            "gridcolor": "white",
            "gridwidth": 2,
            "linecolor": "white",
            "showbackground": true,
            "ticks": "",
            "zerolinecolor": "white"
           },
           "yaxis": {
            "backgroundcolor": "#E5ECF6",
            "gridcolor": "white",
            "gridwidth": 2,
            "linecolor": "white",
            "showbackground": true,
            "ticks": "",
            "zerolinecolor": "white"
           },
           "zaxis": {
            "backgroundcolor": "#E5ECF6",
            "gridcolor": "white",
            "gridwidth": 2,
            "linecolor": "white",
            "showbackground": true,
            "ticks": "",
            "zerolinecolor": "white"
           }
          },
          "shapedefaults": {
           "line": {
            "color": "#2a3f5f"
           }
          },
          "ternary": {
           "aaxis": {
            "gridcolor": "white",
            "linecolor": "white",
            "ticks": ""
           },
           "baxis": {
            "gridcolor": "white",
            "linecolor": "white",
            "ticks": ""
           },
           "bgcolor": "#E5ECF6",
           "caxis": {
            "gridcolor": "white",
            "linecolor": "white",
            "ticks": ""
           }
          },
          "title": {
           "x": 0.05
          },
          "xaxis": {
           "automargin": true,
           "gridcolor": "white",
           "linecolor": "white",
           "ticks": "",
           "title": {
            "standoff": 15
           },
           "zerolinecolor": "white",
           "zerolinewidth": 2
          },
          "yaxis": {
           "automargin": true,
           "gridcolor": "white",
           "linecolor": "white",
           "ticks": "",
           "title": {
            "standoff": 15
           },
           "zerolinecolor": "white",
           "zerolinewidth": 2
          }
         }
        }
       }
      },
      "text/html": [
       "<div>\n",
       "        \n",
       "        \n",
       "            <div id=\"15b77769-cdd1-4964-bd30-3ab65d070b0e\" class=\"plotly-graph-div\" style=\"height:525px; width:100%;\"></div>\n",
       "            <script type=\"text/javascript\">\n",
       "                require([\"plotly\"], function(Plotly) {\n",
       "                    window.PLOTLYENV=window.PLOTLYENV || {};\n",
       "                    \n",
       "                if (document.getElementById(\"15b77769-cdd1-4964-bd30-3ab65d070b0e\")) {\n",
       "                    Plotly.newPlot(\n",
       "                        '15b77769-cdd1-4964-bd30-3ab65d070b0e',\n",
       "                        [{\"coloraxis\": \"coloraxis\", \"geo\": \"geo\", \"hoverlabel\": {\"namelength\": 0}, \"hovertemplate\": \"locations=%{location}<br>color=%{z}\", \"locationmode\": \"USA-states\", \"locations\": [\"AL\", \"AK\", \"AZ\", \"AR\", \"CA\", \"CO\", \"CT\", \"DE\", \"FL\", \"GA\", \"HI\", \"ID\", \"IL\", \"IN\", \"IA\", \"KS\", \"KY\", \"LA\", \"ME\", \"MD\", \"MA\", \"MI\", \"MN\", \"MS\", \"MO\", \"MT\", \"NE\", \"NV\", \"NH\", \"NJ\", \"NM\", \"NY\", \"NC\", \"ND\", \"OH\", \"OK\", \"OR\", \"PA\", \"RI\", \"SC\", \"SD\", \"TN\", \"TX\", \"UT\", \"VT\", \"VA\", \"WA\", \"WV\", \"WI\", \"WY\"], \"name\": \"\", \"type\": \"choropleth\", \"z\": [0.016076265048196193, 0.0012755931694370727, 0.01714769575714718, 0.006388037578984306, 0.11040468564637174, 0.03387448028366183, 0.05692751979941736, 0.0074923742425176045, 0.09293361609665764, 0.06021784593438257, 0.0023288278186148225, 0.00665218602061091, 0.09647810609671992, 0.036504504464073044, 0.007823065129654787, 0.006252836474381704, 0.008753202301021928, 0.09360148948407301, 0.0032510099749016785, 0.03789308618881745, 0.11667483268788434, 0.11581767985522724, 0.007468861497634664, 0.013451086820904543, 0.019932665859580666, 0.0018424466171335935, 0.0035797093308918087, 0.013581448992295827, 0.004548026239037151, 0.29028808570428655, 0.005678554642981997, 0.9032778092598177, 0.021864886575784143, 0.0015648051857348158, 0.03241467915965666, 0.009267123573784675, 0.0071934654836077055, 0.10489368691483596, 0.012021121495060611, 0.015511249459783293, 0.003811310390894559, 0.0257454431816665, 0.06338592490484687, 0.010909543168701363, 0.003357956211051532, 0.025039108759926928, 0.050642894857137535, 0.00277458930731658, 0.016074654547286238, 0.0012703226408252168]}],\n",
       "                        {\"coloraxis\": {\"cmax\": 0.9, \"cmin\": 0, \"colorbar\": {\"title\": {\"text\": \"color\"}}, \"colorscale\": [[0.0, \"#0d0887\"], [0.1111111111111111, \"#46039f\"], [0.2222222222222222, \"#7201a8\"], [0.3333333333333333, \"#9c179e\"], [0.4444444444444444, \"#bd3786\"], [0.5555555555555556, \"#d8576b\"], [0.6666666666666666, \"#ed7953\"], [0.7777777777777778, \"#fb9f3a\"], [0.8888888888888888, \"#fdca26\"], [1.0, \"#f0f921\"]]}, \"geo\": {\"center\": {}, \"domain\": {\"x\": [0.0, 1.0], \"y\": [0.0, 1.0]}, \"scope\": \"usa\"}, \"legend\": {\"tracegroupgap\": 0}, \"margin\": {\"b\": 0, \"l\": 0, \"r\": 0, \"t\": 0}, \"template\": {\"data\": {\"bar\": [{\"error_x\": {\"color\": \"#2a3f5f\"}, \"error_y\": {\"color\": \"#2a3f5f\"}, \"marker\": {\"line\": {\"color\": \"#E5ECF6\", \"width\": 0.5}}, \"type\": \"bar\"}], \"barpolar\": [{\"marker\": {\"line\": {\"color\": \"#E5ECF6\", \"width\": 0.5}}, \"type\": \"barpolar\"}], \"carpet\": [{\"aaxis\": {\"endlinecolor\": \"#2a3f5f\", \"gridcolor\": \"white\", \"linecolor\": \"white\", \"minorgridcolor\": \"white\", \"startlinecolor\": \"#2a3f5f\"}, \"baxis\": {\"endlinecolor\": \"#2a3f5f\", \"gridcolor\": \"white\", \"linecolor\": \"white\", \"minorgridcolor\": \"white\", \"startlinecolor\": \"#2a3f5f\"}, \"type\": \"carpet\"}], \"choropleth\": [{\"colorbar\": {\"outlinewidth\": 0, \"ticks\": \"\"}, \"type\": \"choropleth\"}], \"contour\": [{\"colorbar\": {\"outlinewidth\": 0, \"ticks\": \"\"}, \"colorscale\": [[0.0, \"#0d0887\"], [0.1111111111111111, \"#46039f\"], [0.2222222222222222, \"#7201a8\"], [0.3333333333333333, \"#9c179e\"], [0.4444444444444444, \"#bd3786\"], [0.5555555555555556, \"#d8576b\"], [0.6666666666666666, \"#ed7953\"], [0.7777777777777778, \"#fb9f3a\"], [0.8888888888888888, \"#fdca26\"], [1.0, \"#f0f921\"]], \"type\": \"contour\"}], \"contourcarpet\": [{\"colorbar\": {\"outlinewidth\": 0, \"ticks\": \"\"}, \"type\": \"contourcarpet\"}], \"heatmap\": [{\"colorbar\": {\"outlinewidth\": 0, \"ticks\": \"\"}, \"colorscale\": [[0.0, \"#0d0887\"], [0.1111111111111111, \"#46039f\"], [0.2222222222222222, \"#7201a8\"], [0.3333333333333333, \"#9c179e\"], [0.4444444444444444, \"#bd3786\"], [0.5555555555555556, \"#d8576b\"], [0.6666666666666666, \"#ed7953\"], [0.7777777777777778, \"#fb9f3a\"], [0.8888888888888888, \"#fdca26\"], [1.0, \"#f0f921\"]], \"type\": \"heatmap\"}], \"heatmapgl\": [{\"colorbar\": {\"outlinewidth\": 0, \"ticks\": \"\"}, \"colorscale\": [[0.0, \"#0d0887\"], [0.1111111111111111, \"#46039f\"], [0.2222222222222222, \"#7201a8\"], [0.3333333333333333, \"#9c179e\"], [0.4444444444444444, \"#bd3786\"], [0.5555555555555556, \"#d8576b\"], [0.6666666666666666, \"#ed7953\"], [0.7777777777777778, \"#fb9f3a\"], [0.8888888888888888, \"#fdca26\"], [1.0, \"#f0f921\"]], \"type\": \"heatmapgl\"}], \"histogram\": [{\"marker\": {\"colorbar\": {\"outlinewidth\": 0, \"ticks\": \"\"}}, \"type\": \"histogram\"}], \"histogram2d\": [{\"colorbar\": {\"outlinewidth\": 0, \"ticks\": \"\"}, \"colorscale\": [[0.0, \"#0d0887\"], [0.1111111111111111, \"#46039f\"], [0.2222222222222222, \"#7201a8\"], [0.3333333333333333, \"#9c179e\"], [0.4444444444444444, \"#bd3786\"], [0.5555555555555556, \"#d8576b\"], [0.6666666666666666, \"#ed7953\"], [0.7777777777777778, \"#fb9f3a\"], [0.8888888888888888, \"#fdca26\"], [1.0, \"#f0f921\"]], \"type\": \"histogram2d\"}], \"histogram2dcontour\": [{\"colorbar\": {\"outlinewidth\": 0, \"ticks\": \"\"}, \"colorscale\": [[0.0, \"#0d0887\"], [0.1111111111111111, \"#46039f\"], [0.2222222222222222, \"#7201a8\"], [0.3333333333333333, \"#9c179e\"], [0.4444444444444444, \"#bd3786\"], [0.5555555555555556, \"#d8576b\"], [0.6666666666666666, \"#ed7953\"], [0.7777777777777778, \"#fb9f3a\"], [0.8888888888888888, \"#fdca26\"], [1.0, \"#f0f921\"]], \"type\": \"histogram2dcontour\"}], \"mesh3d\": [{\"colorbar\": {\"outlinewidth\": 0, \"ticks\": \"\"}, \"type\": \"mesh3d\"}], \"parcoords\": [{\"line\": {\"colorbar\": {\"outlinewidth\": 0, \"ticks\": \"\"}}, \"type\": \"parcoords\"}], \"pie\": [{\"automargin\": true, \"type\": \"pie\"}], \"scatter\": [{\"marker\": {\"colorbar\": {\"outlinewidth\": 0, \"ticks\": \"\"}}, \"type\": \"scatter\"}], \"scatter3d\": [{\"line\": {\"colorbar\": {\"outlinewidth\": 0, \"ticks\": \"\"}}, \"marker\": {\"colorbar\": {\"outlinewidth\": 0, \"ticks\": \"\"}}, \"type\": \"scatter3d\"}], \"scattercarpet\": [{\"marker\": {\"colorbar\": {\"outlinewidth\": 0, \"ticks\": \"\"}}, \"type\": \"scattercarpet\"}], \"scattergeo\": [{\"marker\": {\"colorbar\": {\"outlinewidth\": 0, \"ticks\": \"\"}}, \"type\": \"scattergeo\"}], \"scattergl\": [{\"marker\": {\"colorbar\": {\"outlinewidth\": 0, \"ticks\": \"\"}}, \"type\": \"scattergl\"}], \"scattermapbox\": [{\"marker\": {\"colorbar\": {\"outlinewidth\": 0, \"ticks\": \"\"}}, \"type\": \"scattermapbox\"}], \"scatterpolar\": [{\"marker\": {\"colorbar\": {\"outlinewidth\": 0, \"ticks\": \"\"}}, \"type\": \"scatterpolar\"}], \"scatterpolargl\": [{\"marker\": {\"colorbar\": {\"outlinewidth\": 0, \"ticks\": \"\"}}, \"type\": \"scatterpolargl\"}], \"scatterternary\": [{\"marker\": {\"colorbar\": {\"outlinewidth\": 0, \"ticks\": \"\"}}, \"type\": \"scatterternary\"}], \"surface\": [{\"colorbar\": {\"outlinewidth\": 0, \"ticks\": \"\"}, \"colorscale\": [[0.0, \"#0d0887\"], [0.1111111111111111, \"#46039f\"], [0.2222222222222222, \"#7201a8\"], [0.3333333333333333, \"#9c179e\"], [0.4444444444444444, \"#bd3786\"], [0.5555555555555556, \"#d8576b\"], [0.6666666666666666, \"#ed7953\"], [0.7777777777777778, \"#fb9f3a\"], [0.8888888888888888, \"#fdca26\"], [1.0, \"#f0f921\"]], \"type\": \"surface\"}], \"table\": [{\"cells\": {\"fill\": {\"color\": \"#EBF0F8\"}, \"line\": {\"color\": \"white\"}}, \"header\": {\"fill\": {\"color\": \"#C8D4E3\"}, \"line\": {\"color\": \"white\"}}, \"type\": \"table\"}]}, \"layout\": {\"annotationdefaults\": {\"arrowcolor\": \"#2a3f5f\", \"arrowhead\": 0, \"arrowwidth\": 1}, \"coloraxis\": {\"colorbar\": {\"outlinewidth\": 0, \"ticks\": \"\"}}, \"colorscale\": {\"diverging\": [[0, \"#8e0152\"], [0.1, \"#c51b7d\"], [0.2, \"#de77ae\"], [0.3, \"#f1b6da\"], [0.4, \"#fde0ef\"], [0.5, \"#f7f7f7\"], [0.6, \"#e6f5d0\"], [0.7, \"#b8e186\"], [0.8, \"#7fbc41\"], [0.9, \"#4d9221\"], [1, \"#276419\"]], \"sequential\": [[0.0, \"#0d0887\"], [0.1111111111111111, \"#46039f\"], [0.2222222222222222, \"#7201a8\"], [0.3333333333333333, \"#9c179e\"], [0.4444444444444444, \"#bd3786\"], [0.5555555555555556, \"#d8576b\"], [0.6666666666666666, \"#ed7953\"], [0.7777777777777778, \"#fb9f3a\"], [0.8888888888888888, \"#fdca26\"], [1.0, \"#f0f921\"]], \"sequentialminus\": [[0.0, \"#0d0887\"], [0.1111111111111111, \"#46039f\"], [0.2222222222222222, \"#7201a8\"], [0.3333333333333333, \"#9c179e\"], [0.4444444444444444, \"#bd3786\"], [0.5555555555555556, \"#d8576b\"], [0.6666666666666666, \"#ed7953\"], [0.7777777777777778, \"#fb9f3a\"], [0.8888888888888888, \"#fdca26\"], [1.0, \"#f0f921\"]]}, \"colorway\": [\"#636efa\", \"#EF553B\", \"#00cc96\", \"#ab63fa\", \"#FFA15A\", \"#19d3f3\", \"#FF6692\", \"#B6E880\", \"#FF97FF\", \"#FECB52\"], \"font\": {\"color\": \"#2a3f5f\"}, \"geo\": {\"bgcolor\": \"white\", \"lakecolor\": \"white\", \"landcolor\": \"#E5ECF6\", \"showlakes\": true, \"showland\": true, \"subunitcolor\": \"white\"}, \"hoverlabel\": {\"align\": \"left\"}, \"hovermode\": \"closest\", \"mapbox\": {\"style\": \"light\"}, \"paper_bgcolor\": \"white\", \"plot_bgcolor\": \"#E5ECF6\", \"polar\": {\"angularaxis\": {\"gridcolor\": \"white\", \"linecolor\": \"white\", \"ticks\": \"\"}, \"bgcolor\": \"#E5ECF6\", \"radialaxis\": {\"gridcolor\": \"white\", \"linecolor\": \"white\", \"ticks\": \"\"}}, \"scene\": {\"xaxis\": {\"backgroundcolor\": \"#E5ECF6\", \"gridcolor\": \"white\", \"gridwidth\": 2, \"linecolor\": \"white\", \"showbackground\": true, \"ticks\": \"\", \"zerolinecolor\": \"white\"}, \"yaxis\": {\"backgroundcolor\": \"#E5ECF6\", \"gridcolor\": \"white\", \"gridwidth\": 2, \"linecolor\": \"white\", \"showbackground\": true, \"ticks\": \"\", \"zerolinecolor\": \"white\"}, \"zaxis\": {\"backgroundcolor\": \"#E5ECF6\", \"gridcolor\": \"white\", \"gridwidth\": 2, \"linecolor\": \"white\", \"showbackground\": true, \"ticks\": \"\", \"zerolinecolor\": \"white\"}}, \"shapedefaults\": {\"line\": {\"color\": \"#2a3f5f\"}}, \"ternary\": {\"aaxis\": {\"gridcolor\": \"white\", \"linecolor\": \"white\", \"ticks\": \"\"}, \"baxis\": {\"gridcolor\": \"white\", \"linecolor\": \"white\", \"ticks\": \"\"}, \"bgcolor\": \"#E5ECF6\", \"caxis\": {\"gridcolor\": \"white\", \"linecolor\": \"white\", \"ticks\": \"\"}}, \"title\": {\"x\": 0.05}, \"xaxis\": {\"automargin\": true, \"gridcolor\": \"white\", \"linecolor\": \"white\", \"ticks\": \"\", \"title\": {\"standoff\": 15}, \"zerolinecolor\": \"white\", \"zerolinewidth\": 2}, \"yaxis\": {\"automargin\": true, \"gridcolor\": \"white\", \"linecolor\": \"white\", \"ticks\": \"\", \"title\": {\"standoff\": 15}, \"zerolinecolor\": \"white\", \"zerolinewidth\": 2}}}},\n",
       "                        {\"responsive\": true}\n",
       "                    ).then(function(){\n",
       "                            \n",
       "var gd = document.getElementById('15b77769-cdd1-4964-bd30-3ab65d070b0e');\n",
       "var x = new MutationObserver(function (mutations, observer) {{\n",
       "        var display = window.getComputedStyle(gd).display;\n",
       "        if (!display || display === 'none') {{\n",
       "            console.log([gd, 'removed!']);\n",
       "            Plotly.purge(gd);\n",
       "            observer.disconnect();\n",
       "        }}\n",
       "}});\n",
       "\n",
       "// Listen for the removal of the full notebook cells\n",
       "var notebookContainer = gd.closest('#notebook-container');\n",
       "if (notebookContainer) {{\n",
       "    x.observe(notebookContainer, {childList: true});\n",
       "}}\n",
       "\n",
       "// Listen for the clearing of the current output cell\n",
       "var outputEl = gd.closest('.output');\n",
       "if (outputEl) {{\n",
       "    x.observe(outputEl, {childList: true});\n",
       "}}\n",
       "\n",
       "                        })\n",
       "                };\n",
       "                });\n",
       "            </script>\n",
       "        </div>"
      ]
     },
     "metadata": {},
     "output_type": "display_data"
    }
   ],
   "source": [
    "# Modes map\n",
    "\n",
    "dmd = DMD(svd_rank=1)\n",
    "dmd.fit(scaledData) # transpose so snapshots (state data) are arranged by column\n",
    "\n",
    "\n",
    "with urlopen('https://raw.githubusercontent.com/plotly/datasets/master/geojson-counties-fips.json') as response:\n",
    "    counties = json.load(response)\n",
    "df = dynamic.real\n",
    "fig = px.choropleth(df,    locations=statesA,  \n",
    "                           locationmode=\"USA-states\",\n",
    "                           color=abs(dmd.modes.real),\n",
    "                           range_color=(0,0.9),\n",
    "                           scope=\"usa\",\n",
    "                          )\n",
    "fig.update_layout(margin={\"r\":0,\"t\":0,\"l\":0,\"b\":0})\n",
    "fig.show()"
   ]
  },
  {
   "cell_type": "markdown",
   "metadata": {},
   "source": [
    "### DMDc"
   ]
  },
  {
   "cell_type": "markdown",
   "metadata": {},
   "source": [
    "Since we want to add the control, the evolution of the complex system can be formally summarized as:$$\n",
    "\\mathbf{x}_{k+1} = \\mathbf{A}\\mathbf{x}_k + \\mathbf{B}\\mathbf{u}_k,\n",
    "$$where the operators $\\mathbf{A}$ and $\\mathbf{B}$ are the ones we will approximate using DMD."
   ]
  },
  {
   "cell_type": "code",
   "execution_count": 47,
   "metadata": {},
   "outputs": [],
   "source": [
    "dmdc = DMDc()\n",
    "dmdc.fit(scaledData, np.zeros(28))"
   ]
  },
  {
   "cell_type": "code",
   "execution_count": 48,
   "metadata": {},
   "outputs": [
    {
     "data": {
      "image/png": "[encoded data removed]",
      "text/plain": [
       "<Figure size 1152x432 with 4 Axes>"
      ]
     },
     "metadata": {
      "needs_background": "light"
     },
     "output_type": "display_data"
    }
   ],
   "source": [
    "plt.figure(figsize=(16,6))\n",
    "\n",
    "plt.subplot(121)\n",
    "plt.title('Original system')\n",
    "plt.xlabel('Time / days')\n",
    "plt.ylabel('States')\n",
    "plt.pcolor(scaledData)\n",
    "plt.colorbar()\n",
    "\n",
    "plt.subplot(122)\n",
    "plt.title('Reconstructed system')\n",
    "plt.xlabel('Number of days since 3/10/2020')\n",
    "plt.ylabel('Time / days')\n",
    "plt.pcolor(dmdc.reconstructed_data().real)\n",
    "plt.colorbar()\n",
    "\n",
    "plt.show()"
   ]
  },
  {
   "cell_type": "code",
   "execution_count": 49,
   "metadata": {},
   "outputs": [
    {
     "data": {
      "image/png": "[encoded data removed]",
      "text/plain": [
       "<Figure size 576x432 with 2 Axes>"
      ]
     },
     "metadata": {
      "needs_background": "light"
     },
     "output_type": "display_data"
    }
   ],
   "source": [
    "dmdc.dmd_time['dt'] = .5\n",
    "u = np.random.rand(1,1)-.5\n",
    "new_u = np.random.rand(u.shape[0], dmdc.dynamics.shape[1]-1)\n",
    "\n",
    "plt.figure(figsize=(8,6))\n",
    "plt.pcolor(dmdc.reconstructed_data(new_u).real)\n",
    "plt.colorbar()\n",
    "plt.show()"
   ]
  },
  {
   "cell_type": "code",
   "execution_count": null,
   "metadata": {},
   "outputs": [],
   "source": []
  }
 ],
 "metadata": {
  "kernelspec": {
   "display_name": "Python 3",
   "language": "python",
   "name": "python3"
  },
  "language_info": {
   "codemirror_mode": {
    "name": "ipython",
    "version": 3
   },
   "file_extension": ".py",
   "mimetype": "text/x-python",
   "name": "python",
   "nbconvert_exporter": "python",
   "pygments_lexer": "ipython3",
   "version": "3.7.7"
  }
 },
 "nbformat": 4,
 "nbformat_minor": 2
}
