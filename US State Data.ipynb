{
 "cells": [
  {
   "cell_type": "markdown",
   "metadata": {},
   "source": [
    "# Discovering Dynamic Patterns from Coronavirus Data using Dynamic Mode Decomposition with Control: US State Data"
   ]
  },
  {
   "cell_type": "markdown",
   "metadata": {},
   "source": [
    "## Import Data"
   ]
  },
  {
   "cell_type": "code",
   "execution_count": 87,
   "metadata": {},
   "outputs": [],
   "source": [
    "# package imports\n",
    "import pandas as pd\n",
    "import matplotlib.pyplot as plt\n",
    "from sklearn import preprocessing\n",
    "import numpy as np\n",
    "from pydmd import DMD\n",
    "from datetime import timedelta, date, datetime\n",
    "import re \n",
    "from urllib.request import urlopen\n",
    "import json\n",
    "import plotly.express as px"
   ]
  },
  {
   "cell_type": "code",
   "execution_count": 33,
   "metadata": {},
   "outputs": [],
   "source": [
    "# import csse_covid_19_daily_reports\n",
    "\n",
    "# create data frame:\n",
    "# list of states\n",
    "states = [\"Alabama\",\"Alaska\",\"Arizona\",\"Arkansas\",\"California\",\"Colorado\",\n",
    "  \"Connecticut\",\"Delaware\",\"Florida\",\"Georgia\",\"Hawaii\",\"Idaho\",\"Illinois\",\n",
    "  \"Indiana\",\"Iowa\",\"Kansas\",\"Kentucky\",\"Louisiana\",\"Maine\",\"Maryland\",\n",
    "  \"Massachusetts\",\"Michigan\",\"Minnesota\",\"Mississippi\",\"Missouri\",\"Montana\",\n",
    "  \"Nebraska\",\"Nevada\",\"New Hampshire\",\"New Jersey\",\"New Mexico\",\"New York\",\n",
    "  \"North Carolina\",\"North Dakota\",\"Ohio\",\"Oklahoma\",\"Oregon\",\"Pennsylvania\",\n",
    "  \"Rhode Island\",\"South Carolina\",\"South Dakota\",\"Tennessee\",\"Texas\",\"Utah\",\n",
    "  \"Vermont\",\"Virginia\",\"Washington\",\"West Virginia\",\"Wisconsin\",\"Wyoming\"]\n",
    "\n",
    "\n",
    "statesA = [\"AL\", \"AK\", \"AZ\", \"AR\", \"CA\", \"CO\", \"CT\", \"DE\", \"FL\", \"GA\", \n",
    "          \"HI\", \"ID\", \"IL\", \"IN\", \"IA\", \"KS\", \"KY\", \"LA\", \"ME\", \"MD\", \n",
    "          \"MA\", \"MI\", \"MN\", \"MS\", \"MO\", \"MT\", \"NE\", \"NV\", \"NH\", \"NJ\", \n",
    "          \"NM\", \"NY\", \"NC\", \"ND\", \"OH\", \"OK\", \"OR\", \"PA\", \"RI\", \"SC\", \n",
    "          \"SD\", \"TN\", \"TX\", \"UT\", \"VT\", \"VA\", \"WA\", \"WV\", \"WI\", \"WY\"]\n"
   ]
  },
  {
   "cell_type": "code",
   "execution_count": 34,
   "metadata": {},
   "outputs": [],
   "source": [
    "# add later date data\n",
    "\n",
    "rowsum = pd.DataFrame()\n",
    "stateData = pd.DataFrame()"
   ]
  },
  {
   "cell_type": "code",
   "execution_count": 35,
   "metadata": {},
   "outputs": [],
   "source": [
    "start_date = date(2020, 1, 22)\n",
    "end_date = date(2020, 1, 31)\n",
    "\n",
    "for single_date in pd.date_range(start_date, end_date):\n",
    "    newStateData = pd.DataFrame()\n",
    "    url = 'https://raw.githubusercontent.com/CSSEGISandData/COVID-19/master/csse_covid_19_data/csse_covid_19_daily_reports/'+ single_date.strftime(\"%m-%d-%Y\") +'.csv'\n",
    "    daily = pd.read_csv(url, error_bad_lines=False)\n",
    "    for state in states:\n",
    "        totalInState = daily.loc[daily['Province/State'] == state]\n",
    "        title = totalInState.loc[:,'Province/State':'Province/State']\n",
    "        if totalInState.empty == False:\n",
    "            title = title.iloc[[0],:]\n",
    "            rowSum = pd.DataFrame(totalInState.loc[:,'Confirmed':].sum())\n",
    "            newStateData = pd.concat([newStateData,title.reset_index().join(rowSum.iloc[0].rename(single_date.strftime(\"%m-%d-%Y\")))])\n",
    "    newStateData = newStateData.set_index('Province/State').drop(columns=['index'])\n",
    "    stateData = pd.concat([stateData,newStateData],axis=1)"
   ]
  },
  {
   "cell_type": "code",
   "execution_count": 36,
   "metadata": {},
   "outputs": [],
   "source": [
    "start_date = date(2020, 2, 1)\n",
    "end_date = date(2020, 3, 9)\n",
    "\n",
    "for single_date in pd.date_range(start_date, end_date):\n",
    "    stateIter = iter(states)\n",
    "    newStateData = pd.DataFrame()\n",
    "    url = 'https://raw.githubusercontent.com/CSSEGISandData/COVID-19/master/csse_covid_19_data/csse_covid_19_daily_reports/'+ single_date.strftime(\"%m-%d-%Y\") +'.csv'\n",
    "    daily = pd.read_csv(url, error_bad_lines=False)\n",
    "\n",
    "    for state in statesA:\n",
    "        stateName = next(stateIter)\n",
    "        totalInState = daily.loc[daily['Country/Region'] == 'US']\n",
    "        totalInState = totalInState.loc[totalInState['Province/State'].str.contains(state)]\n",
    "        if totalInState.empty == False:\n",
    "            title = totalInState.loc[:,'Province/State':'Province/State']\n",
    "            title = title.iloc[[0],:]\n",
    "            title.at[:,'Province/State']= stateName\n",
    "            rowSum = pd.DataFrame(totalInState.loc[:,'Confirmed':].sum())\n",
    "            newStateData = pd.concat([newStateData,title.reset_index().join(rowSum.iloc[0].rename(single_date.strftime(\"%m-%d-%Y\")))])\n",
    "    newStateData = newStateData.set_index('Province/State').drop(columns=['index'])\n",
    "    stateData = pd.concat([stateData,newStateData],axis=1)"
   ]
  },
  {
   "cell_type": "code",
   "execution_count": 37,
   "metadata": {},
   "outputs": [],
   "source": [
    "start_date = date(2020, 3, 10)\n",
    "end_date = date(2020, 3, 21)\n",
    "\n",
    "newStateData = pd.DataFrame()\n",
    "\n",
    "for single_date in pd.date_range(start_date, end_date):\n",
    "    newStateData = pd.DataFrame()\n",
    "    url = 'https://raw.githubusercontent.com/CSSEGISandData/COVID-19/master/csse_covid_19_data/csse_covid_19_daily_reports/'+ single_date.strftime(\"%m-%d-%Y\") +'.csv'\n",
    "    daily = pd.read_csv(url, error_bad_lines=False)\n",
    "    for state in states:\n",
    "        totalInState = daily.loc[daily['Province/State'] == state]\n",
    "        title = totalInState.loc[:,'Province/State':'Province/State']\n",
    "        if totalInState.empty == False:\n",
    "            title = title.iloc[[0],:]\n",
    "            rowSum = pd.DataFrame(totalInState.loc[:,'Confirmed':].sum())\n",
    "            newStateData = pd.concat([newStateData,title.reset_index().join(rowSum.iloc[0].rename(single_date.strftime(\"%m-%d-%Y\")))])\n",
    "    newStateData = newStateData.set_index('Province/State').drop(columns=['index'])\n",
    "    stateData = pd.concat([stateData,newStateData],axis=1)"
   ]
  },
  {
   "cell_type": "code",
   "execution_count": 38,
   "metadata": {},
   "outputs": [
    {
     "name": "stdout",
     "output_type": "stream",
     "text": [
      "Todays file has not yet been uploaded\n"
     ]
    }
   ],
   "source": [
    "start_date = date(2020, 3, 22)\n",
    "end_date = end_date = datetime.date(datetime.now())\n",
    "\n",
    "newStateData = pd.DataFrame()\n",
    "\n",
    "for single_date in pd.date_range(start_date, end_date):\n",
    "    newStateData = pd.DataFrame()\n",
    "    url = 'https://raw.githubusercontent.com/CSSEGISandData/COVID-19/master/csse_covid_19_data/csse_covid_19_daily_reports/'+ single_date.strftime(\"%m-%d-%Y\") +'.csv'\n",
    "    try:\n",
    "        daily = pd.read_csv(url, error_bad_lines=False)\n",
    "        for state in states:\n",
    "            totalInState = daily.loc[daily['Province_State'] == state]\n",
    "            title = totalInState.loc[:,'Province_State':'Province_State']\n",
    "            if totalInState.empty == False:\n",
    "                title = title.iloc[[0],:]\n",
    "                rowSum = pd.DataFrame(totalInState.loc[:,'Confirmed':].sum())\n",
    "                newStateData = pd.concat([newStateData,title.reset_index().join(rowSum.iloc[0].rename(single_date.strftime(\"%m-%d-%Y\")))])\n",
    "        newStateData = newStateData.set_index('Province_State').drop(columns=['index'])\n",
    "        stateData = pd.concat([stateData,newStateData],axis=1)\n",
    "    except:\n",
    "        print('Todays file has not yet been uploaded')"
   ]
  },
  {
   "cell_type": "code",
   "execution_count": 39,
   "metadata": {},
   "outputs": [
    {
     "data": {
      "text/html": [
       "<div>\n",
       "<style scoped>\n",
       "    .dataframe tbody tr th:only-of-type {\n",
       "        vertical-align: middle;\n",
       "    }\n",
       "\n",
       "    .dataframe tbody tr th {\n",
       "        vertical-align: top;\n",
       "    }\n",
       "\n",
       "    .dataframe thead th {\n",
       "        text-align: right;\n",
       "    }\n",
       "</style>\n",
       "<table border=\"1\" class=\"dataframe\">\n",
       "  <thead>\n",
       "    <tr style=\"text-align: right;\">\n",
       "      <th></th>\n",
       "      <th>01-22-2020</th>\n",
       "      <th>01-23-2020</th>\n",
       "      <th>01-24-2020</th>\n",
       "      <th>01-25-2020</th>\n",
       "      <th>01-26-2020</th>\n",
       "      <th>01-27-2020</th>\n",
       "      <th>01-28-2020</th>\n",
       "      <th>01-29-2020</th>\n",
       "      <th>01-30-2020</th>\n",
       "      <th>01-31-2020</th>\n",
       "      <th>...</th>\n",
       "      <th>03-21-2020</th>\n",
       "      <th>03-22-2020</th>\n",
       "      <th>03-23-2020</th>\n",
       "      <th>03-24-2020</th>\n",
       "      <th>03-25-2020</th>\n",
       "      <th>03-26-2020</th>\n",
       "      <th>03-27-2020</th>\n",
       "      <th>03-28-2020</th>\n",
       "      <th>03-29-2020</th>\n",
       "      <th>03-30-2020</th>\n",
       "    </tr>\n",
       "  </thead>\n",
       "  <tbody>\n",
       "    <tr>\n",
       "      <th>Washington</th>\n",
       "      <td>1.0</td>\n",
       "      <td>1.0</td>\n",
       "      <td>1.0</td>\n",
       "      <td>1.0</td>\n",
       "      <td>1.0</td>\n",
       "      <td>1.0</td>\n",
       "      <td>1.0</td>\n",
       "      <td>1.0</td>\n",
       "      <td>1.0</td>\n",
       "      <td>1.0</td>\n",
       "      <td>...</td>\n",
       "      <td>1793.0</td>\n",
       "      <td>1997</td>\n",
       "      <td>2221</td>\n",
       "      <td>2328</td>\n",
       "      <td>2591</td>\n",
       "      <td>3207</td>\n",
       "      <td>3477</td>\n",
       "      <td>4030</td>\n",
       "      <td>4465</td>\n",
       "      <td>4923</td>\n",
       "    </tr>\n",
       "    <tr>\n",
       "      <th>Illinois</th>\n",
       "      <td>0.0</td>\n",
       "      <td>0.0</td>\n",
       "      <td>0.0</td>\n",
       "      <td>1.0</td>\n",
       "      <td>1.0</td>\n",
       "      <td>1.0</td>\n",
       "      <td>1.0</td>\n",
       "      <td>1.0</td>\n",
       "      <td>1.0</td>\n",
       "      <td>2.0</td>\n",
       "      <td>...</td>\n",
       "      <td>753.0</td>\n",
       "      <td>1049</td>\n",
       "      <td>1285</td>\n",
       "      <td>1537</td>\n",
       "      <td>1865</td>\n",
       "      <td>2538</td>\n",
       "      <td>3024</td>\n",
       "      <td>3491</td>\n",
       "      <td>4596</td>\n",
       "      <td>5056</td>\n",
       "    </tr>\n",
       "    <tr>\n",
       "      <th>Arizona</th>\n",
       "      <td>0.0</td>\n",
       "      <td>0.0</td>\n",
       "      <td>0.0</td>\n",
       "      <td>0.0</td>\n",
       "      <td>1.0</td>\n",
       "      <td>1.0</td>\n",
       "      <td>1.0</td>\n",
       "      <td>1.0</td>\n",
       "      <td>1.0</td>\n",
       "      <td>1.0</td>\n",
       "      <td>...</td>\n",
       "      <td>118.0</td>\n",
       "      <td>152</td>\n",
       "      <td>235</td>\n",
       "      <td>326</td>\n",
       "      <td>401</td>\n",
       "      <td>508</td>\n",
       "      <td>665</td>\n",
       "      <td>773</td>\n",
       "      <td>919</td>\n",
       "      <td>1157</td>\n",
       "    </tr>\n",
       "    <tr>\n",
       "      <th>California</th>\n",
       "      <td>0.0</td>\n",
       "      <td>0.0</td>\n",
       "      <td>0.0</td>\n",
       "      <td>0.0</td>\n",
       "      <td>2.0</td>\n",
       "      <td>2.0</td>\n",
       "      <td>2.0</td>\n",
       "      <td>2.0</td>\n",
       "      <td>2.0</td>\n",
       "      <td>2.0</td>\n",
       "      <td>...</td>\n",
       "      <td>1364.0</td>\n",
       "      <td>1646</td>\n",
       "      <td>2108</td>\n",
       "      <td>2538</td>\n",
       "      <td>2998</td>\n",
       "      <td>3899</td>\n",
       "      <td>4657</td>\n",
       "      <td>5095</td>\n",
       "      <td>5852</td>\n",
       "      <td>7138</td>\n",
       "    </tr>\n",
       "    <tr>\n",
       "      <th>Massachusetts</th>\n",
       "      <td>0.0</td>\n",
       "      <td>0.0</td>\n",
       "      <td>0.0</td>\n",
       "      <td>0.0</td>\n",
       "      <td>0.0</td>\n",
       "      <td>0.0</td>\n",
       "      <td>0.0</td>\n",
       "      <td>0.0</td>\n",
       "      <td>0.0</td>\n",
       "      <td>0.0</td>\n",
       "      <td>...</td>\n",
       "      <td>525.0</td>\n",
       "      <td>646</td>\n",
       "      <td>777</td>\n",
       "      <td>1159</td>\n",
       "      <td>1838</td>\n",
       "      <td>2417</td>\n",
       "      <td>3240</td>\n",
       "      <td>4257</td>\n",
       "      <td>4955</td>\n",
       "      <td>5752</td>\n",
       "    </tr>\n",
       "    <tr>\n",
       "      <th>Wisconsin</th>\n",
       "      <td>0.0</td>\n",
       "      <td>0.0</td>\n",
       "      <td>0.0</td>\n",
       "      <td>0.0</td>\n",
       "      <td>0.0</td>\n",
       "      <td>0.0</td>\n",
       "      <td>0.0</td>\n",
       "      <td>0.0</td>\n",
       "      <td>0.0</td>\n",
       "      <td>0.0</td>\n",
       "      <td>...</td>\n",
       "      <td>282.0</td>\n",
       "      <td>381</td>\n",
       "      <td>425</td>\n",
       "      <td>481</td>\n",
       "      <td>621</td>\n",
       "      <td>728</td>\n",
       "      <td>926</td>\n",
       "      <td>1055</td>\n",
       "      <td>1164</td>\n",
       "      <td>1230</td>\n",
       "    </tr>\n",
       "    <tr>\n",
       "      <th>Texas</th>\n",
       "      <td>0.0</td>\n",
       "      <td>0.0</td>\n",
       "      <td>0.0</td>\n",
       "      <td>0.0</td>\n",
       "      <td>0.0</td>\n",
       "      <td>0.0</td>\n",
       "      <td>0.0</td>\n",
       "      <td>0.0</td>\n",
       "      <td>0.0</td>\n",
       "      <td>0.0</td>\n",
       "      <td>...</td>\n",
       "      <td>581.0</td>\n",
       "      <td>643</td>\n",
       "      <td>758</td>\n",
       "      <td>955</td>\n",
       "      <td>1229</td>\n",
       "      <td>1563</td>\n",
       "      <td>1937</td>\n",
       "      <td>2455</td>\n",
       "      <td>2792</td>\n",
       "      <td>3147</td>\n",
       "    </tr>\n",
       "    <tr>\n",
       "      <th>Nebraska</th>\n",
       "      <td>0.0</td>\n",
       "      <td>0.0</td>\n",
       "      <td>0.0</td>\n",
       "      <td>0.0</td>\n",
       "      <td>0.0</td>\n",
       "      <td>0.0</td>\n",
       "      <td>0.0</td>\n",
       "      <td>0.0</td>\n",
       "      <td>0.0</td>\n",
       "      <td>0.0</td>\n",
       "      <td>...</td>\n",
       "      <td>38.0</td>\n",
       "      <td>51</td>\n",
       "      <td>51</td>\n",
       "      <td>66</td>\n",
       "      <td>71</td>\n",
       "      <td>74</td>\n",
       "      <td>82</td>\n",
       "      <td>96</td>\n",
       "      <td>108</td>\n",
       "      <td>145</td>\n",
       "    </tr>\n",
       "    <tr>\n",
       "      <th>Oregon</th>\n",
       "      <td>0.0</td>\n",
       "      <td>0.0</td>\n",
       "      <td>0.0</td>\n",
       "      <td>0.0</td>\n",
       "      <td>0.0</td>\n",
       "      <td>0.0</td>\n",
       "      <td>0.0</td>\n",
       "      <td>0.0</td>\n",
       "      <td>0.0</td>\n",
       "      <td>0.0</td>\n",
       "      <td>...</td>\n",
       "      <td>114.0</td>\n",
       "      <td>161</td>\n",
       "      <td>191</td>\n",
       "      <td>210</td>\n",
       "      <td>266</td>\n",
       "      <td>316</td>\n",
       "      <td>416</td>\n",
       "      <td>479</td>\n",
       "      <td>548</td>\n",
       "      <td>606</td>\n",
       "    </tr>\n",
       "    <tr>\n",
       "      <th>Rhode Island</th>\n",
       "      <td>0.0</td>\n",
       "      <td>0.0</td>\n",
       "      <td>0.0</td>\n",
       "      <td>0.0</td>\n",
       "      <td>0.0</td>\n",
       "      <td>0.0</td>\n",
       "      <td>0.0</td>\n",
       "      <td>0.0</td>\n",
       "      <td>0.0</td>\n",
       "      <td>0.0</td>\n",
       "      <td>...</td>\n",
       "      <td>66.0</td>\n",
       "      <td>83</td>\n",
       "      <td>106</td>\n",
       "      <td>124</td>\n",
       "      <td>132</td>\n",
       "      <td>165</td>\n",
       "      <td>203</td>\n",
       "      <td>239</td>\n",
       "      <td>294</td>\n",
       "      <td>408</td>\n",
       "    </tr>\n",
       "    <tr>\n",
       "      <th>Florida</th>\n",
       "      <td>0.0</td>\n",
       "      <td>0.0</td>\n",
       "      <td>0.0</td>\n",
       "      <td>0.0</td>\n",
       "      <td>0.0</td>\n",
       "      <td>0.0</td>\n",
       "      <td>0.0</td>\n",
       "      <td>0.0</td>\n",
       "      <td>0.0</td>\n",
       "      <td>0.0</td>\n",
       "      <td>...</td>\n",
       "      <td>659.0</td>\n",
       "      <td>1004</td>\n",
       "      <td>1227</td>\n",
       "      <td>1412</td>\n",
       "      <td>1682</td>\n",
       "      <td>2357</td>\n",
       "      <td>2900</td>\n",
       "      <td>3763</td>\n",
       "      <td>4246</td>\n",
       "      <td>5473</td>\n",
       "    </tr>\n",
       "    <tr>\n",
       "      <th>New Hampshire</th>\n",
       "      <td>0.0</td>\n",
       "      <td>0.0</td>\n",
       "      <td>0.0</td>\n",
       "      <td>0.0</td>\n",
       "      <td>0.0</td>\n",
       "      <td>0.0</td>\n",
       "      <td>0.0</td>\n",
       "      <td>0.0</td>\n",
       "      <td>0.0</td>\n",
       "      <td>0.0</td>\n",
       "      <td>...</td>\n",
       "      <td>55.0</td>\n",
       "      <td>74</td>\n",
       "      <td>101</td>\n",
       "      <td>101</td>\n",
       "      <td>108</td>\n",
       "      <td>137</td>\n",
       "      <td>158</td>\n",
       "      <td>187</td>\n",
       "      <td>214</td>\n",
       "      <td>314</td>\n",
       "    </tr>\n",
       "    <tr>\n",
       "      <th>New York</th>\n",
       "      <td>0.0</td>\n",
       "      <td>0.0</td>\n",
       "      <td>0.0</td>\n",
       "      <td>0.0</td>\n",
       "      <td>0.0</td>\n",
       "      <td>0.0</td>\n",
       "      <td>0.0</td>\n",
       "      <td>0.0</td>\n",
       "      <td>0.0</td>\n",
       "      <td>0.0</td>\n",
       "      <td>...</td>\n",
       "      <td>11710.0</td>\n",
       "      <td>15800</td>\n",
       "      <td>20884</td>\n",
       "      <td>25681</td>\n",
       "      <td>30841</td>\n",
       "      <td>37877</td>\n",
       "      <td>44876</td>\n",
       "      <td>52410</td>\n",
       "      <td>59648</td>\n",
       "      <td>66663</td>\n",
       "    </tr>\n",
       "    <tr>\n",
       "      <th>Georgia</th>\n",
       "      <td>0.0</td>\n",
       "      <td>0.0</td>\n",
       "      <td>0.0</td>\n",
       "      <td>0.0</td>\n",
       "      <td>0.0</td>\n",
       "      <td>0.0</td>\n",
       "      <td>0.0</td>\n",
       "      <td>0.0</td>\n",
       "      <td>0.0</td>\n",
       "      <td>0.0</td>\n",
       "      <td>...</td>\n",
       "      <td>507.0</td>\n",
       "      <td>621</td>\n",
       "      <td>772</td>\n",
       "      <td>1026</td>\n",
       "      <td>1247</td>\n",
       "      <td>1525</td>\n",
       "      <td>2000</td>\n",
       "      <td>2366</td>\n",
       "      <td>2651</td>\n",
       "      <td>2808</td>\n",
       "    </tr>\n",
       "    <tr>\n",
       "      <th>North Carolina</th>\n",
       "      <td>0.0</td>\n",
       "      <td>0.0</td>\n",
       "      <td>0.0</td>\n",
       "      <td>0.0</td>\n",
       "      <td>0.0</td>\n",
       "      <td>0.0</td>\n",
       "      <td>0.0</td>\n",
       "      <td>0.0</td>\n",
       "      <td>0.0</td>\n",
       "      <td>0.0</td>\n",
       "      <td>...</td>\n",
       "      <td>253.0</td>\n",
       "      <td>305</td>\n",
       "      <td>353</td>\n",
       "      <td>495</td>\n",
       "      <td>590</td>\n",
       "      <td>738</td>\n",
       "      <td>887</td>\n",
       "      <td>1020</td>\n",
       "      <td>1191</td>\n",
       "      <td>1313</td>\n",
       "    </tr>\n",
       "    <tr>\n",
       "      <th>Nevada</th>\n",
       "      <td>0.0</td>\n",
       "      <td>0.0</td>\n",
       "      <td>0.0</td>\n",
       "      <td>0.0</td>\n",
       "      <td>0.0</td>\n",
       "      <td>0.0</td>\n",
       "      <td>0.0</td>\n",
       "      <td>0.0</td>\n",
       "      <td>0.0</td>\n",
       "      <td>0.0</td>\n",
       "      <td>...</td>\n",
       "      <td>161.0</td>\n",
       "      <td>190</td>\n",
       "      <td>245</td>\n",
       "      <td>278</td>\n",
       "      <td>323</td>\n",
       "      <td>420</td>\n",
       "      <td>536</td>\n",
       "      <td>626</td>\n",
       "      <td>920</td>\n",
       "      <td>1012</td>\n",
       "    </tr>\n",
       "    <tr>\n",
       "      <th>New Jersey</th>\n",
       "      <td>0.0</td>\n",
       "      <td>0.0</td>\n",
       "      <td>0.0</td>\n",
       "      <td>0.0</td>\n",
       "      <td>0.0</td>\n",
       "      <td>0.0</td>\n",
       "      <td>0.0</td>\n",
       "      <td>0.0</td>\n",
       "      <td>0.0</td>\n",
       "      <td>0.0</td>\n",
       "      <td>...</td>\n",
       "      <td>1327.0</td>\n",
       "      <td>1914</td>\n",
       "      <td>2844</td>\n",
       "      <td>3675</td>\n",
       "      <td>4402</td>\n",
       "      <td>6876</td>\n",
       "      <td>8825</td>\n",
       "      <td>11124</td>\n",
       "      <td>13386</td>\n",
       "      <td>16636</td>\n",
       "    </tr>\n",
       "    <tr>\n",
       "      <th>Tennessee</th>\n",
       "      <td>0.0</td>\n",
       "      <td>0.0</td>\n",
       "      <td>0.0</td>\n",
       "      <td>0.0</td>\n",
       "      <td>0.0</td>\n",
       "      <td>0.0</td>\n",
       "      <td>0.0</td>\n",
       "      <td>0.0</td>\n",
       "      <td>0.0</td>\n",
       "      <td>0.0</td>\n",
       "      <td>...</td>\n",
       "      <td>371.0</td>\n",
       "      <td>505</td>\n",
       "      <td>614</td>\n",
       "      <td>772</td>\n",
       "      <td>916</td>\n",
       "      <td>1097</td>\n",
       "      <td>1318</td>\n",
       "      <td>1511</td>\n",
       "      <td>1720</td>\n",
       "      <td>1917</td>\n",
       "    </tr>\n",
       "    <tr>\n",
       "      <th>Colorado</th>\n",
       "      <td>0.0</td>\n",
       "      <td>0.0</td>\n",
       "      <td>0.0</td>\n",
       "      <td>0.0</td>\n",
       "      <td>0.0</td>\n",
       "      <td>0.0</td>\n",
       "      <td>0.0</td>\n",
       "      <td>0.0</td>\n",
       "      <td>0.0</td>\n",
       "      <td>0.0</td>\n",
       "      <td>...</td>\n",
       "      <td>390.0</td>\n",
       "      <td>591</td>\n",
       "      <td>704</td>\n",
       "      <td>723</td>\n",
       "      <td>1021</td>\n",
       "      <td>1430</td>\n",
       "      <td>1433</td>\n",
       "      <td>1740</td>\n",
       "      <td>2307</td>\n",
       "      <td>2311</td>\n",
       "    </tr>\n",
       "    <tr>\n",
       "      <th>Indiana</th>\n",
       "      <td>0.0</td>\n",
       "      <td>0.0</td>\n",
       "      <td>0.0</td>\n",
       "      <td>0.0</td>\n",
       "      <td>0.0</td>\n",
       "      <td>0.0</td>\n",
       "      <td>0.0</td>\n",
       "      <td>0.0</td>\n",
       "      <td>0.0</td>\n",
       "      <td>0.0</td>\n",
       "      <td>...</td>\n",
       "      <td>128.0</td>\n",
       "      <td>204</td>\n",
       "      <td>270</td>\n",
       "      <td>368</td>\n",
       "      <td>477</td>\n",
       "      <td>645</td>\n",
       "      <td>979</td>\n",
       "      <td>1233</td>\n",
       "      <td>1513</td>\n",
       "      <td>1786</td>\n",
       "    </tr>\n",
       "    <tr>\n",
       "      <th>Kentucky</th>\n",
       "      <td>0.0</td>\n",
       "      <td>0.0</td>\n",
       "      <td>0.0</td>\n",
       "      <td>0.0</td>\n",
       "      <td>0.0</td>\n",
       "      <td>0.0</td>\n",
       "      <td>0.0</td>\n",
       "      <td>0.0</td>\n",
       "      <td>0.0</td>\n",
       "      <td>0.0</td>\n",
       "      <td>...</td>\n",
       "      <td>87.0</td>\n",
       "      <td>103</td>\n",
       "      <td>123</td>\n",
       "      <td>162</td>\n",
       "      <td>197</td>\n",
       "      <td>247</td>\n",
       "      <td>301</td>\n",
       "      <td>393</td>\n",
       "      <td>438</td>\n",
       "      <td>479</td>\n",
       "    </tr>\n",
       "    <tr>\n",
       "      <th>Maryland</th>\n",
       "      <td>0.0</td>\n",
       "      <td>0.0</td>\n",
       "      <td>0.0</td>\n",
       "      <td>0.0</td>\n",
       "      <td>0.0</td>\n",
       "      <td>0.0</td>\n",
       "      <td>0.0</td>\n",
       "      <td>0.0</td>\n",
       "      <td>0.0</td>\n",
       "      <td>0.0</td>\n",
       "      <td>...</td>\n",
       "      <td>193.0</td>\n",
       "      <td>244</td>\n",
       "      <td>290</td>\n",
       "      <td>349</td>\n",
       "      <td>425</td>\n",
       "      <td>583</td>\n",
       "      <td>775</td>\n",
       "      <td>995</td>\n",
       "      <td>1239</td>\n",
       "      <td>1413</td>\n",
       "    </tr>\n",
       "    <tr>\n",
       "      <th>Minnesota</th>\n",
       "      <td>0.0</td>\n",
       "      <td>0.0</td>\n",
       "      <td>0.0</td>\n",
       "      <td>0.0</td>\n",
       "      <td>0.0</td>\n",
       "      <td>0.0</td>\n",
       "      <td>0.0</td>\n",
       "      <td>0.0</td>\n",
       "      <td>0.0</td>\n",
       "      <td>0.0</td>\n",
       "      <td>...</td>\n",
       "      <td>138.0</td>\n",
       "      <td>167</td>\n",
       "      <td>234</td>\n",
       "      <td>261</td>\n",
       "      <td>286</td>\n",
       "      <td>344</td>\n",
       "      <td>396</td>\n",
       "      <td>441</td>\n",
       "      <td>503</td>\n",
       "      <td>576</td>\n",
       "    </tr>\n",
       "    <tr>\n",
       "      <th>Pennsylvania</th>\n",
       "      <td>0.0</td>\n",
       "      <td>0.0</td>\n",
       "      <td>0.0</td>\n",
       "      <td>0.0</td>\n",
       "      <td>0.0</td>\n",
       "      <td>0.0</td>\n",
       "      <td>0.0</td>\n",
       "      <td>0.0</td>\n",
       "      <td>0.0</td>\n",
       "      <td>0.0</td>\n",
       "      <td>...</td>\n",
       "      <td>396.0</td>\n",
       "      <td>509</td>\n",
       "      <td>698</td>\n",
       "      <td>946</td>\n",
       "      <td>1260</td>\n",
       "      <td>1795</td>\n",
       "      <td>2345</td>\n",
       "      <td>2845</td>\n",
       "      <td>3432</td>\n",
       "      <td>4155</td>\n",
       "    </tr>\n",
       "    <tr>\n",
       "      <th>Connecticut</th>\n",
       "      <td>0.0</td>\n",
       "      <td>0.0</td>\n",
       "      <td>0.0</td>\n",
       "      <td>0.0</td>\n",
       "      <td>0.0</td>\n",
       "      <td>0.0</td>\n",
       "      <td>0.0</td>\n",
       "      <td>0.0</td>\n",
       "      <td>0.0</td>\n",
       "      <td>0.0</td>\n",
       "      <td>...</td>\n",
       "      <td>194.0</td>\n",
       "      <td>327</td>\n",
       "      <td>415</td>\n",
       "      <td>618</td>\n",
       "      <td>875</td>\n",
       "      <td>1012</td>\n",
       "      <td>1291</td>\n",
       "      <td>1524</td>\n",
       "      <td>1993</td>\n",
       "      <td>2571</td>\n",
       "    </tr>\n",
       "    <tr>\n",
       "      <th>Hawaii</th>\n",
       "      <td>0.0</td>\n",
       "      <td>0.0</td>\n",
       "      <td>0.0</td>\n",
       "      <td>0.0</td>\n",
       "      <td>0.0</td>\n",
       "      <td>0.0</td>\n",
       "      <td>0.0</td>\n",
       "      <td>0.0</td>\n",
       "      <td>0.0</td>\n",
       "      <td>0.0</td>\n",
       "      <td>...</td>\n",
       "      <td>37.0</td>\n",
       "      <td>53</td>\n",
       "      <td>56</td>\n",
       "      <td>90</td>\n",
       "      <td>91</td>\n",
       "      <td>95</td>\n",
       "      <td>106</td>\n",
       "      <td>149</td>\n",
       "      <td>149</td>\n",
       "      <td>175</td>\n",
       "    </tr>\n",
       "    <tr>\n",
       "      <th>Oklahoma</th>\n",
       "      <td>0.0</td>\n",
       "      <td>0.0</td>\n",
       "      <td>0.0</td>\n",
       "      <td>0.0</td>\n",
       "      <td>0.0</td>\n",
       "      <td>0.0</td>\n",
       "      <td>0.0</td>\n",
       "      <td>0.0</td>\n",
       "      <td>0.0</td>\n",
       "      <td>0.0</td>\n",
       "      <td>...</td>\n",
       "      <td>53.0</td>\n",
       "      <td>67</td>\n",
       "      <td>81</td>\n",
       "      <td>106</td>\n",
       "      <td>164</td>\n",
       "      <td>248</td>\n",
       "      <td>322</td>\n",
       "      <td>377</td>\n",
       "      <td>429</td>\n",
       "      <td>481</td>\n",
       "    </tr>\n",
       "    <tr>\n",
       "      <th>South Carolina</th>\n",
       "      <td>0.0</td>\n",
       "      <td>0.0</td>\n",
       "      <td>0.0</td>\n",
       "      <td>0.0</td>\n",
       "      <td>0.0</td>\n",
       "      <td>0.0</td>\n",
       "      <td>0.0</td>\n",
       "      <td>0.0</td>\n",
       "      <td>0.0</td>\n",
       "      <td>0.0</td>\n",
       "      <td>...</td>\n",
       "      <td>171.0</td>\n",
       "      <td>196</td>\n",
       "      <td>298</td>\n",
       "      <td>342</td>\n",
       "      <td>424</td>\n",
       "      <td>424</td>\n",
       "      <td>542</td>\n",
       "      <td>660</td>\n",
       "      <td>774</td>\n",
       "      <td>925</td>\n",
       "    </tr>\n",
       "    <tr>\n",
       "      <th>Utah</th>\n",
       "      <td>0.0</td>\n",
       "      <td>0.0</td>\n",
       "      <td>0.0</td>\n",
       "      <td>0.0</td>\n",
       "      <td>0.0</td>\n",
       "      <td>0.0</td>\n",
       "      <td>0.0</td>\n",
       "      <td>0.0</td>\n",
       "      <td>0.0</td>\n",
       "      <td>0.0</td>\n",
       "      <td>...</td>\n",
       "      <td>136.0</td>\n",
       "      <td>162</td>\n",
       "      <td>257</td>\n",
       "      <td>298</td>\n",
       "      <td>340</td>\n",
       "      <td>396</td>\n",
       "      <td>472</td>\n",
       "      <td>602</td>\n",
       "      <td>720</td>\n",
       "      <td>804</td>\n",
       "    </tr>\n",
       "    <tr>\n",
       "      <th>Kansas</th>\n",
       "      <td>0.0</td>\n",
       "      <td>0.0</td>\n",
       "      <td>0.0</td>\n",
       "      <td>0.0</td>\n",
       "      <td>0.0</td>\n",
       "      <td>0.0</td>\n",
       "      <td>0.0</td>\n",
       "      <td>0.0</td>\n",
       "      <td>0.0</td>\n",
       "      <td>0.0</td>\n",
       "      <td>...</td>\n",
       "      <td>57.0</td>\n",
       "      <td>65</td>\n",
       "      <td>84</td>\n",
       "      <td>100</td>\n",
       "      <td>134</td>\n",
       "      <td>172</td>\n",
       "      <td>206</td>\n",
       "      <td>266</td>\n",
       "      <td>330</td>\n",
       "      <td>372</td>\n",
       "    </tr>\n",
       "    <tr>\n",
       "      <th>Missouri</th>\n",
       "      <td>0.0</td>\n",
       "      <td>0.0</td>\n",
       "      <td>0.0</td>\n",
       "      <td>0.0</td>\n",
       "      <td>0.0</td>\n",
       "      <td>0.0</td>\n",
       "      <td>0.0</td>\n",
       "      <td>0.0</td>\n",
       "      <td>0.0</td>\n",
       "      <td>0.0</td>\n",
       "      <td>...</td>\n",
       "      <td>74.0</td>\n",
       "      <td>87</td>\n",
       "      <td>187</td>\n",
       "      <td>257</td>\n",
       "      <td>354</td>\n",
       "      <td>520</td>\n",
       "      <td>666</td>\n",
       "      <td>836</td>\n",
       "      <td>915</td>\n",
       "      <td>1051</td>\n",
       "    </tr>\n",
       "    <tr>\n",
       "      <th>Vermont</th>\n",
       "      <td>0.0</td>\n",
       "      <td>0.0</td>\n",
       "      <td>0.0</td>\n",
       "      <td>0.0</td>\n",
       "      <td>0.0</td>\n",
       "      <td>0.0</td>\n",
       "      <td>0.0</td>\n",
       "      <td>0.0</td>\n",
       "      <td>0.0</td>\n",
       "      <td>0.0</td>\n",
       "      <td>...</td>\n",
       "      <td>29.0</td>\n",
       "      <td>52</td>\n",
       "      <td>75</td>\n",
       "      <td>95</td>\n",
       "      <td>125</td>\n",
       "      <td>158</td>\n",
       "      <td>184</td>\n",
       "      <td>211</td>\n",
       "      <td>235</td>\n",
       "      <td>256</td>\n",
       "    </tr>\n",
       "    <tr>\n",
       "      <th>Virginia</th>\n",
       "      <td>0.0</td>\n",
       "      <td>0.0</td>\n",
       "      <td>0.0</td>\n",
       "      <td>0.0</td>\n",
       "      <td>0.0</td>\n",
       "      <td>0.0</td>\n",
       "      <td>0.0</td>\n",
       "      <td>0.0</td>\n",
       "      <td>0.0</td>\n",
       "      <td>0.0</td>\n",
       "      <td>...</td>\n",
       "      <td>156.0</td>\n",
       "      <td>220</td>\n",
       "      <td>254</td>\n",
       "      <td>293</td>\n",
       "      <td>396</td>\n",
       "      <td>466</td>\n",
       "      <td>607</td>\n",
       "      <td>740</td>\n",
       "      <td>890</td>\n",
       "      <td>1020</td>\n",
       "    </tr>\n",
       "    <tr>\n",
       "      <th>Iowa</th>\n",
       "      <td>0.0</td>\n",
       "      <td>0.0</td>\n",
       "      <td>0.0</td>\n",
       "      <td>0.0</td>\n",
       "      <td>0.0</td>\n",
       "      <td>0.0</td>\n",
       "      <td>0.0</td>\n",
       "      <td>0.0</td>\n",
       "      <td>0.0</td>\n",
       "      <td>0.0</td>\n",
       "      <td>...</td>\n",
       "      <td>68.0</td>\n",
       "      <td>90</td>\n",
       "      <td>105</td>\n",
       "      <td>124</td>\n",
       "      <td>146</td>\n",
       "      <td>179</td>\n",
       "      <td>235</td>\n",
       "      <td>298</td>\n",
       "      <td>336</td>\n",
       "      <td>424</td>\n",
       "    </tr>\n",
       "    <tr>\n",
       "      <th>Louisiana</th>\n",
       "      <td>0.0</td>\n",
       "      <td>0.0</td>\n",
       "      <td>0.0</td>\n",
       "      <td>0.0</td>\n",
       "      <td>0.0</td>\n",
       "      <td>0.0</td>\n",
       "      <td>0.0</td>\n",
       "      <td>0.0</td>\n",
       "      <td>0.0</td>\n",
       "      <td>0.0</td>\n",
       "      <td>...</td>\n",
       "      <td>585.0</td>\n",
       "      <td>837</td>\n",
       "      <td>1172</td>\n",
       "      <td>1388</td>\n",
       "      <td>1795</td>\n",
       "      <td>2304</td>\n",
       "      <td>2744</td>\n",
       "      <td>3315</td>\n",
       "      <td>3540</td>\n",
       "      <td>4025</td>\n",
       "    </tr>\n",
       "    <tr>\n",
       "      <th>Alaska</th>\n",
       "      <td>0.0</td>\n",
       "      <td>0.0</td>\n",
       "      <td>0.0</td>\n",
       "      <td>0.0</td>\n",
       "      <td>0.0</td>\n",
       "      <td>0.0</td>\n",
       "      <td>0.0</td>\n",
       "      <td>0.0</td>\n",
       "      <td>0.0</td>\n",
       "      <td>0.0</td>\n",
       "      <td>...</td>\n",
       "      <td>15.0</td>\n",
       "      <td>20</td>\n",
       "      <td>30</td>\n",
       "      <td>34</td>\n",
       "      <td>41</td>\n",
       "      <td>56</td>\n",
       "      <td>58</td>\n",
       "      <td>85</td>\n",
       "      <td>102</td>\n",
       "      <td>114</td>\n",
       "    </tr>\n",
       "    <tr>\n",
       "      <th>Arkansas</th>\n",
       "      <td>0.0</td>\n",
       "      <td>0.0</td>\n",
       "      <td>0.0</td>\n",
       "      <td>0.0</td>\n",
       "      <td>0.0</td>\n",
       "      <td>0.0</td>\n",
       "      <td>0.0</td>\n",
       "      <td>0.0</td>\n",
       "      <td>0.0</td>\n",
       "      <td>0.0</td>\n",
       "      <td>...</td>\n",
       "      <td>122.0</td>\n",
       "      <td>165</td>\n",
       "      <td>192</td>\n",
       "      <td>219</td>\n",
       "      <td>280</td>\n",
       "      <td>335</td>\n",
       "      <td>381</td>\n",
       "      <td>409</td>\n",
       "      <td>426</td>\n",
       "      <td>473</td>\n",
       "    </tr>\n",
       "    <tr>\n",
       "      <th>Delaware</th>\n",
       "      <td>0.0</td>\n",
       "      <td>0.0</td>\n",
       "      <td>0.0</td>\n",
       "      <td>0.0</td>\n",
       "      <td>0.0</td>\n",
       "      <td>0.0</td>\n",
       "      <td>0.0</td>\n",
       "      <td>0.0</td>\n",
       "      <td>0.0</td>\n",
       "      <td>0.0</td>\n",
       "      <td>...</td>\n",
       "      <td>45.0</td>\n",
       "      <td>56</td>\n",
       "      <td>68</td>\n",
       "      <td>104</td>\n",
       "      <td>119</td>\n",
       "      <td>130</td>\n",
       "      <td>163</td>\n",
       "      <td>214</td>\n",
       "      <td>232</td>\n",
       "      <td>264</td>\n",
       "    </tr>\n",
       "    <tr>\n",
       "      <th>Idaho</th>\n",
       "      <td>0.0</td>\n",
       "      <td>0.0</td>\n",
       "      <td>0.0</td>\n",
       "      <td>0.0</td>\n",
       "      <td>0.0</td>\n",
       "      <td>0.0</td>\n",
       "      <td>0.0</td>\n",
       "      <td>0.0</td>\n",
       "      <td>0.0</td>\n",
       "      <td>0.0</td>\n",
       "      <td>...</td>\n",
       "      <td>36.0</td>\n",
       "      <td>42</td>\n",
       "      <td>68</td>\n",
       "      <td>81</td>\n",
       "      <td>91</td>\n",
       "      <td>146</td>\n",
       "      <td>205</td>\n",
       "      <td>234</td>\n",
       "      <td>281</td>\n",
       "      <td>340</td>\n",
       "    </tr>\n",
       "    <tr>\n",
       "      <th>Maine</th>\n",
       "      <td>0.0</td>\n",
       "      <td>0.0</td>\n",
       "      <td>0.0</td>\n",
       "      <td>0.0</td>\n",
       "      <td>0.0</td>\n",
       "      <td>0.0</td>\n",
       "      <td>0.0</td>\n",
       "      <td>0.0</td>\n",
       "      <td>0.0</td>\n",
       "      <td>0.0</td>\n",
       "      <td>...</td>\n",
       "      <td>70.0</td>\n",
       "      <td>89</td>\n",
       "      <td>107</td>\n",
       "      <td>118</td>\n",
       "      <td>142</td>\n",
       "      <td>155</td>\n",
       "      <td>168</td>\n",
       "      <td>211</td>\n",
       "      <td>253</td>\n",
       "      <td>275</td>\n",
       "    </tr>\n",
       "    <tr>\n",
       "      <th>Michigan</th>\n",
       "      <td>0.0</td>\n",
       "      <td>0.0</td>\n",
       "      <td>0.0</td>\n",
       "      <td>0.0</td>\n",
       "      <td>0.0</td>\n",
       "      <td>0.0</td>\n",
       "      <td>0.0</td>\n",
       "      <td>0.0</td>\n",
       "      <td>0.0</td>\n",
       "      <td>0.0</td>\n",
       "      <td>...</td>\n",
       "      <td>788.0</td>\n",
       "      <td>1035</td>\n",
       "      <td>1329</td>\n",
       "      <td>1793</td>\n",
       "      <td>2296</td>\n",
       "      <td>2845</td>\n",
       "      <td>3634</td>\n",
       "      <td>4650</td>\n",
       "      <td>5488</td>\n",
       "      <td>6498</td>\n",
       "    </tr>\n",
       "    <tr>\n",
       "      <th>Mississippi</th>\n",
       "      <td>0.0</td>\n",
       "      <td>0.0</td>\n",
       "      <td>0.0</td>\n",
       "      <td>0.0</td>\n",
       "      <td>0.0</td>\n",
       "      <td>0.0</td>\n",
       "      <td>0.0</td>\n",
       "      <td>0.0</td>\n",
       "      <td>0.0</td>\n",
       "      <td>0.0</td>\n",
       "      <td>...</td>\n",
       "      <td>140.0</td>\n",
       "      <td>207</td>\n",
       "      <td>249</td>\n",
       "      <td>320</td>\n",
       "      <td>377</td>\n",
       "      <td>485</td>\n",
       "      <td>579</td>\n",
       "      <td>663</td>\n",
       "      <td>759</td>\n",
       "      <td>847</td>\n",
       "    </tr>\n",
       "    <tr>\n",
       "      <th>Montana</th>\n",
       "      <td>0.0</td>\n",
       "      <td>0.0</td>\n",
       "      <td>0.0</td>\n",
       "      <td>0.0</td>\n",
       "      <td>0.0</td>\n",
       "      <td>0.0</td>\n",
       "      <td>0.0</td>\n",
       "      <td>0.0</td>\n",
       "      <td>0.0</td>\n",
       "      <td>0.0</td>\n",
       "      <td>...</td>\n",
       "      <td>21.0</td>\n",
       "      <td>34</td>\n",
       "      <td>34</td>\n",
       "      <td>51</td>\n",
       "      <td>65</td>\n",
       "      <td>90</td>\n",
       "      <td>109</td>\n",
       "      <td>129</td>\n",
       "      <td>154</td>\n",
       "      <td>171</td>\n",
       "    </tr>\n",
       "    <tr>\n",
       "      <th>New Mexico</th>\n",
       "      <td>0.0</td>\n",
       "      <td>0.0</td>\n",
       "      <td>0.0</td>\n",
       "      <td>0.0</td>\n",
       "      <td>0.0</td>\n",
       "      <td>0.0</td>\n",
       "      <td>0.0</td>\n",
       "      <td>0.0</td>\n",
       "      <td>0.0</td>\n",
       "      <td>0.0</td>\n",
       "      <td>...</td>\n",
       "      <td>43.0</td>\n",
       "      <td>57</td>\n",
       "      <td>83</td>\n",
       "      <td>100</td>\n",
       "      <td>113</td>\n",
       "      <td>113</td>\n",
       "      <td>136</td>\n",
       "      <td>208</td>\n",
       "      <td>237</td>\n",
       "      <td>237</td>\n",
       "    </tr>\n",
       "    <tr>\n",
       "      <th>North Dakota</th>\n",
       "      <td>0.0</td>\n",
       "      <td>0.0</td>\n",
       "      <td>0.0</td>\n",
       "      <td>0.0</td>\n",
       "      <td>0.0</td>\n",
       "      <td>0.0</td>\n",
       "      <td>0.0</td>\n",
       "      <td>0.0</td>\n",
       "      <td>0.0</td>\n",
       "      <td>0.0</td>\n",
       "      <td>...</td>\n",
       "      <td>28.0</td>\n",
       "      <td>28</td>\n",
       "      <td>30</td>\n",
       "      <td>36</td>\n",
       "      <td>45</td>\n",
       "      <td>51</td>\n",
       "      <td>68</td>\n",
       "      <td>94</td>\n",
       "      <td>98</td>\n",
       "      <td>109</td>\n",
       "    </tr>\n",
       "    <tr>\n",
       "      <th>Ohio</th>\n",
       "      <td>0.0</td>\n",
       "      <td>0.0</td>\n",
       "      <td>0.0</td>\n",
       "      <td>0.0</td>\n",
       "      <td>0.0</td>\n",
       "      <td>0.0</td>\n",
       "      <td>0.0</td>\n",
       "      <td>0.0</td>\n",
       "      <td>0.0</td>\n",
       "      <td>0.0</td>\n",
       "      <td>...</td>\n",
       "      <td>248.0</td>\n",
       "      <td>356</td>\n",
       "      <td>443</td>\n",
       "      <td>567</td>\n",
       "      <td>704</td>\n",
       "      <td>868</td>\n",
       "      <td>1137</td>\n",
       "      <td>1406</td>\n",
       "      <td>1653</td>\n",
       "      <td>1933</td>\n",
       "    </tr>\n",
       "    <tr>\n",
       "      <th>South Dakota</th>\n",
       "      <td>0.0</td>\n",
       "      <td>0.0</td>\n",
       "      <td>0.0</td>\n",
       "      <td>0.0</td>\n",
       "      <td>0.0</td>\n",
       "      <td>0.0</td>\n",
       "      <td>0.0</td>\n",
       "      <td>0.0</td>\n",
       "      <td>0.0</td>\n",
       "      <td>0.0</td>\n",
       "      <td>...</td>\n",
       "      <td>14.0</td>\n",
       "      <td>21</td>\n",
       "      <td>28</td>\n",
       "      <td>30</td>\n",
       "      <td>41</td>\n",
       "      <td>46</td>\n",
       "      <td>58</td>\n",
       "      <td>68</td>\n",
       "      <td>90</td>\n",
       "      <td>101</td>\n",
       "    </tr>\n",
       "    <tr>\n",
       "      <th>West Virginia</th>\n",
       "      <td>0.0</td>\n",
       "      <td>0.0</td>\n",
       "      <td>0.0</td>\n",
       "      <td>0.0</td>\n",
       "      <td>0.0</td>\n",
       "      <td>0.0</td>\n",
       "      <td>0.0</td>\n",
       "      <td>0.0</td>\n",
       "      <td>0.0</td>\n",
       "      <td>0.0</td>\n",
       "      <td>...</td>\n",
       "      <td>8.0</td>\n",
       "      <td>16</td>\n",
       "      <td>16</td>\n",
       "      <td>22</td>\n",
       "      <td>39</td>\n",
       "      <td>52</td>\n",
       "      <td>76</td>\n",
       "      <td>96</td>\n",
       "      <td>113</td>\n",
       "      <td>145</td>\n",
       "    </tr>\n",
       "    <tr>\n",
       "      <th>Wyoming</th>\n",
       "      <td>0.0</td>\n",
       "      <td>0.0</td>\n",
       "      <td>0.0</td>\n",
       "      <td>0.0</td>\n",
       "      <td>0.0</td>\n",
       "      <td>0.0</td>\n",
       "      <td>0.0</td>\n",
       "      <td>0.0</td>\n",
       "      <td>0.0</td>\n",
       "      <td>0.0</td>\n",
       "      <td>...</td>\n",
       "      <td>23.0</td>\n",
       "      <td>26</td>\n",
       "      <td>26</td>\n",
       "      <td>29</td>\n",
       "      <td>44</td>\n",
       "      <td>53</td>\n",
       "      <td>70</td>\n",
       "      <td>82</td>\n",
       "      <td>86</td>\n",
       "      <td>94</td>\n",
       "    </tr>\n",
       "    <tr>\n",
       "      <th>Alabama</th>\n",
       "      <td>0.0</td>\n",
       "      <td>0.0</td>\n",
       "      <td>0.0</td>\n",
       "      <td>0.0</td>\n",
       "      <td>0.0</td>\n",
       "      <td>0.0</td>\n",
       "      <td>0.0</td>\n",
       "      <td>0.0</td>\n",
       "      <td>0.0</td>\n",
       "      <td>0.0</td>\n",
       "      <td>...</td>\n",
       "      <td>131.0</td>\n",
       "      <td>157</td>\n",
       "      <td>196</td>\n",
       "      <td>242</td>\n",
       "      <td>381</td>\n",
       "      <td>517</td>\n",
       "      <td>587</td>\n",
       "      <td>694</td>\n",
       "      <td>825</td>\n",
       "      <td>899</td>\n",
       "    </tr>\n",
       "  </tbody>\n",
       "</table>\n",
       "<p>50 rows × 69 columns</p>\n",
       "</div>"
      ],
      "text/plain": [
       "                01-22-2020  01-23-2020  01-24-2020  01-25-2020  01-26-2020  \\\n",
       "Washington             1.0         1.0         1.0         1.0         1.0   \n",
       "Illinois               0.0         0.0         0.0         1.0         1.0   \n",
       "Arizona                0.0         0.0         0.0         0.0         1.0   \n",
       "California             0.0         0.0         0.0         0.0         2.0   \n",
       "Massachusetts          0.0         0.0         0.0         0.0         0.0   \n",
       "Wisconsin              0.0         0.0         0.0         0.0         0.0   \n",
       "Texas                  0.0         0.0         0.0         0.0         0.0   \n",
       "Nebraska               0.0         0.0         0.0         0.0         0.0   \n",
       "Oregon                 0.0         0.0         0.0         0.0         0.0   \n",
       "Rhode Island           0.0         0.0         0.0         0.0         0.0   \n",
       "Florida                0.0         0.0         0.0         0.0         0.0   \n",
       "New Hampshire          0.0         0.0         0.0         0.0         0.0   \n",
       "New York               0.0         0.0         0.0         0.0         0.0   \n",
       "Georgia                0.0         0.0         0.0         0.0         0.0   \n",
       "North Carolina         0.0         0.0         0.0         0.0         0.0   \n",
       "Nevada                 0.0         0.0         0.0         0.0         0.0   \n",
       "New Jersey             0.0         0.0         0.0         0.0         0.0   \n",
       "Tennessee              0.0         0.0         0.0         0.0         0.0   \n",
       "Colorado               0.0         0.0         0.0         0.0         0.0   \n",
       "Indiana                0.0         0.0         0.0         0.0         0.0   \n",
       "Kentucky               0.0         0.0         0.0         0.0         0.0   \n",
       "Maryland               0.0         0.0         0.0         0.0         0.0   \n",
       "Minnesota              0.0         0.0         0.0         0.0         0.0   \n",
       "Pennsylvania           0.0         0.0         0.0         0.0         0.0   \n",
       "Connecticut            0.0         0.0         0.0         0.0         0.0   \n",
       "Hawaii                 0.0         0.0         0.0         0.0         0.0   \n",
       "Oklahoma               0.0         0.0         0.0         0.0         0.0   \n",
       "South Carolina         0.0         0.0         0.0         0.0         0.0   \n",
       "Utah                   0.0         0.0         0.0         0.0         0.0   \n",
       "Kansas                 0.0         0.0         0.0         0.0         0.0   \n",
       "Missouri               0.0         0.0         0.0         0.0         0.0   \n",
       "Vermont                0.0         0.0         0.0         0.0         0.0   \n",
       "Virginia               0.0         0.0         0.0         0.0         0.0   \n",
       "Iowa                   0.0         0.0         0.0         0.0         0.0   \n",
       "Louisiana              0.0         0.0         0.0         0.0         0.0   \n",
       "Alaska                 0.0         0.0         0.0         0.0         0.0   \n",
       "Arkansas               0.0         0.0         0.0         0.0         0.0   \n",
       "Delaware               0.0         0.0         0.0         0.0         0.0   \n",
       "Idaho                  0.0         0.0         0.0         0.0         0.0   \n",
       "Maine                  0.0         0.0         0.0         0.0         0.0   \n",
       "Michigan               0.0         0.0         0.0         0.0         0.0   \n",
       "Mississippi            0.0         0.0         0.0         0.0         0.0   \n",
       "Montana                0.0         0.0         0.0         0.0         0.0   \n",
       "New Mexico             0.0         0.0         0.0         0.0         0.0   \n",
       "North Dakota           0.0         0.0         0.0         0.0         0.0   \n",
       "Ohio                   0.0         0.0         0.0         0.0         0.0   \n",
       "South Dakota           0.0         0.0         0.0         0.0         0.0   \n",
       "West Virginia          0.0         0.0         0.0         0.0         0.0   \n",
       "Wyoming                0.0         0.0         0.0         0.0         0.0   \n",
       "Alabama                0.0         0.0         0.0         0.0         0.0   \n",
       "\n",
       "                01-27-2020  01-28-2020  01-29-2020  01-30-2020  01-31-2020  \\\n",
       "Washington             1.0         1.0         1.0         1.0         1.0   \n",
       "Illinois               1.0         1.0         1.0         1.0         2.0   \n",
       "Arizona                1.0         1.0         1.0         1.0         1.0   \n",
       "California             2.0         2.0         2.0         2.0         2.0   \n",
       "Massachusetts          0.0         0.0         0.0         0.0         0.0   \n",
       "Wisconsin              0.0         0.0         0.0         0.0         0.0   \n",
       "Texas                  0.0         0.0         0.0         0.0         0.0   \n",
       "Nebraska               0.0         0.0         0.0         0.0         0.0   \n",
       "Oregon                 0.0         0.0         0.0         0.0         0.0   \n",
       "Rhode Island           0.0         0.0         0.0         0.0         0.0   \n",
       "Florida                0.0         0.0         0.0         0.0         0.0   \n",
       "New Hampshire          0.0         0.0         0.0         0.0         0.0   \n",
       "New York               0.0         0.0         0.0         0.0         0.0   \n",
       "Georgia                0.0         0.0         0.0         0.0         0.0   \n",
       "North Carolina         0.0         0.0         0.0         0.0         0.0   \n",
       "Nevada                 0.0         0.0         0.0         0.0         0.0   \n",
       "New Jersey             0.0         0.0         0.0         0.0         0.0   \n",
       "Tennessee              0.0         0.0         0.0         0.0         0.0   \n",
       "Colorado               0.0         0.0         0.0         0.0         0.0   \n",
       "Indiana                0.0         0.0         0.0         0.0         0.0   \n",
       "Kentucky               0.0         0.0         0.0         0.0         0.0   \n",
       "Maryland               0.0         0.0         0.0         0.0         0.0   \n",
       "Minnesota              0.0         0.0         0.0         0.0         0.0   \n",
       "Pennsylvania           0.0         0.0         0.0         0.0         0.0   \n",
       "Connecticut            0.0         0.0         0.0         0.0         0.0   \n",
       "Hawaii                 0.0         0.0         0.0         0.0         0.0   \n",
       "Oklahoma               0.0         0.0         0.0         0.0         0.0   \n",
       "South Carolina         0.0         0.0         0.0         0.0         0.0   \n",
       "Utah                   0.0         0.0         0.0         0.0         0.0   \n",
       "Kansas                 0.0         0.0         0.0         0.0         0.0   \n",
       "Missouri               0.0         0.0         0.0         0.0         0.0   \n",
       "Vermont                0.0         0.0         0.0         0.0         0.0   \n",
       "Virginia               0.0         0.0         0.0         0.0         0.0   \n",
       "Iowa                   0.0         0.0         0.0         0.0         0.0   \n",
       "Louisiana              0.0         0.0         0.0         0.0         0.0   \n",
       "Alaska                 0.0         0.0         0.0         0.0         0.0   \n",
       "Arkansas               0.0         0.0         0.0         0.0         0.0   \n",
       "Delaware               0.0         0.0         0.0         0.0         0.0   \n",
       "Idaho                  0.0         0.0         0.0         0.0         0.0   \n",
       "Maine                  0.0         0.0         0.0         0.0         0.0   \n",
       "Michigan               0.0         0.0         0.0         0.0         0.0   \n",
       "Mississippi            0.0         0.0         0.0         0.0         0.0   \n",
       "Montana                0.0         0.0         0.0         0.0         0.0   \n",
       "New Mexico             0.0         0.0         0.0         0.0         0.0   \n",
       "North Dakota           0.0         0.0         0.0         0.0         0.0   \n",
       "Ohio                   0.0         0.0         0.0         0.0         0.0   \n",
       "South Dakota           0.0         0.0         0.0         0.0         0.0   \n",
       "West Virginia          0.0         0.0         0.0         0.0         0.0   \n",
       "Wyoming                0.0         0.0         0.0         0.0         0.0   \n",
       "Alabama                0.0         0.0         0.0         0.0         0.0   \n",
       "\n",
       "                ...  03-21-2020  03-22-2020  03-23-2020  03-24-2020  \\\n",
       "Washington      ...      1793.0        1997        2221        2328   \n",
       "Illinois        ...       753.0        1049        1285        1537   \n",
       "Arizona         ...       118.0         152         235         326   \n",
       "California      ...      1364.0        1646        2108        2538   \n",
       "Massachusetts   ...       525.0         646         777        1159   \n",
       "Wisconsin       ...       282.0         381         425         481   \n",
       "Texas           ...       581.0         643         758         955   \n",
       "Nebraska        ...        38.0          51          51          66   \n",
       "Oregon          ...       114.0         161         191         210   \n",
       "Rhode Island    ...        66.0          83         106         124   \n",
       "Florida         ...       659.0        1004        1227        1412   \n",
       "New Hampshire   ...        55.0          74         101         101   \n",
       "New York        ...     11710.0       15800       20884       25681   \n",
       "Georgia         ...       507.0         621         772        1026   \n",
       "North Carolina  ...       253.0         305         353         495   \n",
       "Nevada          ...       161.0         190         245         278   \n",
       "New Jersey      ...      1327.0        1914        2844        3675   \n",
       "Tennessee       ...       371.0         505         614         772   \n",
       "Colorado        ...       390.0         591         704         723   \n",
       "Indiana         ...       128.0         204         270         368   \n",
       "Kentucky        ...        87.0         103         123         162   \n",
       "Maryland        ...       193.0         244         290         349   \n",
       "Minnesota       ...       138.0         167         234         261   \n",
       "Pennsylvania    ...       396.0         509         698         946   \n",
       "Connecticut     ...       194.0         327         415         618   \n",
       "Hawaii          ...        37.0          53          56          90   \n",
       "Oklahoma        ...        53.0          67          81         106   \n",
       "South Carolina  ...       171.0         196         298         342   \n",
       "Utah            ...       136.0         162         257         298   \n",
       "Kansas          ...        57.0          65          84         100   \n",
       "Missouri        ...        74.0          87         187         257   \n",
       "Vermont         ...        29.0          52          75          95   \n",
       "Virginia        ...       156.0         220         254         293   \n",
       "Iowa            ...        68.0          90         105         124   \n",
       "Louisiana       ...       585.0         837        1172        1388   \n",
       "Alaska          ...        15.0          20          30          34   \n",
       "Arkansas        ...       122.0         165         192         219   \n",
       "Delaware        ...        45.0          56          68         104   \n",
       "Idaho           ...        36.0          42          68          81   \n",
       "Maine           ...        70.0          89         107         118   \n",
       "Michigan        ...       788.0        1035        1329        1793   \n",
       "Mississippi     ...       140.0         207         249         320   \n",
       "Montana         ...        21.0          34          34          51   \n",
       "New Mexico      ...        43.0          57          83         100   \n",
       "North Dakota    ...        28.0          28          30          36   \n",
       "Ohio            ...       248.0         356         443         567   \n",
       "South Dakota    ...        14.0          21          28          30   \n",
       "West Virginia   ...         8.0          16          16          22   \n",
       "Wyoming         ...        23.0          26          26          29   \n",
       "Alabama         ...       131.0         157         196         242   \n",
       "\n",
       "                03-25-2020  03-26-2020  03-27-2020  03-28-2020  03-29-2020  \\\n",
       "Washington            2591        3207        3477        4030        4465   \n",
       "Illinois              1865        2538        3024        3491        4596   \n",
       "Arizona                401         508         665         773         919   \n",
       "California            2998        3899        4657        5095        5852   \n",
       "Massachusetts         1838        2417        3240        4257        4955   \n",
       "Wisconsin              621         728         926        1055        1164   \n",
       "Texas                 1229        1563        1937        2455        2792   \n",
       "Nebraska                71          74          82          96         108   \n",
       "Oregon                 266         316         416         479         548   \n",
       "Rhode Island           132         165         203         239         294   \n",
       "Florida               1682        2357        2900        3763        4246   \n",
       "New Hampshire          108         137         158         187         214   \n",
       "New York             30841       37877       44876       52410       59648   \n",
       "Georgia               1247        1525        2000        2366        2651   \n",
       "North Carolina         590         738         887        1020        1191   \n",
       "Nevada                 323         420         536         626         920   \n",
       "New Jersey            4402        6876        8825       11124       13386   \n",
       "Tennessee              916        1097        1318        1511        1720   \n",
       "Colorado              1021        1430        1433        1740        2307   \n",
       "Indiana                477         645         979        1233        1513   \n",
       "Kentucky               197         247         301         393         438   \n",
       "Maryland               425         583         775         995        1239   \n",
       "Minnesota              286         344         396         441         503   \n",
       "Pennsylvania          1260        1795        2345        2845        3432   \n",
       "Connecticut            875        1012        1291        1524        1993   \n",
       "Hawaii                  91          95         106         149         149   \n",
       "Oklahoma               164         248         322         377         429   \n",
       "South Carolina         424         424         542         660         774   \n",
       "Utah                   340         396         472         602         720   \n",
       "Kansas                 134         172         206         266         330   \n",
       "Missouri               354         520         666         836         915   \n",
       "Vermont                125         158         184         211         235   \n",
       "Virginia               396         466         607         740         890   \n",
       "Iowa                   146         179         235         298         336   \n",
       "Louisiana             1795        2304        2744        3315        3540   \n",
       "Alaska                  41          56          58          85         102   \n",
       "Arkansas               280         335         381         409         426   \n",
       "Delaware               119         130         163         214         232   \n",
       "Idaho                   91         146         205         234         281   \n",
       "Maine                  142         155         168         211         253   \n",
       "Michigan              2296        2845        3634        4650        5488   \n",
       "Mississippi            377         485         579         663         759   \n",
       "Montana                 65          90         109         129         154   \n",
       "New Mexico             113         113         136         208         237   \n",
       "North Dakota            45          51          68          94          98   \n",
       "Ohio                   704         868        1137        1406        1653   \n",
       "South Dakota            41          46          58          68          90   \n",
       "West Virginia           39          52          76          96         113   \n",
       "Wyoming                 44          53          70          82          86   \n",
       "Alabama                381         517         587         694         825   \n",
       "\n",
       "                03-30-2020  \n",
       "Washington            4923  \n",
       "Illinois              5056  \n",
       "Arizona               1157  \n",
       "California            7138  \n",
       "Massachusetts         5752  \n",
       "Wisconsin             1230  \n",
       "Texas                 3147  \n",
       "Nebraska               145  \n",
       "Oregon                 606  \n",
       "Rhode Island           408  \n",
       "Florida               5473  \n",
       "New Hampshire          314  \n",
       "New York             66663  \n",
       "Georgia               2808  \n",
       "North Carolina        1313  \n",
       "Nevada                1012  \n",
       "New Jersey           16636  \n",
       "Tennessee             1917  \n",
       "Colorado              2311  \n",
       "Indiana               1786  \n",
       "Kentucky               479  \n",
       "Maryland              1413  \n",
       "Minnesota              576  \n",
       "Pennsylvania          4155  \n",
       "Connecticut           2571  \n",
       "Hawaii                 175  \n",
       "Oklahoma               481  \n",
       "South Carolina         925  \n",
       "Utah                   804  \n",
       "Kansas                 372  \n",
       "Missouri              1051  \n",
       "Vermont                256  \n",
       "Virginia              1020  \n",
       "Iowa                   424  \n",
       "Louisiana             4025  \n",
       "Alaska                 114  \n",
       "Arkansas               473  \n",
       "Delaware               264  \n",
       "Idaho                  340  \n",
       "Maine                  275  \n",
       "Michigan              6498  \n",
       "Mississippi            847  \n",
       "Montana                171  \n",
       "New Mexico             237  \n",
       "North Dakota           109  \n",
       "Ohio                  1933  \n",
       "South Dakota           101  \n",
       "West Virginia          145  \n",
       "Wyoming                 94  \n",
       "Alabama                899  \n",
       "\n",
       "[50 rows x 69 columns]"
      ]
     },
     "execution_count": 39,
     "metadata": {},
     "output_type": "execute_result"
    }
   ],
   "source": [
    "stateData = stateData.fillna(0)\n",
    "stateData"
   ]
  },
  {
   "cell_type": "code",
   "execution_count": 40,
   "metadata": {},
   "outputs": [
    {
     "data": {
      "image/png": "[encoded data removed]",
      "text/plain": [
       "<Figure size 432x288 with 1 Axes>"
      ]
     },
     "metadata": {
      "needs_background": "light"
     },
     "output_type": "display_data"
    }
   ],
   "source": [
    "# plot confirmed cases vs. time\n",
    "plt.title('Total Confirmed Cases vs. Time')\n",
    "\n",
    "plt.plot(stateData.loc[:,'01-22-2020':].sum())\n",
    "\n",
    "plt.xlabel('Date')\n",
    "plt.ylabel('Number of confirmed cases')\n",
    "plt.yscale('log')\n",
    "plt.xticks(rotation='vertical')\n",
    "\n",
    "plt.show()"
   ]
  },
  {
   "cell_type": "code",
   "execution_count": 75,
   "metadata": {},
   "outputs": [
    {
     "data": {
      "image/png": "[encoded data removed]",
      "text/plain": [
       "<Figure size 432x288 with 1 Axes>"
      ]
     },
     "metadata": {
      "needs_background": "light"
     },
     "output_type": "display_data"
    }
   ],
   "source": [
    "# plot confirmed cases vs. time\n",
    "plt.title('Confirmed Cases vs. Time')\n",
    "\n",
    "plt.plot(stateData.loc[:,'01-22-2020':])\n",
    "\n",
    "plt.xlabel('Date')\n",
    "plt.ylabel('Number of confirmed cases')\n",
    "plt.yscale('log')\n",
    "\n",
    "plt.show()"
   ]
  },
  {
   "cell_type": "markdown",
   "metadata": {},
   "source": [
    "## Normalize each location’s time series to account for larger population centers"
   ]
  },
  {
   "cell_type": "markdown",
   "metadata": {},
   "source": [
    "subtract mean from time series and set variance to one"
   ]
  },
  {
   "cell_type": "code",
   "execution_count": 134,
   "metadata": {},
   "outputs": [],
   "source": [
    "idx = pd.IndexSlice\n",
    "\n",
    "# confirmed cases normalized\n",
    "data = stateData.loc[:,'01-22-2020':] # select all date ranges\n",
    "scaledDataConfirmed = preprocessing.scale(data) # Scaled data has zero mean and unit variance"
   ]
  },
  {
   "cell_type": "code",
   "execution_count": 135,
   "metadata": {},
   "outputs": [
    {
     "data": {
      "image/png": "[encoded data removed]",
      "text/plain": [
       "<Figure size 432x288 with 1 Axes>"
      ]
     },
     "metadata": {
      "needs_background": "light"
     },
     "output_type": "display_data"
    }
   ],
   "source": [
    "# plot normalized data snapshots\n",
    "plt.title('Confirmed Cases Snapshots Time Normalized')\n",
    "plt.pcolor(scaledDataConfirmed, vmin=-1, vmax=1)\n",
    "plt.xlabel('Number of days since 1/22/2020')\n",
    "plt.ylabel('States')\n",
    "plt.show()"
   ]
  },
  {
   "cell_type": "markdown",
   "metadata": {},
   "source": [
    "## Take DMD"
   ]
  },
  {
   "cell_type": "code",
   "execution_count": 136,
   "metadata": {},
   "outputs": [
    {
     "data": {
      "text/plain": [
       "<pydmd.dmd.DMD at 0x25ecf93c788>"
      ]
     },
     "execution_count": 136,
     "metadata": {},
     "output_type": "execute_result"
    }
   ],
   "source": [
    "dmd = DMD()\n",
    "dmd.fit(scaledDataConfirmed.T)\n"
   ]
  },
  {
   "cell_type": "code",
   "execution_count": 137,
   "metadata": {},
   "outputs": [
    {
     "name": "stdout",
     "output_type": "stream",
     "text": [
      "Eigenvalue (0.7169391340169058+0.20317636964334254j): distance from unit circle 0.4447176409336411\n",
      "Eigenvalue (0.7169391340169058-0.20317636964334254j): distance from unit circle 0.4447176409336411\n",
      "Eigenvalue (0.4483200313124133+0.4161189689956244j): distance from unit circle 0.6258541531660553\n",
      "Eigenvalue (0.4483200313124133-0.4161189689956244j): distance from unit circle 0.6258541531660553\n",
      "Eigenvalue (0.15102801480198608+0.5577079686299375j): distance from unit circle 0.6661523604716397\n",
      "Eigenvalue (0.15102801480198608-0.5577079686299375j): distance from unit circle 0.6661523604716397\n",
      "Eigenvalue (-0.12601875938982293+0.5792235453310587j): distance from unit circle 0.6486193568159689\n",
      "Eigenvalue (-0.12601875938982293-0.5792235453310587j): distance from unit circle 0.6486193568159689\n",
      "Eigenvalue (-0.3886010325243956+0.43006140674230153j): distance from unit circle 0.6640364239518063\n",
      "Eigenvalue (-0.3886010325243956-0.43006140674230153j): distance from unit circle 0.6640364239518063\n",
      "Eigenvalue (-0.5307351895273344+0.19265832458160378j): distance from unit circle 0.6812029285667938\n",
      "Eigenvalue (-0.5307351895273344-0.19265832458160378j): distance from unit circle 0.6812029285667938\n",
      "Eigenvalue (0.34740554685606584+0.07800934536315443j): distance from unit circle 0.8732239280496499\n",
      "Eigenvalue (0.34740554685606584-0.07800934536315443j): distance from unit circle 0.8732239280496499\n",
      "Eigenvalue (0.05674633944980437+0.26575942623878956j): distance from unit circle 0.9261517803242769\n",
      "Eigenvalue (0.05674633944980437-0.26575942623878956j): distance from unit circle 0.9261517803242769\n",
      "Eigenvalue (-0.2053891039926105+0.12414068581847922j): distance from unit circle 0.9424044060856303\n",
      "Eigenvalue (-0.2053891039926105-0.12414068581847922j): distance from unit circle 0.9424044060856303\n",
      "Eigenvalue (-0.28620930339685996+0j): distance from unit circle 0.9180842346490842\n"
     ]
    },
    {
     "data": {
      "image/png": "[encoded data removed]",
      "text/plain": [
       "<Figure size 576x576 with 1 Axes>"
      ]
     },
     "metadata": {
      "needs_background": "light"
     },
     "output_type": "display_data"
    }
   ],
   "source": [
    "for eig in dmd.eigs:\n",
    "    print('Eigenvalue {}: distance from unit circle {}'.format(eig, np.abs(eig.imag**2+eig.real**2 - 1)))\n",
    "\n",
    "dmd.plot_eigs(show_axes=True, show_unit_circle=True)"
   ]
  },
  {
   "cell_type": "code",
   "execution_count": 138,
   "metadata": {},
   "outputs": [
    {
     "data": {
      "image/png": "[encoded data removed]",
      "text/plain": [
       "<Figure size 432x288 with 1 Axes>"
      ]
     },
     "metadata": {
      "needs_background": "light"
     },
     "output_type": "display_data"
    },
    {
     "data": {
      "image/png": "[encoded data removed]",
      "text/plain": [
       "<Figure size 432x288 with 1 Axes>"
      ]
     },
     "metadata": {
      "needs_background": "light"
     },
     "output_type": "display_data"
    }
   ],
   "source": [
    "# modes for each date and country\n",
    "for mode in dmd.modes.T:\n",
    "    plt.plot(abs(mode.real))\n",
    "    plt.title('Modes')\n",
    "plt.show()\n",
    "\n",
    "for dynamic in dmd.dynamics:\n",
    "    plt.plot(dynamic.real)\n",
    "    plt.title('Dynamics')\n",
    "plt.show()"
   ]
  },
  {
   "cell_type": "code",
   "execution_count": 139,
   "metadata": {},
   "outputs": [
    {
     "data": {
      "text/plain": [
       "array([-0.00186018, -0.00186018, -0.00186018,  0.00582576,  0.00567504,\n",
       "        0.00567504,  0.00567504,  0.00567504,  0.00567504,  0.00800393,\n",
       "        0.00887198,  0.00887198,  0.00817568,  0.00817568,  0.01086177,\n",
       "        0.01086177,  0.01086177,  0.01086177,  0.01086177,  0.01086177,\n",
       "        0.01033313,  0.01033313,  0.0056569 ,  0.0056569 ,  0.0056569 ,\n",
       "        0.0056569 ,  0.0056569 ,  0.0056569 ,  0.0056569 ,  0.0056569 ,\n",
       "        0.07602465,  0.07602465,  0.07602465,  0.00579222,  0.00579222,\n",
       "        0.00579222,  0.00583603,  0.00583603, -0.00915995,  0.02217191,\n",
       "       -0.03459736, -0.01214979, -0.05229409, -0.06719881, -0.08400343,\n",
       "       -0.1328459 , -0.17149444, -0.19919306, -0.12559701, -0.13706817,\n",
       "       -0.16706851, -0.17539177, -0.19554026, -0.21382943, -0.20319767,\n",
       "       -0.23799769, -0.27876037, -0.23117738, -0.23682591, -0.22351253,\n",
       "       -0.22947804, -0.22388017, -0.2119457 , -0.21246739, -0.20046764,\n",
       "       -0.19095802, -0.18618671, -0.17802482, -0.17208131])"
      ]
     },
     "execution_count": 139,
     "metadata": {},
     "output_type": "execute_result"
    }
   ],
   "source": [
    "mode.real"
   ]
  },
  {
   "cell_type": "code",
   "execution_count": 140,
   "metadata": {},
   "outputs": [
    {
     "data": {
      "text/plain": [
       "array([ 0.04395117, -0.04395117,  0.11907409, -0.11907409,  0.20791012,\n",
       "       -0.20791012,  0.28409521, -0.28409521,  0.36694663, -0.36694663,\n",
       "        0.44458046, -0.44458046,  0.03515486, -0.03515486,  0.21651919,\n",
       "       -0.21651919,  0.41347366, -0.41347366,  0.5       ])"
      ]
     },
     "execution_count": 140,
     "metadata": {},
     "output_type": "execute_result"
    }
   ],
   "source": [
    "# Continuous Time Oscillatory Frequency for 24 hour period (units 1/h)\n",
    "freq = (np.log(dmd.eigs)).imag/(2*np.pi)\n",
    "freq"
   ]
  },
  {
   "cell_type": "code",
   "execution_count": 141,
   "metadata": {},
   "outputs": [
    {
     "data": {
      "image/png": "[encoded data removed]",
      "text/plain": [
       "<Figure size 432x288 with 1 Axes>"
      ]
     },
     "metadata": {
      "needs_background": "light"
     },
     "output_type": "display_data"
    }
   ],
   "source": [
    "# modes for each date and country\n",
    "i = 0\n",
    "for eig in dmd.eigs:\n",
    "    plt.plot(abs(freq),(abs(dmd.modes.real*eig))[i,:],'.')\n",
    "    i+=1\n",
    "plt.title('Mode Selection')\n",
    "plt.xlabel('Frequency / 1/day')\n",
    "plt.ylabel('Eigenvalue * Modes')\n",
    "plt.show()\n"
   ]
  },
  {
   "cell_type": "code",
   "execution_count": 145,
   "metadata": {},
   "outputs": [
    {
     "data": {
      "application/vnd.plotly.v1+json": {
       "config": {
        "plotlyServerURL": "https://plot.ly"
       },
       "data": [
        {
         "coloraxis": "coloraxis",
         "geo": "geo",
         "hoverlabel": {
          "namelength": 0
         },
         "hovertemplate": "locations=%{location}<br>color=%{z}",
         "locationmode": "USA-states",
         "locations": [
          "AL",
          "AK",
          "AZ",
          "AR",
          "CA",
          "CO",
          "CT",
          "DE",
          "FL",
          "GA",
          "HI",
          "ID",
          "IL",
          "IN",
          "IA",
          "KS",
          "KY",
          "LA",
          "ME",
          "MD",
          "MA",
          "MI",
          "MN",
          "MS",
          "MO",
          "MT",
          "NE",
          "NV",
          "NH",
          "NJ",
          "NM",
          "NY",
          "NC",
          "ND",
          "OH",
          "OK",
          "OR",
          "PA",
          "RI",
          "SC",
          "SD",
          "TN",
          "TX",
          "UT",
          "VT",
          "VA",
          "WA",
          "WV",
          "WI",
          "WY"
         ],
         "name": "",
         "type": "choropleth",
         "z": [
          -525.3564731463168,
          150.3619102142385,
          -43.03497757983842,
          12.31701095482504,
          -3.5252431253119676,
          1.0089573792001079,
          -0.28877298865798434,
          0.08264951592363105,
          -0.023655060378590134,
          0.006770298352766945,
          -0.0019377223753343359,
          0.0005545941712209491,
          -0.00015873001141310675,
          4.5430005994721006e-05,
          -1.3002490369064248e-05,
          3.7214337109542527e-06,
          -1.06510895004981e-06,
          3.048440906355176e-07,
          -8.724921482544059e-08,
          2.497153699711229e-08,
          -7.1470862086924395e-09,
          2.045562565107172e-09,
          -5.854590368140166e-10,
          1.6756382309393603e-10,
          -4.795832508223019e-11,
          1.3726118813865286e-11,
          -3.9285429040589246e-12,
          1.1243855279353763e-12,
          -3.218095986998952e-13,
          9.210490107032024e-14,
          -2.6361279574772914e-14,
          7.544843463745643e-15,
          -2.1594043919969966e-15,
          6.180416267855815e-16,
          -1.7688926347256374e-16,
          5.062735287686582e-17,
          -1.4490019399714808e-17,
          4.147178358599369e-18,
          -1.1869610290772526e-18,
          3.3971928929142113e-19,
          -9.723082113857417e-20,
          2.782836558677605e-20,
          -7.964737129264338e-21,
          2.279581865505841e-21,
          -6.524375377625423e-22,
          1.8673369319298011e-22,
          -5.344492024948553e-23,
          1.5296433394706013e-23,
          -4.377981546355282e-24,
          1.2530190486666555e-24
         ]
        }
       ],
       "layout": {
        "coloraxis": {
         "cmax": 1,
         "cmin": 0,
         "colorbar": {
          "title": {
           "text": "color"
          }
         },
         "colorscale": [
          [
           0,
           "#0d0887"
          ],
          [
           0.1111111111111111,
           "#46039f"
          ],
          [
           0.2222222222222222,
           "#7201a8"
          ],
          [
           0.3333333333333333,
           "#9c179e"
          ],
          [
           0.4444444444444444,
           "#bd3786"
          ],
          [
           0.5555555555555556,
           "#d8576b"
          ],
          [
           0.6666666666666666,
           "#ed7953"
          ],
          [
           0.7777777777777778,
           "#fb9f3a"
          ],
          [
           0.8888888888888888,
           "#fdca26"
          ],
          [
           1,
           "#f0f921"
          ]
         ]
        },
        "geo": {
         "center": {},
         "domain": {
          "x": [
           0,
           1
          ],
          "y": [
           0,
           1
          ]
         },
         "scope": "usa"
        },
        "legend": {
         "tracegroupgap": 0
        },
        "margin": {
         "b": 0,
         "l": 0,
         "r": 0,
         "t": 0
        },
        "template": {
         "data": {
          "bar": [
           {
            "error_x": {
             "color": "#2a3f5f"
            },
            "error_y": {
             "color": "#2a3f5f"
            },
            "marker": {
             "line": {
              "color": "#E5ECF6",
              "width": 0.5
             }
            },
            "type": "bar"
           }
          ],
          "barpolar": [
           {
            "marker": {
             "line": {
              "color": "#E5ECF6",
              "width": 0.5
             }
            },
            "type": "barpolar"
           }
          ],
          "carpet": [
           {
            "aaxis": {
             "endlinecolor": "#2a3f5f",
             "gridcolor": "white",
             "linecolor": "white",
             "minorgridcolor": "white",
             "startlinecolor": "#2a3f5f"
            },
            "baxis": {
             "endlinecolor": "#2a3f5f",
             "gridcolor": "white",
             "linecolor": "white",
             "minorgridcolor": "white",
             "startlinecolor": "#2a3f5f"
            },
            "type": "carpet"
           }
          ],
          "choropleth": [
           {
            "colorbar": {
             "outlinewidth": 0,
             "ticks": ""
            },
            "type": "choropleth"
           }
          ],
          "contour": [
           {
            "colorbar": {
             "outlinewidth": 0,
             "ticks": ""
            },
            "colorscale": [
             [
              0,
              "#0d0887"
             ],
             [
              0.1111111111111111,
              "#46039f"
             ],
             [
              0.2222222222222222,
              "#7201a8"
             ],
             [
              0.3333333333333333,
              "#9c179e"
             ],
             [
              0.4444444444444444,
              "#bd3786"
             ],
             [
              0.5555555555555556,
              "#d8576b"
             ],
             [
              0.6666666666666666,
              "#ed7953"
             ],
             [
              0.7777777777777778,
              "#fb9f3a"
             ],
             [
              0.8888888888888888,
              "#fdca26"
             ],
             [
              1,
              "#f0f921"
             ]
            ],
            "type": "contour"
           }
          ],
          "contourcarpet": [
           {
            "colorbar": {
             "outlinewidth": 0,
             "ticks": ""
            },
            "type": "contourcarpet"
           }
          ],
          "heatmap": [
           {
            "colorbar": {
             "outlinewidth": 0,
             "ticks": ""
            },
            "colorscale": [
             [
              0,
              "#0d0887"
             ],
             [
              0.1111111111111111,
              "#46039f"
             ],
             [
              0.2222222222222222,
              "#7201a8"
             ],
             [
              0.3333333333333333,
              "#9c179e"
             ],
             [
              0.4444444444444444,
              "#bd3786"
             ],
             [
              0.5555555555555556,
              "#d8576b"
             ],
             [
              0.6666666666666666,
              "#ed7953"
             ],
             [
              0.7777777777777778,
              "#fb9f3a"
             ],
             [
              0.8888888888888888,
              "#fdca26"
             ],
             [
              1,
              "#f0f921"
             ]
            ],
            "type": "heatmap"
           }
          ],
          "heatmapgl": [
           {
            "colorbar": {
             "outlinewidth": 0,
             "ticks": ""
            },
            "colorscale": [
             [
              0,
              "#0d0887"
             ],
             [
              0.1111111111111111,
              "#46039f"
             ],
             [
              0.2222222222222222,
              "#7201a8"
             ],
             [
              0.3333333333333333,
              "#9c179e"
             ],
             [
              0.4444444444444444,
              "#bd3786"
             ],
             [
              0.5555555555555556,
              "#d8576b"
             ],
             [
              0.6666666666666666,
              "#ed7953"
             ],
             [
              0.7777777777777778,
              "#fb9f3a"
             ],
             [
              0.8888888888888888,
              "#fdca26"
             ],
             [
              1,
              "#f0f921"
             ]
            ],
            "type": "heatmapgl"
           }
          ],
          "histogram": [
           {
            "marker": {
             "colorbar": {
              "outlinewidth": 0,
              "ticks": ""
             }
            },
            "type": "histogram"
           }
          ],
          "histogram2d": [
           {
            "colorbar": {
             "outlinewidth": 0,
             "ticks": ""
            },
            "colorscale": [
             [
              0,
              "#0d0887"
             ],
             [
              0.1111111111111111,
              "#46039f"
             ],
             [
              0.2222222222222222,
              "#7201a8"
             ],
             [
              0.3333333333333333,
              "#9c179e"
             ],
             [
              0.4444444444444444,
              "#bd3786"
             ],
             [
              0.5555555555555556,
              "#d8576b"
             ],
             [
              0.6666666666666666,
              "#ed7953"
             ],
             [
              0.7777777777777778,
              "#fb9f3a"
             ],
             [
              0.8888888888888888,
              "#fdca26"
             ],
             [
              1,
              "#f0f921"
             ]
            ],
            "type": "histogram2d"
           }
          ],
          "histogram2dcontour": [
           {
            "colorbar": {
             "outlinewidth": 0,
             "ticks": ""
            },
            "colorscale": [
             [
              0,
              "#0d0887"
             ],
             [
              0.1111111111111111,
              "#46039f"
             ],
             [
              0.2222222222222222,
              "#7201a8"
             ],
             [
              0.3333333333333333,
              "#9c179e"
             ],
             [
              0.4444444444444444,
              "#bd3786"
             ],
             [
              0.5555555555555556,
              "#d8576b"
             ],
             [
              0.6666666666666666,
              "#ed7953"
             ],
             [
              0.7777777777777778,
              "#fb9f3a"
             ],
             [
              0.8888888888888888,
              "#fdca26"
             ],
             [
              1,
              "#f0f921"
             ]
            ],
            "type": "histogram2dcontour"
           }
          ],
          "mesh3d": [
           {
            "colorbar": {
             "outlinewidth": 0,
             "ticks": ""
            },
            "type": "mesh3d"
           }
          ],
          "parcoords": [
           {
            "line": {
             "colorbar": {
              "outlinewidth": 0,
              "ticks": ""
             }
            },
            "type": "parcoords"
           }
          ],
          "pie": [
           {
            "automargin": true,
            "type": "pie"
           }
          ],
          "scatter": [
           {
            "marker": {
             "colorbar": {
              "outlinewidth": 0,
              "ticks": ""
             }
            },
            "type": "scatter"
           }
          ],
          "scatter3d": [
           {
            "line": {
             "colorbar": {
              "outlinewidth": 0,
              "ticks": ""
             }
            },
            "marker": {
             "colorbar": {
              "outlinewidth": 0,
              "ticks": ""
             }
            },
            "type": "scatter3d"
           }
          ],
          "scattercarpet": [
           {
            "marker": {
             "colorbar": {
              "outlinewidth": 0,
              "ticks": ""
             }
            },
            "type": "scattercarpet"
           }
          ],
          "scattergeo": [
           {
            "marker": {
             "colorbar": {
              "outlinewidth": 0,
              "ticks": ""
             }
            },
            "type": "scattergeo"
           }
          ],
          "scattergl": [
           {
            "marker": {
             "colorbar": {
              "outlinewidth": 0,
              "ticks": ""
             }
            },
            "type": "scattergl"
           }
          ],
          "scattermapbox": [
           {
            "marker": {
             "colorbar": {
              "outlinewidth": 0,
              "ticks": ""
             }
            },
            "type": "scattermapbox"
           }
          ],
          "scatterpolar": [
           {
            "marker": {
             "colorbar": {
              "outlinewidth": 0,
              "ticks": ""
             }
            },
            "type": "scatterpolar"
           }
          ],
          "scatterpolargl": [
           {
            "marker": {
             "colorbar": {
              "outlinewidth": 0,
              "ticks": ""
             }
            },
            "type": "scatterpolargl"
           }
          ],
          "scatterternary": [
           {
            "marker": {
             "colorbar": {
              "outlinewidth": 0,
              "ticks": ""
             }
            },
            "type": "scatterternary"
           }
          ],
          "surface": [
           {
            "colorbar": {
             "outlinewidth": 0,
             "ticks": ""
            },
            "colorscale": [
             [
              0,
              "#0d0887"
             ],
             [
              0.1111111111111111,
              "#46039f"
             ],
             [
              0.2222222222222222,
              "#7201a8"
             ],
             [
              0.3333333333333333,
              "#9c179e"
             ],
             [
              0.4444444444444444,
              "#bd3786"
             ],
             [
              0.5555555555555556,
              "#d8576b"
             ],
             [
              0.6666666666666666,
              "#ed7953"
             ],
             [
              0.7777777777777778,
              "#fb9f3a"
             ],
             [
              0.8888888888888888,
              "#fdca26"
             ],
             [
              1,
              "#f0f921"
             ]
            ],
            "type": "surface"
           }
          ],
          "table": [
           {
            "cells": {
             "fill": {
              "color": "#EBF0F8"
             },
             "line": {
              "color": "white"
             }
            },
            "header": {
             "fill": {
              "color": "#C8D4E3"
             },
             "line": {
              "color": "white"
             }
            },
            "type": "table"
           }
          ]
         },
         "layout": {
          "annotationdefaults": {
           "arrowcolor": "#2a3f5f",
           "arrowhead": 0,
           "arrowwidth": 1
          },
          "coloraxis": {
           "colorbar": {
            "outlinewidth": 0,
            "ticks": ""
           }
          },
          "colorscale": {
           "diverging": [
            [
             0,
             "#8e0152"
            ],
            [
             0.1,
             "#c51b7d"
            ],
            [
             0.2,
             "#de77ae"
            ],
            [
             0.3,
             "#f1b6da"
            ],
            [
             0.4,
             "#fde0ef"
            ],
            [
             0.5,
             "#f7f7f7"
            ],
            [
             0.6,
             "#e6f5d0"
            ],
            [
             0.7,
             "#b8e186"
            ],
            [
             0.8,
             "#7fbc41"
            ],
            [
             0.9,
             "#4d9221"
            ],
            [
             1,
             "#276419"
            ]
           ],
           "sequential": [
            [
             0,
             "#0d0887"
            ],
            [
             0.1111111111111111,
             "#46039f"
            ],
            [
             0.2222222222222222,
             "#7201a8"
            ],
            [
             0.3333333333333333,
             "#9c179e"
            ],
            [
             0.4444444444444444,
             "#bd3786"
            ],
            [
             0.5555555555555556,
             "#d8576b"
            ],
            [
             0.6666666666666666,
             "#ed7953"
            ],
            [
             0.7777777777777778,
             "#fb9f3a"
            ],
            [
             0.8888888888888888,
             "#fdca26"
            ],
            [
             1,
             "#f0f921"
            ]
           ],
           "sequentialminus": [
            [
             0,
             "#0d0887"
            ],
            [
             0.1111111111111111,
             "#46039f"
            ],
            [
             0.2222222222222222,
             "#7201a8"
            ],
            [
             0.3333333333333333,
             "#9c179e"
            ],
            [
             0.4444444444444444,
             "#bd3786"
            ],
            [
             0.5555555555555556,
             "#d8576b"
            ],
            [
             0.6666666666666666,
             "#ed7953"
            ],
            [
             0.7777777777777778,
             "#fb9f3a"
            ],
            [
             0.8888888888888888,
             "#fdca26"
            ],
            [
             1,
             "#f0f921"
            ]
           ]
          },
          "colorway": [
           "#636efa",
           "#EF553B",
           "#00cc96",
           "#ab63fa",
           "#FFA15A",
           "#19d3f3",
           "#FF6692",
           "#B6E880",
           "#FF97FF",
           "#FECB52"
          ],
          "font": {
           "color": "#2a3f5f"
          },
          "geo": {
           "bgcolor": "white",
           "lakecolor": "white",
           "landcolor": "#E5ECF6",
           "showlakes": true,
           "showland": true,
           "subunitcolor": "white"
          },
          "hoverlabel": {
           "align": "left"
          },
          "hovermode": "closest",
          "mapbox": {
           "style": "light"
          },
          "paper_bgcolor": "white",
          "plot_bgcolor": "#E5ECF6",
          "polar": {
           "angularaxis": {
            "gridcolor": "white",
            "linecolor": "white",
            "ticks": ""
           },
           "bgcolor": "#E5ECF6",
           "radialaxis": {
            "gridcolor": "white",
            "linecolor": "white",
            "ticks": ""
           }
          },
          "scene": {
           "xaxis": {
            "backgroundcolor": "#E5ECF6",
            "gridcolor": "white",
            "gridwidth": 2,
            "linecolor": "white",
            "showbackground": true,
            "ticks": "",
            "zerolinecolor": "white"
           },
           "yaxis": {
            "backgroundcolor": "#E5ECF6",
            "gridcolor": "white",
            "gridwidth": 2,
            "linecolor": "white",
            "showbackground": true,
            "ticks": "",
            "zerolinecolor": "white"
           },
           "zaxis": {
            "backgroundcolor": "#E5ECF6",
            "gridcolor": "white",
            "gridwidth": 2,
            "linecolor": "white",
            "showbackground": true,
            "ticks": "",
            "zerolinecolor": "white"
           }
          },
          "shapedefaults": {
           "line": {
            "color": "#2a3f5f"
           }
          },
          "ternary": {
           "aaxis": {
            "gridcolor": "white",
            "linecolor": "white",
            "ticks": ""
           },
           "baxis": {
            "gridcolor": "white",
            "linecolor": "white",
            "ticks": ""
           },
           "bgcolor": "#E5ECF6",
           "caxis": {
            "gridcolor": "white",
            "linecolor": "white",
            "ticks": ""
           }
          },
          "title": {
           "x": 0.05
          },
          "xaxis": {
           "automargin": true,
           "gridcolor": "white",
           "linecolor": "white",
           "ticks": "",
           "title": {
            "standoff": 15
           },
           "zerolinecolor": "white",
           "zerolinewidth": 2
          },
          "yaxis": {
           "automargin": true,
           "gridcolor": "white",
           "linecolor": "white",
           "ticks": "",
           "title": {
            "standoff": 15
           },
           "zerolinecolor": "white",
           "zerolinewidth": 2
          }
         }
        }
       }
      },
      "text/html": [
       "<div>\n",
       "        \n",
       "        \n",
       "            <div id=\"f022e6fd-704e-4d7f-b840-e61a468b0ddc\" class=\"plotly-graph-div\" style=\"height:525px; width:100%;\"></div>\n",
       "            <script type=\"text/javascript\">\n",
       "                require([\"plotly\"], function(Plotly) {\n",
       "                    window.PLOTLYENV=window.PLOTLYENV || {};\n",
       "                    \n",
       "                if (document.getElementById(\"f022e6fd-704e-4d7f-b840-e61a468b0ddc\")) {\n",
       "                    Plotly.newPlot(\n",
       "                        'f022e6fd-704e-4d7f-b840-e61a468b0ddc',\n",
       "                        [{\"coloraxis\": \"coloraxis\", \"geo\": \"geo\", \"hoverlabel\": {\"namelength\": 0}, \"hovertemplate\": \"locations=%{location}<br>color=%{z}\", \"locationmode\": \"USA-states\", \"locations\": [\"AL\", \"AK\", \"AZ\", \"AR\", \"CA\", \"CO\", \"CT\", \"DE\", \"FL\", \"GA\", \"HI\", \"ID\", \"IL\", \"IN\", \"IA\", \"KS\", \"KY\", \"LA\", \"ME\", \"MD\", \"MA\", \"MI\", \"MN\", \"MS\", \"MO\", \"MT\", \"NE\", \"NV\", \"NH\", \"NJ\", \"NM\", \"NY\", \"NC\", \"ND\", \"OH\", \"OK\", \"OR\", \"PA\", \"RI\", \"SC\", \"SD\", \"TN\", \"TX\", \"UT\", \"VT\", \"VA\", \"WA\", \"WV\", \"WI\", \"WY\"], \"name\": \"\", \"type\": \"choropleth\", \"z\": [-525.3564731463168, 150.3619102142385, -43.03497757983842, 12.31701095482504, -3.5252431253119676, 1.0089573792001079, -0.28877298865798434, 0.08264951592363105, -0.023655060378590134, 0.006770298352766945, -0.0019377223753343359, 0.0005545941712209491, -0.00015873001141310675, 4.5430005994721006e-05, -1.3002490369064248e-05, 3.7214337109542527e-06, -1.06510895004981e-06, 3.048440906355176e-07, -8.724921482544059e-08, 2.497153699711229e-08, -7.1470862086924395e-09, 2.045562565107172e-09, -5.854590368140166e-10, 1.6756382309393603e-10, -4.795832508223019e-11, 1.3726118813865286e-11, -3.9285429040589246e-12, 1.1243855279353763e-12, -3.218095986998952e-13, 9.210490107032024e-14, -2.6361279574772914e-14, 7.544843463745643e-15, -2.1594043919969966e-15, 6.180416267855815e-16, -1.7688926347256374e-16, 5.062735287686582e-17, -1.4490019399714808e-17, 4.147178358599369e-18, -1.1869610290772526e-18, 3.3971928929142113e-19, -9.723082113857417e-20, 2.782836558677605e-20, -7.964737129264338e-21, 2.279581865505841e-21, -6.524375377625423e-22, 1.8673369319298011e-22, -5.344492024948553e-23, 1.5296433394706013e-23, -4.377981546355282e-24, 1.2530190486666555e-24]}],\n",
       "                        {\"coloraxis\": {\"cmax\": 1, \"cmin\": 0, \"colorbar\": {\"title\": {\"text\": \"color\"}}, \"colorscale\": [[0.0, \"#0d0887\"], [0.1111111111111111, \"#46039f\"], [0.2222222222222222, \"#7201a8\"], [0.3333333333333333, \"#9c179e\"], [0.4444444444444444, \"#bd3786\"], [0.5555555555555556, \"#d8576b\"], [0.6666666666666666, \"#ed7953\"], [0.7777777777777778, \"#fb9f3a\"], [0.8888888888888888, \"#fdca26\"], [1.0, \"#f0f921\"]]}, \"geo\": {\"center\": {}, \"domain\": {\"x\": [0.0, 1.0], \"y\": [0.0, 1.0]}, \"scope\": \"usa\"}, \"legend\": {\"tracegroupgap\": 0}, \"margin\": {\"b\": 0, \"l\": 0, \"r\": 0, \"t\": 0}, \"template\": {\"data\": {\"bar\": [{\"error_x\": {\"color\": \"#2a3f5f\"}, \"error_y\": {\"color\": \"#2a3f5f\"}, \"marker\": {\"line\": {\"color\": \"#E5ECF6\", \"width\": 0.5}}, \"type\": \"bar\"}], \"barpolar\": [{\"marker\": {\"line\": {\"color\": \"#E5ECF6\", \"width\": 0.5}}, \"type\": \"barpolar\"}], \"carpet\": [{\"aaxis\": {\"endlinecolor\": \"#2a3f5f\", \"gridcolor\": \"white\", \"linecolor\": \"white\", \"minorgridcolor\": \"white\", \"startlinecolor\": \"#2a3f5f\"}, \"baxis\": {\"endlinecolor\": \"#2a3f5f\", \"gridcolor\": \"white\", \"linecolor\": \"white\", \"minorgridcolor\": \"white\", \"startlinecolor\": \"#2a3f5f\"}, \"type\": \"carpet\"}], \"choropleth\": [{\"colorbar\": {\"outlinewidth\": 0, \"ticks\": \"\"}, \"type\": \"choropleth\"}], \"contour\": [{\"colorbar\": {\"outlinewidth\": 0, \"ticks\": \"\"}, \"colorscale\": [[0.0, \"#0d0887\"], [0.1111111111111111, \"#46039f\"], [0.2222222222222222, \"#7201a8\"], [0.3333333333333333, \"#9c179e\"], [0.4444444444444444, \"#bd3786\"], [0.5555555555555556, \"#d8576b\"], [0.6666666666666666, \"#ed7953\"], [0.7777777777777778, \"#fb9f3a\"], [0.8888888888888888, \"#fdca26\"], [1.0, \"#f0f921\"]], \"type\": \"contour\"}], \"contourcarpet\": [{\"colorbar\": {\"outlinewidth\": 0, \"ticks\": \"\"}, \"type\": \"contourcarpet\"}], \"heatmap\": [{\"colorbar\": {\"outlinewidth\": 0, \"ticks\": \"\"}, \"colorscale\": [[0.0, \"#0d0887\"], [0.1111111111111111, \"#46039f\"], [0.2222222222222222, \"#7201a8\"], [0.3333333333333333, \"#9c179e\"], [0.4444444444444444, \"#bd3786\"], [0.5555555555555556, \"#d8576b\"], [0.6666666666666666, \"#ed7953\"], [0.7777777777777778, \"#fb9f3a\"], [0.8888888888888888, \"#fdca26\"], [1.0, \"#f0f921\"]], \"type\": \"heatmap\"}], \"heatmapgl\": [{\"colorbar\": {\"outlinewidth\": 0, \"ticks\": \"\"}, \"colorscale\": [[0.0, \"#0d0887\"], [0.1111111111111111, \"#46039f\"], [0.2222222222222222, \"#7201a8\"], [0.3333333333333333, \"#9c179e\"], [0.4444444444444444, \"#bd3786\"], [0.5555555555555556, \"#d8576b\"], [0.6666666666666666, \"#ed7953\"], [0.7777777777777778, \"#fb9f3a\"], [0.8888888888888888, \"#fdca26\"], [1.0, \"#f0f921\"]], \"type\": \"heatmapgl\"}], \"histogram\": [{\"marker\": {\"colorbar\": {\"outlinewidth\": 0, \"ticks\": \"\"}}, \"type\": \"histogram\"}], \"histogram2d\": [{\"colorbar\": {\"outlinewidth\": 0, \"ticks\": \"\"}, \"colorscale\": [[0.0, \"#0d0887\"], [0.1111111111111111, \"#46039f\"], [0.2222222222222222, \"#7201a8\"], [0.3333333333333333, \"#9c179e\"], [0.4444444444444444, \"#bd3786\"], [0.5555555555555556, \"#d8576b\"], [0.6666666666666666, \"#ed7953\"], [0.7777777777777778, \"#fb9f3a\"], [0.8888888888888888, \"#fdca26\"], [1.0, \"#f0f921\"]], \"type\": \"histogram2d\"}], \"histogram2dcontour\": [{\"colorbar\": {\"outlinewidth\": 0, \"ticks\": \"\"}, \"colorscale\": [[0.0, \"#0d0887\"], [0.1111111111111111, \"#46039f\"], [0.2222222222222222, \"#7201a8\"], [0.3333333333333333, \"#9c179e\"], [0.4444444444444444, \"#bd3786\"], [0.5555555555555556, \"#d8576b\"], [0.6666666666666666, \"#ed7953\"], [0.7777777777777778, \"#fb9f3a\"], [0.8888888888888888, \"#fdca26\"], [1.0, \"#f0f921\"]], \"type\": \"histogram2dcontour\"}], \"mesh3d\": [{\"colorbar\": {\"outlinewidth\": 0, \"ticks\": \"\"}, \"type\": \"mesh3d\"}], \"parcoords\": [{\"line\": {\"colorbar\": {\"outlinewidth\": 0, \"ticks\": \"\"}}, \"type\": \"parcoords\"}], \"pie\": [{\"automargin\": true, \"type\": \"pie\"}], \"scatter\": [{\"marker\": {\"colorbar\": {\"outlinewidth\": 0, \"ticks\": \"\"}}, \"type\": \"scatter\"}], \"scatter3d\": [{\"line\": {\"colorbar\": {\"outlinewidth\": 0, \"ticks\": \"\"}}, \"marker\": {\"colorbar\": {\"outlinewidth\": 0, \"ticks\": \"\"}}, \"type\": \"scatter3d\"}], \"scattercarpet\": [{\"marker\": {\"colorbar\": {\"outlinewidth\": 0, \"ticks\": \"\"}}, \"type\": \"scattercarpet\"}], \"scattergeo\": [{\"marker\": {\"colorbar\": {\"outlinewidth\": 0, \"ticks\": \"\"}}, \"type\": \"scattergeo\"}], \"scattergl\": [{\"marker\": {\"colorbar\": {\"outlinewidth\": 0, \"ticks\": \"\"}}, \"type\": \"scattergl\"}], \"scattermapbox\": [{\"marker\": {\"colorbar\": {\"outlinewidth\": 0, \"ticks\": \"\"}}, \"type\": \"scattermapbox\"}], \"scatterpolar\": [{\"marker\": {\"colorbar\": {\"outlinewidth\": 0, \"ticks\": \"\"}}, \"type\": \"scatterpolar\"}], \"scatterpolargl\": [{\"marker\": {\"colorbar\": {\"outlinewidth\": 0, \"ticks\": \"\"}}, \"type\": \"scatterpolargl\"}], \"scatterternary\": [{\"marker\": {\"colorbar\": {\"outlinewidth\": 0, \"ticks\": \"\"}}, \"type\": \"scatterternary\"}], \"surface\": [{\"colorbar\": {\"outlinewidth\": 0, \"ticks\": \"\"}, \"colorscale\": [[0.0, \"#0d0887\"], [0.1111111111111111, \"#46039f\"], [0.2222222222222222, \"#7201a8\"], [0.3333333333333333, \"#9c179e\"], [0.4444444444444444, \"#bd3786\"], [0.5555555555555556, \"#d8576b\"], [0.6666666666666666, \"#ed7953\"], [0.7777777777777778, \"#fb9f3a\"], [0.8888888888888888, \"#fdca26\"], [1.0, \"#f0f921\"]], \"type\": \"surface\"}], \"table\": [{\"cells\": {\"fill\": {\"color\": \"#EBF0F8\"}, \"line\": {\"color\": \"white\"}}, \"header\": {\"fill\": {\"color\": \"#C8D4E3\"}, \"line\": {\"color\": \"white\"}}, \"type\": \"table\"}]}, \"layout\": {\"annotationdefaults\": {\"arrowcolor\": \"#2a3f5f\", \"arrowhead\": 0, \"arrowwidth\": 1}, \"coloraxis\": {\"colorbar\": {\"outlinewidth\": 0, \"ticks\": \"\"}}, \"colorscale\": {\"diverging\": [[0, \"#8e0152\"], [0.1, \"#c51b7d\"], [0.2, \"#de77ae\"], [0.3, \"#f1b6da\"], [0.4, \"#fde0ef\"], [0.5, \"#f7f7f7\"], [0.6, \"#e6f5d0\"], [0.7, \"#b8e186\"], [0.8, \"#7fbc41\"], [0.9, \"#4d9221\"], [1, \"#276419\"]], \"sequential\": [[0.0, \"#0d0887\"], [0.1111111111111111, \"#46039f\"], [0.2222222222222222, \"#7201a8\"], [0.3333333333333333, \"#9c179e\"], [0.4444444444444444, \"#bd3786\"], [0.5555555555555556, \"#d8576b\"], [0.6666666666666666, \"#ed7953\"], [0.7777777777777778, \"#fb9f3a\"], [0.8888888888888888, \"#fdca26\"], [1.0, \"#f0f921\"]], \"sequentialminus\": [[0.0, \"#0d0887\"], [0.1111111111111111, \"#46039f\"], [0.2222222222222222, \"#7201a8\"], [0.3333333333333333, \"#9c179e\"], [0.4444444444444444, \"#bd3786\"], [0.5555555555555556, \"#d8576b\"], [0.6666666666666666, \"#ed7953\"], [0.7777777777777778, \"#fb9f3a\"], [0.8888888888888888, \"#fdca26\"], [1.0, \"#f0f921\"]]}, \"colorway\": [\"#636efa\", \"#EF553B\", \"#00cc96\", \"#ab63fa\", \"#FFA15A\", \"#19d3f3\", \"#FF6692\", \"#B6E880\", \"#FF97FF\", \"#FECB52\"], \"font\": {\"color\": \"#2a3f5f\"}, \"geo\": {\"bgcolor\": \"white\", \"lakecolor\": \"white\", \"landcolor\": \"#E5ECF6\", \"showlakes\": true, \"showland\": true, \"subunitcolor\": \"white\"}, \"hoverlabel\": {\"align\": \"left\"}, \"hovermode\": \"closest\", \"mapbox\": {\"style\": \"light\"}, \"paper_bgcolor\": \"white\", \"plot_bgcolor\": \"#E5ECF6\", \"polar\": {\"angularaxis\": {\"gridcolor\": \"white\", \"linecolor\": \"white\", \"ticks\": \"\"}, \"bgcolor\": \"#E5ECF6\", \"radialaxis\": {\"gridcolor\": \"white\", \"linecolor\": \"white\", \"ticks\": \"\"}}, \"scene\": {\"xaxis\": {\"backgroundcolor\": \"#E5ECF6\", \"gridcolor\": \"white\", \"gridwidth\": 2, \"linecolor\": \"white\", \"showbackground\": true, \"ticks\": \"\", \"zerolinecolor\": \"white\"}, \"yaxis\": {\"backgroundcolor\": \"#E5ECF6\", \"gridcolor\": \"white\", \"gridwidth\": 2, \"linecolor\": \"white\", \"showbackground\": true, \"ticks\": \"\", \"zerolinecolor\": \"white\"}, \"zaxis\": {\"backgroundcolor\": \"#E5ECF6\", \"gridcolor\": \"white\", \"gridwidth\": 2, \"linecolor\": \"white\", \"showbackground\": true, \"ticks\": \"\", \"zerolinecolor\": \"white\"}}, \"shapedefaults\": {\"line\": {\"color\": \"#2a3f5f\"}}, \"ternary\": {\"aaxis\": {\"gridcolor\": \"white\", \"linecolor\": \"white\", \"ticks\": \"\"}, \"baxis\": {\"gridcolor\": \"white\", \"linecolor\": \"white\", \"ticks\": \"\"}, \"bgcolor\": \"#E5ECF6\", \"caxis\": {\"gridcolor\": \"white\", \"linecolor\": \"white\", \"ticks\": \"\"}}, \"title\": {\"x\": 0.05}, \"xaxis\": {\"automargin\": true, \"gridcolor\": \"white\", \"linecolor\": \"white\", \"ticks\": \"\", \"title\": {\"standoff\": 15}, \"zerolinecolor\": \"white\", \"zerolinewidth\": 2}, \"yaxis\": {\"automargin\": true, \"gridcolor\": \"white\", \"linecolor\": \"white\", \"ticks\": \"\", \"title\": {\"standoff\": 15}, \"zerolinecolor\": \"white\", \"zerolinewidth\": 2}}}},\n",
       "                        {\"responsive\": true}\n",
       "                    ).then(function(){\n",
       "                            \n",
       "var gd = document.getElementById('f022e6fd-704e-4d7f-b840-e61a468b0ddc');\n",
       "var x = new MutationObserver(function (mutations, observer) {{\n",
       "        var display = window.getComputedStyle(gd).display;\n",
       "        if (!display || display === 'none') {{\n",
       "            console.log([gd, 'removed!']);\n",
       "            Plotly.purge(gd);\n",
       "            observer.disconnect();\n",
       "        }}\n",
       "}});\n",
       "\n",
       "// Listen for the removal of the full notebook cells\n",
       "var notebookContainer = gd.closest('#notebook-container');\n",
       "if (notebookContainer) {{\n",
       "    x.observe(notebookContainer, {childList: true});\n",
       "}}\n",
       "\n",
       "// Listen for the clearing of the current output cell\n",
       "var outputEl = gd.closest('.output');\n",
       "if (outputEl) {{\n",
       "    x.observe(outputEl, {childList: true});\n",
       "}}\n",
       "\n",
       "                        })\n",
       "                };\n",
       "                });\n",
       "            </script>\n",
       "        </div>"
      ]
     },
     "metadata": {},
     "output_type": "display_data"
    }
   ],
   "source": [
    "with urlopen('https://raw.githubusercontent.com/plotly/datasets/master/geojson-counties-fips.json') as response:\n",
    "    counties = json.load(response)\n",
    "df = dynamic.real\n",
    "fig = px.choropleth(df,    locations=statesA,  \n",
    "                           locationmode=\"USA-states\",\n",
    "                           color=dynamic.real,\n",
    "                           range_color=(0, 1),\n",
    "                           scope=\"usa\",\n",
    "                          )\n",
    "fig.update_layout(margin={\"r\":0,\"t\":0,\"l\":0,\"b\":0})\n",
    "fig.show()"
   ]
  },
  {
   "cell_type": "code",
   "execution_count": null,
   "metadata": {},
   "outputs": [],
   "source": []
  }
 ],
 "metadata": {
  "kernelspec": {
   "display_name": "Python 3",
   "language": "python",
   "name": "python3"
  },
  "language_info": {
   "codemirror_mode": {
    "name": "ipython",
    "version": 3
   },
   "file_extension": ".py",
   "mimetype": "text/x-python",
   "name": "python",
   "nbconvert_exporter": "python",
   "pygments_lexer": "ipython3",
   "version": "3.7.7"
  }
 },
 "nbformat": 4,
 "nbformat_minor": 2
}
